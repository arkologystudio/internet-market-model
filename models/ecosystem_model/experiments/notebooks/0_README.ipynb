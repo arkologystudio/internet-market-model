{
 "cells": [
  {
   "cell_type": "markdown",
   "id": "f959b450",
   "metadata": {},
   "source": [
    "# Experiment README"
   ]
  },
  {
   "cell_type": "markdown",
   "id": "afd28658",
   "metadata": {},
   "source": [
    "## Table of Contents\n",
    "\n",
    "* [Overview of Experiment Architecture](#Overview-of-Experiment-Architecture)\n",
    "* [Experiment Workflow](#Experiment-Workflow)\n",
    "    * [Modifying State Variables](#Modifying-State-Variables)\n",
    "    * [Modifying System Parameters](#Modifying-System-Parameters)\n",
    "    * [Executing Experiments](#Executing-Experiments)\n",
    "    * [Post-processing and Analysing Results](#Post-processing-and-Analysing-Results)\n",
    "    * [Visualizing Results](#Visualizing-Results)\n",
    "* [Creating New, Customized Experiment Notebooks](#Creating-New,-Customized-Experiment-Notebooks)\n",
    "    * Step 1: Select an experiment template\n",
    "    * Step 2: Create a new notebook\n",
    "    * Step 3: Customize the experiment\n",
    "    * Step 4: Execute the experiment\n",
    "* [Advanced Experiment-configuration & Simulation Techniques](#Advanced-Experiment-configuration-&-Simulation-Techniques)\n",
    "    * [Setting Simulation Timesteps and Unit of Time `dt`](#Setting-Simulation-Timesteps-and-Unit-of-Time-dt)\n",
    "    * [Changing the Ethereum Network Upgrade Stage](#Changing-the-Ethereum-Network-Upgrade-Stage)\n",
    "    * [Performing Large-scale Experiments](#Performing-Large-scale-Experiments)"
   ]
  },
  {
   "cell_type": "markdown",
   "id": "5335577a",
   "metadata": {},
   "source": [
    "# Overview of Experiment Architecture\n",
    "\n",
    "The experiment architecture is composed of the following four elements – the **model**, **default experiment**, **experiment templates**, and **experiment notebooks**:\n",
    "\n",
    "1. The **model** is initialized with a default Initial State and set of System Parameters defined in the `model` module.\n",
    "2. The **default experiment** – in the `experiments.default_experiment` module – is an experiment composed of a single simulation that uses the default cadCAD **model** Initial State and System Parameters. Additional default simulation execution settings such as the number of timesteps and runs are also set in the **default experiment**.\n",
    "3. The **experiment templates** – in the `experiments.templates` module – contain pre-configured analyses based on the **default experiment**. Examples include `experiments.templates.time_domain_analysis` (simulation in the time-domain over a period of 5 years) and `experiments.templates.eth_price_sweep_analysis` (simulation in the phase-space sweeping over discrete ETH Price values).\n",
    "4. The **experiment notebooks** perform various scenario analyses by importing existing **experiment templates**, optionally modifying the Initial State and System Parameters within the notebook, and then executing them."
   ]
  },
  {
   "cell_type": "markdown",
   "id": "34345968",
   "metadata": {},
   "source": [
    "# Experiment Workflow\n",
    "\n",
    "If you just want to run (execute) existing experiment notebooks, simply open the respective notebook and execute all cells."
   ]
  },
  {
   "cell_type": "markdown",
   "id": "6a3d6ab4",
   "metadata": {},
   "source": [
    "Depending on the chosen template and planned analysis, the required imports might differ slightly from the below standard dependencies:"
   ]
  },
  {
   "cell_type": "code",
   "execution_count": 1,
   "id": "80e70b16",
   "metadata": {},
   "outputs": [
    {
     "name": "stdout",
     "output_type": "stream",
     "text": [
      "time: 454 ms (started: 2021-09-13 11:56:09 +02:00)\n"
     ]
    }
   ],
   "source": [
    "# Import the setup module:\n",
    "# * sets up the Python path\n",
    "# * runs shared notebook-configuration methods, such as loading IPython modules\n",
    "import setup\n",
    "\n",
    "# External dependencies\n",
    "import copy\n",
    "import logging\n",
    "import numpy as np\n",
    "import pandas as pd\n",
    "import plotly.express as px\n",
    "from pprint import pprint\n",
    "\n",
    "# Project dependencies\n",
    "from experiments.run import run\n",
    "from experiments.utils import display_code"
   ]
  },
  {
   "cell_type": "markdown",
   "id": "8344e095",
   "metadata": {},
   "source": [
    "We can then import the default experiment, and create a copy of the simulation object – we create a new copy for each analysis we'd like to perform:"
   ]
  },
  {
   "cell_type": "code",
   "execution_count": 2,
   "id": "9a789f32",
   "metadata": {},
   "outputs": [
    {
     "name": "stdout",
     "output_type": "stream",
     "text": [
      "time: 16.5 ms (started: 2021-09-13 11:56:09 +02:00)\n"
     ]
    }
   ],
   "source": [
    "import experiments.default_experiment as default_experiment\n",
    "import experiments.templates.time_domain_analysis as time_domain_analysis\n",
    "\n",
    "simulation_analysis_1 = copy.deepcopy(default_experiment.experiment.simulations[0])\n",
    "simulation_analysis_2 = copy.deepcopy(time_domain_analysis.experiment.simulations[0])"
   ]
  },
  {
   "cell_type": "markdown",
   "id": "b9460b62",
   "metadata": {},
   "source": [
    "We can use the `display_code` method to see the configuration of the default experiment before making changes:"
   ]
  },
  {
   "cell_type": "code",
   "execution_count": 3,
   "id": "df71671c",
   "metadata": {},
   "outputs": [
    {
     "data": {
      "text/html": [
       "<style>pre { line-height: 125%; }\n",
       "td.linenos .normal { color: inherit; background-color: transparent; padding-left: 5px; padding-right: 5px; }\n",
       "span.linenos { color: inherit; background-color: transparent; padding-left: 5px; padding-right: 5px; }\n",
       "td.linenos .special { color: #000000; background-color: #ffffc0; padding-left: 5px; padding-right: 5px; }\n",
       "span.linenos.special { color: #000000; background-color: #ffffc0; padding-left: 5px; padding-right: 5px; }\n",
       ".highlight .hll { background-color: #ffffcc }\n",
       ".highlight { background: #f8f8f8; }\n",
       ".highlight .c { color: #408080; font-style: italic } /* Comment */\n",
       ".highlight .err { border: 1px solid #FF0000 } /* Error */\n",
       ".highlight .k { color: #008000; font-weight: bold } /* Keyword */\n",
       ".highlight .o { color: #666666 } /* Operator */\n",
       ".highlight .ch { color: #408080; font-style: italic } /* Comment.Hashbang */\n",
       ".highlight .cm { color: #408080; font-style: italic } /* Comment.Multiline */\n",
       ".highlight .cp { color: #BC7A00 } /* Comment.Preproc */\n",
       ".highlight .cpf { color: #408080; font-style: italic } /* Comment.PreprocFile */\n",
       ".highlight .c1 { color: #408080; font-style: italic } /* Comment.Single */\n",
       ".highlight .cs { color: #408080; font-style: italic } /* Comment.Special */\n",
       ".highlight .gd { color: #A00000 } /* Generic.Deleted */\n",
       ".highlight .ge { font-style: italic } /* Generic.Emph */\n",
       ".highlight .gr { color: #FF0000 } /* Generic.Error */\n",
       ".highlight .gh { color: #000080; font-weight: bold } /* Generic.Heading */\n",
       ".highlight .gi { color: #00A000 } /* Generic.Inserted */\n",
       ".highlight .go { color: #888888 } /* Generic.Output */\n",
       ".highlight .gp { color: #000080; font-weight: bold } /* Generic.Prompt */\n",
       ".highlight .gs { font-weight: bold } /* Generic.Strong */\n",
       ".highlight .gu { color: #800080; font-weight: bold } /* Generic.Subheading */\n",
       ".highlight .gt { color: #0044DD } /* Generic.Traceback */\n",
       ".highlight .kc { color: #008000; font-weight: bold } /* Keyword.Constant */\n",
       ".highlight .kd { color: #008000; font-weight: bold } /* Keyword.Declaration */\n",
       ".highlight .kn { color: #008000; font-weight: bold } /* Keyword.Namespace */\n",
       ".highlight .kp { color: #008000 } /* Keyword.Pseudo */\n",
       ".highlight .kr { color: #008000; font-weight: bold } /* Keyword.Reserved */\n",
       ".highlight .kt { color: #B00040 } /* Keyword.Type */\n",
       ".highlight .m { color: #666666 } /* Literal.Number */\n",
       ".highlight .s { color: #BA2121 } /* Literal.String */\n",
       ".highlight .na { color: #7D9029 } /* Name.Attribute */\n",
       ".highlight .nb { color: #008000 } /* Name.Builtin */\n",
       ".highlight .nc { color: #0000FF; font-weight: bold } /* Name.Class */\n",
       ".highlight .no { color: #880000 } /* Name.Constant */\n",
       ".highlight .nd { color: #AA22FF } /* Name.Decorator */\n",
       ".highlight .ni { color: #999999; font-weight: bold } /* Name.Entity */\n",
       ".highlight .ne { color: #D2413A; font-weight: bold } /* Name.Exception */\n",
       ".highlight .nf { color: #0000FF } /* Name.Function */\n",
       ".highlight .nl { color: #A0A000 } /* Name.Label */\n",
       ".highlight .nn { color: #0000FF; font-weight: bold } /* Name.Namespace */\n",
       ".highlight .nt { color: #008000; font-weight: bold } /* Name.Tag */\n",
       ".highlight .nv { color: #19177C } /* Name.Variable */\n",
       ".highlight .ow { color: #AA22FF; font-weight: bold } /* Operator.Word */\n",
       ".highlight .w { color: #bbbbbb } /* Text.Whitespace */\n",
       ".highlight .mb { color: #666666 } /* Literal.Number.Bin */\n",
       ".highlight .mf { color: #666666 } /* Literal.Number.Float */\n",
       ".highlight .mh { color: #666666 } /* Literal.Number.Hex */\n",
       ".highlight .mi { color: #666666 } /* Literal.Number.Integer */\n",
       ".highlight .mo { color: #666666 } /* Literal.Number.Oct */\n",
       ".highlight .sa { color: #BA2121 } /* Literal.String.Affix */\n",
       ".highlight .sb { color: #BA2121 } /* Literal.String.Backtick */\n",
       ".highlight .sc { color: #BA2121 } /* Literal.String.Char */\n",
       ".highlight .dl { color: #BA2121 } /* Literal.String.Delimiter */\n",
       ".highlight .sd { color: #BA2121; font-style: italic } /* Literal.String.Doc */\n",
       ".highlight .s2 { color: #BA2121 } /* Literal.String.Double */\n",
       ".highlight .se { color: #BB6622; font-weight: bold } /* Literal.String.Escape */\n",
       ".highlight .sh { color: #BA2121 } /* Literal.String.Heredoc */\n",
       ".highlight .si { color: #BB6688; font-weight: bold } /* Literal.String.Interpol */\n",
       ".highlight .sx { color: #008000 } /* Literal.String.Other */\n",
       ".highlight .sr { color: #BB6688 } /* Literal.String.Regex */\n",
       ".highlight .s1 { color: #BA2121 } /* Literal.String.Single */\n",
       ".highlight .ss { color: #19177C } /* Literal.String.Symbol */\n",
       ".highlight .bp { color: #008000 } /* Name.Builtin.Pseudo */\n",
       ".highlight .fm { color: #0000FF } /* Name.Function.Magic */\n",
       ".highlight .vc { color: #19177C } /* Name.Variable.Class */\n",
       ".highlight .vg { color: #19177C } /* Name.Variable.Global */\n",
       ".highlight .vi { color: #19177C } /* Name.Variable.Instance */\n",
       ".highlight .vm { color: #19177C } /* Name.Variable.Magic */\n",
       ".highlight .il { color: #666666 } /* Literal.Number.Integer.Long */</style>"
      ],
      "text/plain": [
       "<IPython.core.display.HTML object>"
      ]
     },
     "metadata": {},
     "output_type": "display_data"
    },
    {
     "data": {
      "text/html": [
       "<style>pre { line-height: 125%; }\n",
       "td.linenos .normal { color: inherit; background-color: transparent; padding-left: 5px; padding-right: 5px; }\n",
       "span.linenos { color: inherit; background-color: transparent; padding-left: 5px; padding-right: 5px; }\n",
       "td.linenos .special { color: #000000; background-color: #ffffc0; padding-left: 5px; padding-right: 5px; }\n",
       "span.linenos.special { color: #000000; background-color: #ffffc0; padding-left: 5px; padding-right: 5px; }\n",
       ".output_html .hll { background-color: #ffffcc }\n",
       ".output_html { background: #f8f8f8; }\n",
       ".output_html .c { color: #408080; font-style: italic } /* Comment */\n",
       ".output_html .err { border: 1px solid #FF0000 } /* Error */\n",
       ".output_html .k { color: #008000; font-weight: bold } /* Keyword */\n",
       ".output_html .o { color: #666666 } /* Operator */\n",
       ".output_html .ch { color: #408080; font-style: italic } /* Comment.Hashbang */\n",
       ".output_html .cm { color: #408080; font-style: italic } /* Comment.Multiline */\n",
       ".output_html .cp { color: #BC7A00 } /* Comment.Preproc */\n",
       ".output_html .cpf { color: #408080; font-style: italic } /* Comment.PreprocFile */\n",
       ".output_html .c1 { color: #408080; font-style: italic } /* Comment.Single */\n",
       ".output_html .cs { color: #408080; font-style: italic } /* Comment.Special */\n",
       ".output_html .gd { color: #A00000 } /* Generic.Deleted */\n",
       ".output_html .ge { font-style: italic } /* Generic.Emph */\n",
       ".output_html .gr { color: #FF0000 } /* Generic.Error */\n",
       ".output_html .gh { color: #000080; font-weight: bold } /* Generic.Heading */\n",
       ".output_html .gi { color: #00A000 } /* Generic.Inserted */\n",
       ".output_html .go { color: #888888 } /* Generic.Output */\n",
       ".output_html .gp { color: #000080; font-weight: bold } /* Generic.Prompt */\n",
       ".output_html .gs { font-weight: bold } /* Generic.Strong */\n",
       ".output_html .gu { color: #800080; font-weight: bold } /* Generic.Subheading */\n",
       ".output_html .gt { color: #0044DD } /* Generic.Traceback */\n",
       ".output_html .kc { color: #008000; font-weight: bold } /* Keyword.Constant */\n",
       ".output_html .kd { color: #008000; font-weight: bold } /* Keyword.Declaration */\n",
       ".output_html .kn { color: #008000; font-weight: bold } /* Keyword.Namespace */\n",
       ".output_html .kp { color: #008000 } /* Keyword.Pseudo */\n",
       ".output_html .kr { color: #008000; font-weight: bold } /* Keyword.Reserved */\n",
       ".output_html .kt { color: #B00040 } /* Keyword.Type */\n",
       ".output_html .m { color: #666666 } /* Literal.Number */\n",
       ".output_html .s { color: #BA2121 } /* Literal.String */\n",
       ".output_html .na { color: #7D9029 } /* Name.Attribute */\n",
       ".output_html .nb { color: #008000 } /* Name.Builtin */\n",
       ".output_html .nc { color: #0000FF; font-weight: bold } /* Name.Class */\n",
       ".output_html .no { color: #880000 } /* Name.Constant */\n",
       ".output_html .nd { color: #AA22FF } /* Name.Decorator */\n",
       ".output_html .ni { color: #999999; font-weight: bold } /* Name.Entity */\n",
       ".output_html .ne { color: #D2413A; font-weight: bold } /* Name.Exception */\n",
       ".output_html .nf { color: #0000FF } /* Name.Function */\n",
       ".output_html .nl { color: #A0A000 } /* Name.Label */\n",
       ".output_html .nn { color: #0000FF; font-weight: bold } /* Name.Namespace */\n",
       ".output_html .nt { color: #008000; font-weight: bold } /* Name.Tag */\n",
       ".output_html .nv { color: #19177C } /* Name.Variable */\n",
       ".output_html .ow { color: #AA22FF; font-weight: bold } /* Operator.Word */\n",
       ".output_html .w { color: #bbbbbb } /* Text.Whitespace */\n",
       ".output_html .mb { color: #666666 } /* Literal.Number.Bin */\n",
       ".output_html .mf { color: #666666 } /* Literal.Number.Float */\n",
       ".output_html .mh { color: #666666 } /* Literal.Number.Hex */\n",
       ".output_html .mi { color: #666666 } /* Literal.Number.Integer */\n",
       ".output_html .mo { color: #666666 } /* Literal.Number.Oct */\n",
       ".output_html .sa { color: #BA2121 } /* Literal.String.Affix */\n",
       ".output_html .sb { color: #BA2121 } /* Literal.String.Backtick */\n",
       ".output_html .sc { color: #BA2121 } /* Literal.String.Char */\n",
       ".output_html .dl { color: #BA2121 } /* Literal.String.Delimiter */\n",
       ".output_html .sd { color: #BA2121; font-style: italic } /* Literal.String.Doc */\n",
       ".output_html .s2 { color: #BA2121 } /* Literal.String.Double */\n",
       ".output_html .se { color: #BB6622; font-weight: bold } /* Literal.String.Escape */\n",
       ".output_html .sh { color: #BA2121 } /* Literal.String.Heredoc */\n",
       ".output_html .si { color: #BB6688; font-weight: bold } /* Literal.String.Interpol */\n",
       ".output_html .sx { color: #008000 } /* Literal.String.Other */\n",
       ".output_html .sr { color: #BB6688 } /* Literal.String.Regex */\n",
       ".output_html .s1 { color: #BA2121 } /* Literal.String.Single */\n",
       ".output_html .ss { color: #19177C } /* Literal.String.Symbol */\n",
       ".output_html .bp { color: #008000 } /* Name.Builtin.Pseudo */\n",
       ".output_html .fm { color: #0000FF } /* Name.Function.Magic */\n",
       ".output_html .vc { color: #19177C } /* Name.Variable.Class */\n",
       ".output_html .vg { color: #19177C } /* Name.Variable.Global */\n",
       ".output_html .vi { color: #19177C } /* Name.Variable.Instance */\n",
       ".output_html .vm { color: #19177C } /* Name.Variable.Magic */\n",
       ".output_html .il { color: #666666 } /* Literal.Number.Integer.Long */</style><div class=\"highlight\"><pre><span></span><span class=\"sd\">&quot;&quot;&quot;</span>\n",
       "<span class=\"sd\">The default experiment with default model Initial State, System Parameters, and Simulation Configuration.</span>\n",
       "\n",
       "<span class=\"sd\">The defaults are defined in their respective modules:</span>\n",
       "<span class=\"sd\">* Initial State in `model/state_variables.py`</span>\n",
       "<span class=\"sd\">* System Parameters in `model/system_parameters.py`</span>\n",
       "<span class=\"sd\">* Simulation Configuration in `experiments/simulation_configuration.py`</span>\n",
       "<span class=\"sd\">&quot;&quot;&quot;</span>\n",
       "\n",
       "<span class=\"kn\">from</span> <span class=\"nn\">radcad</span> <span class=\"kn\">import</span> <span class=\"n\">Simulation</span><span class=\"p\">,</span> <span class=\"n\">Experiment</span><span class=\"p\">,</span> <span class=\"n\">Backend</span>\n",
       "\n",
       "<span class=\"kn\">from</span> <span class=\"nn\">model</span> <span class=\"kn\">import</span> <span class=\"n\">model</span>\n",
       "<span class=\"kn\">from</span> <span class=\"nn\">experiments.simulation_configuration</span> <span class=\"kn\">import</span> <span class=\"n\">TIMESTEPS</span><span class=\"p\">,</span> <span class=\"n\">MONTE_CARLO_RUNS</span>\n",
       "\n",
       "\n",
       "<span class=\"c1\"># Create Model Simulation</span>\n",
       "<span class=\"n\">simulation</span> <span class=\"o\">=</span> <span class=\"n\">Simulation</span><span class=\"p\">(</span>\n",
       "    <span class=\"n\">model</span><span class=\"o\">=</span><span class=\"n\">model</span><span class=\"p\">,</span>\n",
       "    <span class=\"n\">timesteps</span><span class=\"o\">=</span><span class=\"n\">TIMESTEPS</span><span class=\"p\">,</span>\n",
       "    <span class=\"n\">runs</span><span class=\"o\">=</span><span class=\"n\">MONTE_CARLO_RUNS</span>\n",
       "<span class=\"p\">)</span>\n",
       "<span class=\"c1\"># Create Experiment of single Simulation</span>\n",
       "<span class=\"n\">experiment</span> <span class=\"o\">=</span> <span class=\"n\">Experiment</span><span class=\"p\">([</span><span class=\"n\">simulation</span><span class=\"p\">])</span>\n",
       "<span class=\"c1\"># Configure Simulation &amp; Experiment engine</span>\n",
       "<span class=\"n\">simulation</span><span class=\"o\">.</span><span class=\"n\">engine</span> <span class=\"o\">=</span> <span class=\"n\">experiment</span><span class=\"o\">.</span><span class=\"n\">engine</span>\n",
       "<span class=\"n\">experiment</span><span class=\"o\">.</span><span class=\"n\">engine</span><span class=\"o\">.</span><span class=\"n\">backend</span> <span class=\"o\">=</span> <span class=\"n\">Backend</span><span class=\"o\">.</span><span class=\"n\">SINGLE_PROCESS</span>\n",
       "<span class=\"n\">experiment</span><span class=\"o\">.</span><span class=\"n\">engine</span><span class=\"o\">.</span><span class=\"n\">deepcopy</span> <span class=\"o\">=</span> <span class=\"kc\">False</span>\n",
       "<span class=\"n\">experiment</span><span class=\"o\">.</span><span class=\"n\">engine</span><span class=\"o\">.</span><span class=\"n\">drop_substeps</span> <span class=\"o\">=</span> <span class=\"kc\">True</span>\n",
       "</pre></div>\n"
      ],
      "text/latex": [
       "\\begin{Verbatim}[commandchars=\\\\\\{\\}]\n",
       "\\PY{l+s+sd}{\\PYZdq{}\\PYZdq{}\\PYZdq{}}\n",
       "\\PY{l+s+sd}{The default experiment with default model Initial State, System Parameters, and Simulation Configuration.}\n",
       "\n",
       "\\PY{l+s+sd}{The defaults are defined in their respective modules:}\n",
       "\\PY{l+s+sd}{* Initial State in `model/state\\PYZus{}variables.py`}\n",
       "\\PY{l+s+sd}{* System Parameters in `model/system\\PYZus{}parameters.py`}\n",
       "\\PY{l+s+sd}{* Simulation Configuration in `experiments/simulation\\PYZus{}configuration.py`}\n",
       "\\PY{l+s+sd}{\\PYZdq{}\\PYZdq{}\\PYZdq{}}\n",
       "\n",
       "\\PY{k+kn}{from} \\PY{n+nn}{radcad} \\PY{k+kn}{import} \\PY{n}{Simulation}\\PY{p}{,} \\PY{n}{Experiment}\\PY{p}{,} \\PY{n}{Backend}\n",
       "\n",
       "\\PY{k+kn}{from} \\PY{n+nn}{model} \\PY{k+kn}{import} \\PY{n}{model}\n",
       "\\PY{k+kn}{from} \\PY{n+nn}{experiments}\\PY{n+nn}{.}\\PY{n+nn}{simulation\\PYZus{}configuration} \\PY{k+kn}{import} \\PY{n}{TIMESTEPS}\\PY{p}{,} \\PY{n}{MONTE\\PYZus{}CARLO\\PYZus{}RUNS}\n",
       "\n",
       "\n",
       "\\PY{c+c1}{\\PYZsh{} Create Model Simulation}\n",
       "\\PY{n}{simulation} \\PY{o}{=} \\PY{n}{Simulation}\\PY{p}{(}\n",
       "    \\PY{n}{model}\\PY{o}{=}\\PY{n}{model}\\PY{p}{,}\n",
       "    \\PY{n}{timesteps}\\PY{o}{=}\\PY{n}{TIMESTEPS}\\PY{p}{,}\n",
       "    \\PY{n}{runs}\\PY{o}{=}\\PY{n}{MONTE\\PYZus{}CARLO\\PYZus{}RUNS}\n",
       "\\PY{p}{)}\n",
       "\\PY{c+c1}{\\PYZsh{} Create Experiment of single Simulation}\n",
       "\\PY{n}{experiment} \\PY{o}{=} \\PY{n}{Experiment}\\PY{p}{(}\\PY{p}{[}\\PY{n}{simulation}\\PY{p}{]}\\PY{p}{)}\n",
       "\\PY{c+c1}{\\PYZsh{} Configure Simulation \\PYZam{} Experiment engine}\n",
       "\\PY{n}{simulation}\\PY{o}{.}\\PY{n}{engine} \\PY{o}{=} \\PY{n}{experiment}\\PY{o}{.}\\PY{n}{engine}\n",
       "\\PY{n}{experiment}\\PY{o}{.}\\PY{n}{engine}\\PY{o}{.}\\PY{n}{backend} \\PY{o}{=} \\PY{n}{Backend}\\PY{o}{.}\\PY{n}{SINGLE\\PYZus{}PROCESS}\n",
       "\\PY{n}{experiment}\\PY{o}{.}\\PY{n}{engine}\\PY{o}{.}\\PY{n}{deepcopy} \\PY{o}{=} \\PY{k+kc}{False}\n",
       "\\PY{n}{experiment}\\PY{o}{.}\\PY{n}{engine}\\PY{o}{.}\\PY{n}{drop\\PYZus{}substeps} \\PY{o}{=} \\PY{k+kc}{True}\n",
       "\\end{Verbatim}\n"
      ],
      "text/plain": [
       "\"\"\"\n",
       "The default experiment with default model Initial State, System Parameters, and Simulation Configuration.\n",
       "\n",
       "The defaults are defined in their respective modules:\n",
       "* Initial State in `model/state_variables.py`\n",
       "* System Parameters in `model/system_parameters.py`\n",
       "* Simulation Configuration in `experiments/simulation_configuration.py`\n",
       "\"\"\"\n",
       "\n",
       "from radcad import Simulation, Experiment, Backend\n",
       "\n",
       "from model import model\n",
       "from experiments.simulation_configuration import TIMESTEPS, MONTE_CARLO_RUNS\n",
       "\n",
       "\n",
       "# Create Model Simulation\n",
       "simulation = Simulation(\n",
       "    model=model,\n",
       "    timesteps=TIMESTEPS,\n",
       "    runs=MONTE_CARLO_RUNS\n",
       ")\n",
       "# Create Experiment of single Simulation\n",
       "experiment = Experiment([simulation])\n",
       "# Configure Simulation & Experiment engine\n",
       "simulation.engine = experiment.engine\n",
       "experiment.engine.backend = Backend.SINGLE_PROCESS\n",
       "experiment.engine.deepcopy = False\n",
       "experiment.engine.drop_substeps = True"
      ]
     },
     "execution_count": 3,
     "metadata": {},
     "output_type": "execute_result"
    },
    {
     "name": "stdout",
     "output_type": "stream",
     "text": [
      "time: 86.9 ms (started: 2021-09-13 11:56:09 +02:00)\n"
     ]
    }
   ],
   "source": [
    "display_code(default_experiment)"
   ]
  },
  {
   "cell_type": "markdown",
   "id": "04bd7d53",
   "metadata": {},
   "source": [
    "## Modifying State Variables"
   ]
  },
  {
   "cell_type": "markdown",
   "id": "5807d1db",
   "metadata": {},
   "source": [
    "To view what the Initial State (radCAD model-configuration setting `initial_state`) of the State Variables are, and to what value they have been set, we can inspect the dictionary as follows:"
   ]
  },
  {
   "cell_type": "code",
   "execution_count": 4,
   "id": "466f9f7f",
   "metadata": {},
   "outputs": [
    {
     "name": "stdout",
     "output_type": "stream",
     "text": [
      "{'avg_price': 5,\n",
      " 'clients': 1,\n",
      " 'hosts': 1,\n",
      " 'indicated_network_demand': 10,\n",
      " 'network_allocation': 0,\n",
      " 'network_capacity': 1000,\n",
      " 'network_penetration': 0,\n",
      " 'potential_users': 10000,\n",
      " 'timestamp': 0}\n",
      "time: 15 ms (started: 2021-09-13 11:56:09 +02:00)\n"
     ]
    }
   ],
   "source": [
    "pprint(simulation_analysis_1.model.initial_state)"
   ]
  },
  {
   "cell_type": "markdown",
   "id": "0f20397e",
   "metadata": {},
   "source": [
    "To modify the value of **State Variables** for a specific analysis, you need to select the relevant simulation and update the chosen model Initial State. For example, updating the `eth_supply` Initial State to `100e6` (100 million ETH):"
   ]
  },
  {
   "cell_type": "code",
   "execution_count": 5,
   "id": "c6ac17d6",
   "metadata": {},
   "outputs": [
    {
     "name": "stdout",
     "output_type": "stream",
     "text": [
      "time: 21.9 ms (started: 2021-09-13 11:56:09 +02:00)\n"
     ]
    }
   ],
   "source": [
    "simulation_analysis_1.model.initial_state.update({\n",
    "    \"hosts\": 10, \n",
    "    \"clients\": 100\n",
    "})"
   ]
  },
  {
   "cell_type": "markdown",
   "id": "2cb589e5",
   "metadata": {},
   "source": [
    "## Modifying System Parameters"
   ]
  },
  {
   "cell_type": "markdown",
   "id": "fbdcf7ed",
   "metadata": {},
   "source": [
    "To view what the System Parameters (radCAD model configuration setting `params`) are, and to what value they have been set, we can inspect the dictionary as follows:"
   ]
  },
  {
   "cell_type": "code",
   "execution_count": 6,
   "id": "aacdf992",
   "metadata": {},
   "outputs": [
    {
     "name": "stdout",
     "output_type": "stream",
     "text": [
      "{'MIN_min_expected_fulfillment': [0.33],\n",
      " 'avg_client_allocation': [10],\n",
      " 'avg_host_line': [1000],\n",
      " 'avg_reserve_capacity': [0.25],\n",
      " 'client_competitor_price': [0.5],\n",
      " 'client_registration_delay': [7],\n",
      " 'host_line_cost': [0.5],\n",
      " 'host_setup_delay': [60],\n",
      " 'host_technical_difficulty': [0.25],\n",
      " 'initial_population': [10000],\n",
      " 'network_inefficiencies': [0.25],\n",
      " 'onboarding_coefficient': [0.1],\n",
      " 'price_change_delay': [14]}\n",
      "time: 24.6 ms (started: 2021-09-13 11:56:09 +02:00)\n"
     ]
    }
   ],
   "source": [
    "pprint(simulation_analysis_1.model.params)"
   ]
  },
  {
   "cell_type": "markdown",
   "id": "7471a5ed",
   "metadata": {},
   "source": [
    "To modify the value of **System Parameters** for a specific analysis, you need to select the relevant simulation, and update the chosen model System Parameter (which is a list of values). For example, updating the `BASE_REWARD_FACTOR` System Parameter to a sweep of two values, `64` and `32`:"
   ]
  },
  {
   "cell_type": "code",
   "execution_count": 12,
   "id": "650c6e84",
   "metadata": {},
   "outputs": [
    {
     "name": "stdout",
     "output_type": "stream",
     "text": [
      "time: 14.1 ms (started: 2021-09-13 11:56:30 +02:00)\n"
     ]
    }
   ],
   "source": [
    "simulation_analysis_1.model.params.update({\n",
    "    \"avg_client_allocation\": [30],\n",
    "})"
   ]
  },
  {
   "cell_type": "markdown",
   "id": "de531fb7",
   "metadata": {},
   "source": [
    "## Executing Experiments"
   ]
  },
  {
   "cell_type": "markdown",
   "id": "bb69b0e8",
   "metadata": {},
   "source": [
    "We can now execute our custom analysis and retrieve the post-processed Pandas DataFrame using the `run(...)` method:"
   ]
  },
  {
   "cell_type": "code",
   "execution_count": 13,
   "id": "10d9a34e",
   "metadata": {},
   "outputs": [
    {
     "name": "stdout",
     "output_type": "stream",
     "text": [
      "2021-09-13 11:56:34,130 - root - INFO - Running experiment\n",
      "2021-09-13 11:56:34,131 - root - INFO - Starting simulation 0 / run 0 / subset 0\n",
      "2021-09-13 11:56:34,138 - root - INFO - Experiment complete in 0.006992816925048828 seconds\n",
      "2021-09-13 11:56:34,139 - root - INFO - Post-processing results\n",
      "2021-09-13 11:56:34,145 - root - INFO - Post-processing complete in 0.0069561004638671875 seconds\n",
      "time: 30 ms (started: 2021-09-13 11:56:34 +02:00)\n"
     ]
    }
   ],
   "source": [
    "df, exceptions = run(simulation_analysis_1)"
   ]
  },
  {
   "cell_type": "markdown",
   "id": "d08319ab",
   "metadata": {},
   "source": [
    "## Post-processing and Analysing Results"
   ]
  },
  {
   "cell_type": "markdown",
   "id": "cf691aa9",
   "metadata": {},
   "source": [
    "We can see that we had no exceptions for the single simulation we executed:"
   ]
  },
  {
   "cell_type": "code",
   "execution_count": 14,
   "id": "dbb2f778",
   "metadata": {},
   "outputs": [
    {
     "data": {
      "text/plain": [
       "True"
      ]
     },
     "execution_count": 14,
     "metadata": {},
     "output_type": "execute_result"
    },
    {
     "name": "stdout",
     "output_type": "stream",
     "text": [
      "time: 15.2 ms (started: 2021-09-13 11:56:36 +02:00)\n"
     ]
    }
   ],
   "source": [
    "exceptions[0]['exception'] == None"
   ]
  },
  {
   "cell_type": "markdown",
   "id": "74b7756c",
   "metadata": {},
   "source": [
    "We can simply display the Pandas DataFrame to inspect the results. This DataFrame already has some default post-processing applied (see [experiments/post_processing.py](../post_processing.py))"
   ]
  },
  {
   "cell_type": "code",
   "execution_count": 15,
   "id": "d4326124",
   "metadata": {},
   "outputs": [
    {
     "data": {
      "text/html": [
       "<div>\n",
       "<style scoped>\n",
       "    .dataframe tbody tr th:only-of-type {\n",
       "        vertical-align: middle;\n",
       "    }\n",
       "\n",
       "    .dataframe tbody tr th {\n",
       "        vertical-align: top;\n",
       "    }\n",
       "\n",
       "    .dataframe thead th {\n",
       "        text-align: right;\n",
       "    }\n",
       "</style>\n",
       "<table border=\"1\" class=\"dataframe\">\n",
       "  <thead>\n",
       "    <tr style=\"text-align: right;\">\n",
       "      <th></th>\n",
       "      <th>timestamp</th>\n",
       "      <th>clients</th>\n",
       "      <th>hosts</th>\n",
       "      <th>potential_users</th>\n",
       "      <th>avg_price</th>\n",
       "      <th>network_capacity</th>\n",
       "      <th>indicated_network_demand</th>\n",
       "      <th>network_allocation</th>\n",
       "      <th>network_penetration</th>\n",
       "      <th>simulation</th>\n",
       "      <th>subset</th>\n",
       "      <th>run</th>\n",
       "      <th>substep</th>\n",
       "      <th>timestep</th>\n",
       "    </tr>\n",
       "  </thead>\n",
       "  <tbody>\n",
       "    <tr>\n",
       "      <th>1</th>\n",
       "      <td>0</td>\n",
       "      <td>100.000000</td>\n",
       "      <td>18.616288</td>\n",
       "      <td>9881.383712</td>\n",
       "      <td>-0.352381</td>\n",
       "      <td>7500.000000</td>\n",
       "      <td>3.000000e+02</td>\n",
       "      <td>0.000000e+00</td>\n",
       "      <td>2.000000</td>\n",
       "      <td>0</td>\n",
       "      <td>0</td>\n",
       "      <td>1</td>\n",
       "      <td>1</td>\n",
       "      <td>1</td>\n",
       "    </tr>\n",
       "    <tr>\n",
       "      <th>2</th>\n",
       "      <td>0</td>\n",
       "      <td>337.759914</td>\n",
       "      <td>18.616288</td>\n",
       "      <td>9525.007510</td>\n",
       "      <td>0.023828</td>\n",
       "      <td>13962.215909</td>\n",
       "      <td>0.000000e+00</td>\n",
       "      <td>0.000000e+00</td>\n",
       "      <td>3.767952</td>\n",
       "      <td>0</td>\n",
       "      <td>0</td>\n",
       "      <td>1</td>\n",
       "      <td>1</td>\n",
       "      <td>2</td>\n",
       "    </tr>\n",
       "    <tr>\n",
       "      <th>3</th>\n",
       "      <td>0</td>\n",
       "      <td>462.498445</td>\n",
       "      <td>18.616288</td>\n",
       "      <td>9043.892777</td>\n",
       "      <td>-0.001702</td>\n",
       "      <td>13962.215909</td>\n",
       "      <td>2.126267e+05</td>\n",
       "      <td>8.011673e+03</td>\n",
       "      <td>3.908929</td>\n",
       "      <td>0</td>\n",
       "      <td>0</td>\n",
       "      <td>1</td>\n",
       "      <td>1</td>\n",
       "      <td>3</td>\n",
       "    </tr>\n",
       "    <tr>\n",
       "      <th>4</th>\n",
       "      <td>0</td>\n",
       "      <td>585.240236</td>\n",
       "      <td>18.616288</td>\n",
       "      <td>8440.036254</td>\n",
       "      <td>-0.002347</td>\n",
       "      <td>13962.215909</td>\n",
       "      <td>0.000000e+00</td>\n",
       "      <td>0.000000e+00</td>\n",
       "      <td>4.116875</td>\n",
       "      <td>0</td>\n",
       "      <td>0</td>\n",
       "      <td>1</td>\n",
       "      <td>1</td>\n",
       "      <td>4</td>\n",
       "    </tr>\n",
       "    <tr>\n",
       "      <th>5</th>\n",
       "      <td>0</td>\n",
       "      <td>697.711110</td>\n",
       "      <td>18.616288</td>\n",
       "      <td>7723.708856</td>\n",
       "      <td>0.000168</td>\n",
       "      <td>13962.215909</td>\n",
       "      <td>0.000000e+00</td>\n",
       "      <td>0.000000e+00</td>\n",
       "      <td>4.411424</td>\n",
       "      <td>0</td>\n",
       "      <td>0</td>\n",
       "      <td>1</td>\n",
       "      <td>1</td>\n",
       "      <td>5</td>\n",
       "    </tr>\n",
       "    <tr>\n",
       "      <th>...</th>\n",
       "      <td>...</td>\n",
       "      <td>...</td>\n",
       "      <td>...</td>\n",
       "      <td>...</td>\n",
       "      <td>...</td>\n",
       "      <td>...</td>\n",
       "      <td>...</td>\n",
       "      <td>...</td>\n",
       "      <td>...</td>\n",
       "      <td>...</td>\n",
       "      <td>...</td>\n",
       "      <td>...</td>\n",
       "      <td>...</td>\n",
       "      <td>...</td>\n",
       "    </tr>\n",
       "    <tr>\n",
       "      <th>361</th>\n",
       "      <td>0</td>\n",
       "      <td>-75.562886</td>\n",
       "      <td>18.616288</td>\n",
       "      <td>586.550801</td>\n",
       "      <td>0.000674</td>\n",
       "      <td>13962.215909</td>\n",
       "      <td>-0.000000e+00</td>\n",
       "      <td>-0.000000e+00</td>\n",
       "      <td>70.302644</td>\n",
       "      <td>0</td>\n",
       "      <td>0</td>\n",
       "      <td>1</td>\n",
       "      <td>1</td>\n",
       "      <td>361</td>\n",
       "    </tr>\n",
       "    <tr>\n",
       "      <th>362</th>\n",
       "      <td>0</td>\n",
       "      <td>-66.382463</td>\n",
       "      <td>18.616288</td>\n",
       "      <td>634.316976</td>\n",
       "      <td>-0.000048</td>\n",
       "      <td>13962.215909</td>\n",
       "      <td>-1.680956e+06</td>\n",
       "      <td>-1.181757e+06</td>\n",
       "      <td>63.477154</td>\n",
       "      <td>0</td>\n",
       "      <td>0</td>\n",
       "      <td>1</td>\n",
       "      <td>1</td>\n",
       "      <td>362</td>\n",
       "    </tr>\n",
       "    <tr>\n",
       "      <th>363</th>\n",
       "      <td>0</td>\n",
       "      <td>-56.637480</td>\n",
       "      <td>18.616288</td>\n",
       "      <td>672.338168</td>\n",
       "      <td>0.000556</td>\n",
       "      <td>13962.215909</td>\n",
       "      <td>-0.000000e+00</td>\n",
       "      <td>-0.000000e+00</td>\n",
       "      <td>58.697114</td>\n",
       "      <td>0</td>\n",
       "      <td>0</td>\n",
       "      <td>1</td>\n",
       "      <td>1</td>\n",
       "      <td>363</td>\n",
       "    </tr>\n",
       "    <tr>\n",
       "      <th>364</th>\n",
       "      <td>0</td>\n",
       "      <td>-46.500767</td>\n",
       "      <td>18.616288</td>\n",
       "      <td>700.222647</td>\n",
       "      <td>-0.000040</td>\n",
       "      <td>13962.215909</td>\n",
       "      <td>-1.528868e+06</td>\n",
       "      <td>-8.974014e+05</td>\n",
       "      <td>55.377751</td>\n",
       "      <td>0</td>\n",
       "      <td>0</td>\n",
       "      <td>1</td>\n",
       "      <td>1</td>\n",
       "      <td>364</td>\n",
       "    </tr>\n",
       "    <tr>\n",
       "      <th>365</th>\n",
       "      <td>0</td>\n",
       "      <td>-36.098411</td>\n",
       "      <td>18.616288</td>\n",
       "      <td>717.704770</td>\n",
       "      <td>0.000417</td>\n",
       "      <td>13962.215909</td>\n",
       "      <td>-0.000000e+00</td>\n",
       "      <td>-0.000000e+00</td>\n",
       "      <td>53.172482</td>\n",
       "      <td>0</td>\n",
       "      <td>0</td>\n",
       "      <td>1</td>\n",
       "      <td>1</td>\n",
       "      <td>365</td>\n",
       "    </tr>\n",
       "  </tbody>\n",
       "</table>\n",
       "<p>365 rows × 14 columns</p>\n",
       "</div>"
      ],
      "text/plain": [
       "     timestamp     clients      hosts  potential_users  avg_price  \\\n",
       "1            0  100.000000  18.616288      9881.383712  -0.352381   \n",
       "2            0  337.759914  18.616288      9525.007510   0.023828   \n",
       "3            0  462.498445  18.616288      9043.892777  -0.001702   \n",
       "4            0  585.240236  18.616288      8440.036254  -0.002347   \n",
       "5            0  697.711110  18.616288      7723.708856   0.000168   \n",
       "..         ...         ...        ...              ...        ...   \n",
       "361          0  -75.562886  18.616288       586.550801   0.000674   \n",
       "362          0  -66.382463  18.616288       634.316976  -0.000048   \n",
       "363          0  -56.637480  18.616288       672.338168   0.000556   \n",
       "364          0  -46.500767  18.616288       700.222647  -0.000040   \n",
       "365          0  -36.098411  18.616288       717.704770   0.000417   \n",
       "\n",
       "     network_capacity  indicated_network_demand  network_allocation  \\\n",
       "1         7500.000000              3.000000e+02        0.000000e+00   \n",
       "2        13962.215909              0.000000e+00        0.000000e+00   \n",
       "3        13962.215909              2.126267e+05        8.011673e+03   \n",
       "4        13962.215909              0.000000e+00        0.000000e+00   \n",
       "5        13962.215909              0.000000e+00        0.000000e+00   \n",
       "..                ...                       ...                 ...   \n",
       "361      13962.215909             -0.000000e+00       -0.000000e+00   \n",
       "362      13962.215909             -1.680956e+06       -1.181757e+06   \n",
       "363      13962.215909             -0.000000e+00       -0.000000e+00   \n",
       "364      13962.215909             -1.528868e+06       -8.974014e+05   \n",
       "365      13962.215909             -0.000000e+00       -0.000000e+00   \n",
       "\n",
       "     network_penetration  simulation  subset  run  substep  timestep  \n",
       "1               2.000000           0       0    1        1         1  \n",
       "2               3.767952           0       0    1        1         2  \n",
       "3               3.908929           0       0    1        1         3  \n",
       "4               4.116875           0       0    1        1         4  \n",
       "5               4.411424           0       0    1        1         5  \n",
       "..                   ...         ...     ...  ...      ...       ...  \n",
       "361            70.302644           0       0    1        1       361  \n",
       "362            63.477154           0       0    1        1       362  \n",
       "363            58.697114           0       0    1        1       363  \n",
       "364            55.377751           0       0    1        1       364  \n",
       "365            53.172482           0       0    1        1       365  \n",
       "\n",
       "[365 rows x 14 columns]"
      ]
     },
     "execution_count": 15,
     "metadata": {},
     "output_type": "execute_result"
    },
    {
     "name": "stdout",
     "output_type": "stream",
     "text": [
      "time: 30.4 ms (started: 2021-09-13 11:56:38 +02:00)\n"
     ]
    }
   ],
   "source": [
    "df"
   ]
  },
  {
   "cell_type": "markdown",
   "id": "26f2e7ef",
   "metadata": {},
   "source": [
    "## Visualizing Results"
   ]
  },
  {
   "cell_type": "markdown",
   "id": "6ac53e3b",
   "metadata": {},
   "source": [
    "Once we have the results post-processed and in a Pandas DataFrame, we can use Plotly for plotting our results:"
   ]
  },
  {
   "cell_type": "code",
   "execution_count": 18,
   "id": "44c4d969",
   "metadata": {},
   "outputs": [
    {
     "data": {
      "application/vnd.plotly.v1+json": {
       "config": {
        "plotlyServerURL": "https://plot.ly"
       },
       "data": [
        {
         "hovertemplate": "timestep=%{x}<br>network_allocation=%{y}<extra></extra>",
         "legendgroup": "",
         "line": {
          "color": "#636efa",
          "dash": "solid"
         },
         "mode": "lines",
         "name": "",
         "orientation": "v",
         "showlegend": false,
         "type": "scatter",
         "x": [
          1,
          2,
          3,
          4,
          5,
          6,
          7,
          8,
          9,
          10,
          11,
          12,
          13,
          14,
          15,
          16,
          17,
          18,
          19,
          20,
          21,
          22,
          23,
          24,
          25,
          26,
          27,
          28,
          29,
          30,
          31,
          32,
          33,
          34,
          35,
          36,
          37,
          38,
          39,
          40,
          41,
          42,
          43,
          44,
          45,
          46,
          47,
          48,
          49,
          50,
          51,
          52,
          53,
          54,
          55,
          56,
          57,
          58,
          59,
          60,
          61,
          62,
          63,
          64,
          65,
          66,
          67,
          68,
          69,
          70,
          71,
          72,
          73,
          74,
          75,
          76,
          77,
          78,
          79,
          80,
          81,
          82,
          83,
          84,
          85,
          86,
          87,
          88,
          89,
          90,
          91,
          92,
          93,
          94,
          95,
          96,
          97,
          98,
          99,
          100,
          101,
          102,
          103,
          104,
          105,
          106,
          107,
          108,
          109,
          110,
          111,
          112,
          113,
          114,
          115,
          116,
          117,
          118,
          119,
          120,
          121,
          122,
          123,
          124,
          125,
          126,
          127,
          128,
          129,
          130,
          131,
          132,
          133,
          134,
          135,
          136,
          137,
          138,
          139,
          140,
          141,
          142,
          143,
          144,
          145,
          146,
          147,
          148,
          149,
          150,
          151,
          152,
          153,
          154,
          155,
          156,
          157,
          158,
          159,
          160,
          161,
          162,
          163,
          164,
          165,
          166,
          167,
          168,
          169,
          170,
          171,
          172,
          173,
          174,
          175,
          176,
          177,
          178,
          179,
          180,
          181,
          182,
          183,
          184,
          185,
          186,
          187,
          188,
          189,
          190,
          191,
          192,
          193,
          194,
          195,
          196,
          197,
          198,
          199,
          200,
          201,
          202,
          203,
          204,
          205,
          206,
          207,
          208,
          209,
          210,
          211,
          212,
          213,
          214,
          215,
          216,
          217,
          218,
          219,
          220,
          221,
          222,
          223,
          224,
          225,
          226,
          227,
          228,
          229,
          230,
          231,
          232,
          233,
          234,
          235,
          236,
          237,
          238,
          239,
          240,
          241,
          242,
          243,
          244,
          245,
          246,
          247,
          248,
          249,
          250,
          251,
          252,
          253,
          254,
          255,
          256,
          257,
          258,
          259,
          260,
          261,
          262,
          263,
          264,
          265,
          266,
          267,
          268,
          269,
          270,
          271,
          272,
          273,
          274,
          275,
          276,
          277,
          278,
          279,
          280,
          281,
          282,
          283,
          284,
          285,
          286,
          287,
          288,
          289,
          290,
          291,
          292,
          293,
          294,
          295,
          296,
          297,
          298,
          299,
          300,
          301,
          302,
          303,
          304,
          305,
          306,
          307,
          308,
          309,
          310,
          311,
          312,
          313,
          314,
          315,
          316,
          317,
          318,
          319,
          320,
          321,
          322,
          323,
          324,
          325,
          326,
          327,
          328,
          329,
          330,
          331,
          332,
          333,
          334,
          335,
          336,
          337,
          338,
          339,
          340,
          341,
          342,
          343,
          344,
          345,
          346,
          347,
          348,
          349,
          350,
          351,
          352,
          353,
          354,
          355,
          356,
          357,
          358,
          359,
          360,
          361,
          362,
          363,
          364,
          365
         ],
         "xaxis": "x",
         "y": [
          0,
          0,
          8011.672865153737,
          0,
          0,
          2754097.0966417133,
          0,
          0,
          2448138.6367716165,
          0,
          0,
          4156445.3676249026,
          0,
          0,
          -25646720.348981936,
          0,
          0,
          -2584763.173072797,
          0,
          0,
          -1246663.615930251,
          0,
          0,
          -660936.4851970527,
          0,
          0,
          216189.90086356114,
          0,
          504919.8445691082,
          0,
          175592.47970113295,
          0,
          158963.4903724287,
          0,
          178660.049174165,
          0,
          242359.15523027064,
          0,
          468561.07510583085,
          0,
          -5056603.0762175275,
          0,
          -366491.0601826435,
          0,
          -186438.84823450155,
          0,
          -123375.10073202636,
          0,
          -88884.38313950403,
          0,
          -59990.4231880951,
          0,
          -8049.751780753182,
          0,
          1164418.8907130377,
          0,
          0,
          4372470.28139637,
          0,
          0,
          3486296.2754481104,
          0,
          0,
          5314345.385488815,
          0,
          0,
          169333824.79668945,
          0,
          0,
          -4408697.016477939,
          0,
          0,
          -1986854.2062031566,
          0,
          0,
          -1072093.6097725988,
          0,
          0,
          27893.020810303413,
          0,
          5945464.780451626,
          0,
          272901.17390691116,
          0,
          230188.85543937405,
          0,
          249026.62963611027,
          0,
          322127.0521518152,
          0,
          554134.3623198696,
          0,
          4044317.323978103,
          0,
          -682557.9687316715,
          0,
          -306964.2830200544,
          0,
          -195754.7734612443,
          0,
          -140071.66449702834,
          0,
          -98946.02060691043,
          0,
          -41193.82713694757,
          0,
          288944.39772924455,
          0,
          0,
          7833345.307236713,
          0,
          0,
          5044936.506054841,
          0,
          0,
          6975622.10504826,
          0,
          0,
          39186635.33645831,
          0,
          0,
          -7698789.076643249,
          0,
          0,
          -3175371.5244793547,
          0,
          0,
          -1713769.5860017606,
          0,
          0,
          -259627.1727299279,
          0,
          0,
          23308727.26720235,
          0,
          359277.27157023724,
          0,
          334695.7472197061,
          0,
          380950.622967081,
          0,
          523035.07606553484,
          0,
          1039650.6689364687,
          0,
          -7017364.026261957,
          0,
          -748886.1157205558,
          0,
          -388885.646632966,
          0,
          -259798.8439508115,
          0,
          -188820.9471787664,
          0,
          -129859.69708553098,
          0,
          -27483.84239546184,
          0,
          1407655.456397949,
          0,
          0,
          9700924.64082382,
          0,
          0,
          7554357.679255975,
          0,
          0,
          11651169.237446254,
          0,
          0,
          -2199459435.6217885,
          0,
          0,
          -9012203.489897136,
          0,
          0,
          -4091631.5015267306,
          0,
          0,
          -2128557.688566434,
          0,
          0,
          584271.799053617,
          0,
          1730922.5857716864,
          0,
          541161.5677077455,
          0,
          480484.9063710835,
          0,
          528974.2996951147,
          0,
          693407.2750100682,
          0,
          1220745.2208984268,
          0,
          12443737.331029287,
          0,
          -1376043.7874582259,
          0,
          -638390.0871430269,
          0,
          -412234.33616098703,
          0,
          -298307.38315510616,
          0,
          -215385.92117379323,
          0,
          -104953.73974496503,
          0,
          400587.98416779697,
          0,
          0,
          18895191.163002484,
          0,
          0,
          11037533.01923759,
          0,
          0,
          15290459.498578202,
          0,
          0,
          102278322.54021914,
          0,
          0,
          -15601021.344781976,
          0,
          0,
          -6500102.967874172,
          0,
          0,
          -3366107.990317418,
          0,
          0,
          309335.26594607113,
          0,
          5791022.243608321,
          0,
          815689.0552862016,
          0,
          690966.7473123223,
          0,
          738309.5387136017,
          0,
          930534.2099607281,
          0,
          1498133.2037603639,
          0,
          5732774.979348667,
          0,
          -2697981.3948089285,
          0,
          -1063061.3441514408,
          0,
          -657750.7487123236,
          0,
          -471152.0611851009,
          0,
          -350073.40703421563,
          0,
          -222359.53129514615,
          0,
          113586.5467488591,
          0,
          0,
          65120458.211483866,
          0,
          0,
          16663551.48525629,
          0,
          0,
          20583663.01273036,
          0,
          0,
          75103955.21047077,
          0,
          0,
          -27850045.084226258,
          0,
          0,
          -10350875.68446091,
          0,
          0,
          -5234583.641030744,
          0,
          0,
          48054.62430677611,
          0,
          68392390.3679155,
          0,
          1212945.7098840144,
          0,
          991346.234831028,
          0,
          1033262.5949620357,
          0,
          1259924.885501362,
          0,
          1893716.7108819934,
          0,
          5010672.709858531,
          0,
          -5953240.386563164,
          0,
          -1803122.6214403333,
          0,
          -1056793.8682417579,
          0,
          -745194.4559519003,
          0,
          -562399.8100813736,
          0,
          -404948.1844295865,
          0,
          -131445.6773805856,
          0,
          2357991.21944594,
          0,
          0,
          33518667.538257368,
          0,
          0,
          25821195.486145537,
          0,
          0,
          45216616.322914205,
          0,
          0,
          -135169560.76251158,
          0,
          0,
          -21935775.726515803,
          0,
          0,
          -10236102.258275967,
          0,
          0,
          -3344142.1182667227,
          0,
          0,
          25646041.14912055,
          0,
          1748233.966900195,
          0,
          1411684.1750455252,
          0,
          1445871.8716767256,
          0,
          1716201.4473502059,
          0,
          2443737.3927868004,
          0,
          5249646.346571618,
          0,
          -17518611.47444311,
          0,
          -3133959.927565029,
          0,
          -1712286.6711508357,
          0,
          -1181756.7900835103,
          0,
          -897401.3750681533,
          0
         ],
         "yaxis": "y"
        }
       ],
       "layout": {
        "legend": {
         "tracegroupgap": 0
        },
        "margin": {
         "t": 60
        },
        "template": {
         "data": {
          "bar": [
           {
            "error_x": {
             "color": "#2a3f5f"
            },
            "error_y": {
             "color": "#2a3f5f"
            },
            "marker": {
             "line": {
              "color": "#E5ECF6",
              "width": 0.5
             }
            },
            "type": "bar"
           }
          ],
          "barpolar": [
           {
            "marker": {
             "line": {
              "color": "#E5ECF6",
              "width": 0.5
             }
            },
            "type": "barpolar"
           }
          ],
          "carpet": [
           {
            "aaxis": {
             "endlinecolor": "#2a3f5f",
             "gridcolor": "white",
             "linecolor": "white",
             "minorgridcolor": "white",
             "startlinecolor": "#2a3f5f"
            },
            "baxis": {
             "endlinecolor": "#2a3f5f",
             "gridcolor": "white",
             "linecolor": "white",
             "minorgridcolor": "white",
             "startlinecolor": "#2a3f5f"
            },
            "type": "carpet"
           }
          ],
          "choropleth": [
           {
            "colorbar": {
             "outlinewidth": 0,
             "ticks": ""
            },
            "type": "choropleth"
           }
          ],
          "contour": [
           {
            "colorbar": {
             "outlinewidth": 0,
             "ticks": ""
            },
            "colorscale": [
             [
              0,
              "#0d0887"
             ],
             [
              0.1111111111111111,
              "#46039f"
             ],
             [
              0.2222222222222222,
              "#7201a8"
             ],
             [
              0.3333333333333333,
              "#9c179e"
             ],
             [
              0.4444444444444444,
              "#bd3786"
             ],
             [
              0.5555555555555556,
              "#d8576b"
             ],
             [
              0.6666666666666666,
              "#ed7953"
             ],
             [
              0.7777777777777778,
              "#fb9f3a"
             ],
             [
              0.8888888888888888,
              "#fdca26"
             ],
             [
              1,
              "#f0f921"
             ]
            ],
            "type": "contour"
           }
          ],
          "contourcarpet": [
           {
            "colorbar": {
             "outlinewidth": 0,
             "ticks": ""
            },
            "type": "contourcarpet"
           }
          ],
          "heatmap": [
           {
            "colorbar": {
             "outlinewidth": 0,
             "ticks": ""
            },
            "colorscale": [
             [
              0,
              "#0d0887"
             ],
             [
              0.1111111111111111,
              "#46039f"
             ],
             [
              0.2222222222222222,
              "#7201a8"
             ],
             [
              0.3333333333333333,
              "#9c179e"
             ],
             [
              0.4444444444444444,
              "#bd3786"
             ],
             [
              0.5555555555555556,
              "#d8576b"
             ],
             [
              0.6666666666666666,
              "#ed7953"
             ],
             [
              0.7777777777777778,
              "#fb9f3a"
             ],
             [
              0.8888888888888888,
              "#fdca26"
             ],
             [
              1,
              "#f0f921"
             ]
            ],
            "type": "heatmap"
           }
          ],
          "heatmapgl": [
           {
            "colorbar": {
             "outlinewidth": 0,
             "ticks": ""
            },
            "colorscale": [
             [
              0,
              "#0d0887"
             ],
             [
              0.1111111111111111,
              "#46039f"
             ],
             [
              0.2222222222222222,
              "#7201a8"
             ],
             [
              0.3333333333333333,
              "#9c179e"
             ],
             [
              0.4444444444444444,
              "#bd3786"
             ],
             [
              0.5555555555555556,
              "#d8576b"
             ],
             [
              0.6666666666666666,
              "#ed7953"
             ],
             [
              0.7777777777777778,
              "#fb9f3a"
             ],
             [
              0.8888888888888888,
              "#fdca26"
             ],
             [
              1,
              "#f0f921"
             ]
            ],
            "type": "heatmapgl"
           }
          ],
          "histogram": [
           {
            "marker": {
             "colorbar": {
              "outlinewidth": 0,
              "ticks": ""
             }
            },
            "type": "histogram"
           }
          ],
          "histogram2d": [
           {
            "colorbar": {
             "outlinewidth": 0,
             "ticks": ""
            },
            "colorscale": [
             [
              0,
              "#0d0887"
             ],
             [
              0.1111111111111111,
              "#46039f"
             ],
             [
              0.2222222222222222,
              "#7201a8"
             ],
             [
              0.3333333333333333,
              "#9c179e"
             ],
             [
              0.4444444444444444,
              "#bd3786"
             ],
             [
              0.5555555555555556,
              "#d8576b"
             ],
             [
              0.6666666666666666,
              "#ed7953"
             ],
             [
              0.7777777777777778,
              "#fb9f3a"
             ],
             [
              0.8888888888888888,
              "#fdca26"
             ],
             [
              1,
              "#f0f921"
             ]
            ],
            "type": "histogram2d"
           }
          ],
          "histogram2dcontour": [
           {
            "colorbar": {
             "outlinewidth": 0,
             "ticks": ""
            },
            "colorscale": [
             [
              0,
              "#0d0887"
             ],
             [
              0.1111111111111111,
              "#46039f"
             ],
             [
              0.2222222222222222,
              "#7201a8"
             ],
             [
              0.3333333333333333,
              "#9c179e"
             ],
             [
              0.4444444444444444,
              "#bd3786"
             ],
             [
              0.5555555555555556,
              "#d8576b"
             ],
             [
              0.6666666666666666,
              "#ed7953"
             ],
             [
              0.7777777777777778,
              "#fb9f3a"
             ],
             [
              0.8888888888888888,
              "#fdca26"
             ],
             [
              1,
              "#f0f921"
             ]
            ],
            "type": "histogram2dcontour"
           }
          ],
          "mesh3d": [
           {
            "colorbar": {
             "outlinewidth": 0,
             "ticks": ""
            },
            "type": "mesh3d"
           }
          ],
          "parcoords": [
           {
            "line": {
             "colorbar": {
              "outlinewidth": 0,
              "ticks": ""
             }
            },
            "type": "parcoords"
           }
          ],
          "pie": [
           {
            "automargin": true,
            "type": "pie"
           }
          ],
          "scatter": [
           {
            "marker": {
             "colorbar": {
              "outlinewidth": 0,
              "ticks": ""
             }
            },
            "type": "scatter"
           }
          ],
          "scatter3d": [
           {
            "line": {
             "colorbar": {
              "outlinewidth": 0,
              "ticks": ""
             }
            },
            "marker": {
             "colorbar": {
              "outlinewidth": 0,
              "ticks": ""
             }
            },
            "type": "scatter3d"
           }
          ],
          "scattercarpet": [
           {
            "marker": {
             "colorbar": {
              "outlinewidth": 0,
              "ticks": ""
             }
            },
            "type": "scattercarpet"
           }
          ],
          "scattergeo": [
           {
            "marker": {
             "colorbar": {
              "outlinewidth": 0,
              "ticks": ""
             }
            },
            "type": "scattergeo"
           }
          ],
          "scattergl": [
           {
            "marker": {
             "colorbar": {
              "outlinewidth": 0,
              "ticks": ""
             }
            },
            "type": "scattergl"
           }
          ],
          "scattermapbox": [
           {
            "marker": {
             "colorbar": {
              "outlinewidth": 0,
              "ticks": ""
             }
            },
            "type": "scattermapbox"
           }
          ],
          "scatterpolar": [
           {
            "marker": {
             "colorbar": {
              "outlinewidth": 0,
              "ticks": ""
             }
            },
            "type": "scatterpolar"
           }
          ],
          "scatterpolargl": [
           {
            "marker": {
             "colorbar": {
              "outlinewidth": 0,
              "ticks": ""
             }
            },
            "type": "scatterpolargl"
           }
          ],
          "scatterternary": [
           {
            "marker": {
             "colorbar": {
              "outlinewidth": 0,
              "ticks": ""
             }
            },
            "type": "scatterternary"
           }
          ],
          "surface": [
           {
            "colorbar": {
             "outlinewidth": 0,
             "ticks": ""
            },
            "colorscale": [
             [
              0,
              "#0d0887"
             ],
             [
              0.1111111111111111,
              "#46039f"
             ],
             [
              0.2222222222222222,
              "#7201a8"
             ],
             [
              0.3333333333333333,
              "#9c179e"
             ],
             [
              0.4444444444444444,
              "#bd3786"
             ],
             [
              0.5555555555555556,
              "#d8576b"
             ],
             [
              0.6666666666666666,
              "#ed7953"
             ],
             [
              0.7777777777777778,
              "#fb9f3a"
             ],
             [
              0.8888888888888888,
              "#fdca26"
             ],
             [
              1,
              "#f0f921"
             ]
            ],
            "type": "surface"
           }
          ],
          "table": [
           {
            "cells": {
             "fill": {
              "color": "#EBF0F8"
             },
             "line": {
              "color": "white"
             }
            },
            "header": {
             "fill": {
              "color": "#C8D4E3"
             },
             "line": {
              "color": "white"
             }
            },
            "type": "table"
           }
          ]
         },
         "layout": {
          "annotationdefaults": {
           "arrowcolor": "#2a3f5f",
           "arrowhead": 0,
           "arrowwidth": 1
          },
          "autotypenumbers": "strict",
          "coloraxis": {
           "colorbar": {
            "outlinewidth": 0,
            "ticks": ""
           }
          },
          "colorscale": {
           "diverging": [
            [
             0,
             "#8e0152"
            ],
            [
             0.1,
             "#c51b7d"
            ],
            [
             0.2,
             "#de77ae"
            ],
            [
             0.3,
             "#f1b6da"
            ],
            [
             0.4,
             "#fde0ef"
            ],
            [
             0.5,
             "#f7f7f7"
            ],
            [
             0.6,
             "#e6f5d0"
            ],
            [
             0.7,
             "#b8e186"
            ],
            [
             0.8,
             "#7fbc41"
            ],
            [
             0.9,
             "#4d9221"
            ],
            [
             1,
             "#276419"
            ]
           ],
           "sequential": [
            [
             0,
             "#0d0887"
            ],
            [
             0.1111111111111111,
             "#46039f"
            ],
            [
             0.2222222222222222,
             "#7201a8"
            ],
            [
             0.3333333333333333,
             "#9c179e"
            ],
            [
             0.4444444444444444,
             "#bd3786"
            ],
            [
             0.5555555555555556,
             "#d8576b"
            ],
            [
             0.6666666666666666,
             "#ed7953"
            ],
            [
             0.7777777777777778,
             "#fb9f3a"
            ],
            [
             0.8888888888888888,
             "#fdca26"
            ],
            [
             1,
             "#f0f921"
            ]
           ],
           "sequentialminus": [
            [
             0,
             "#0d0887"
            ],
            [
             0.1111111111111111,
             "#46039f"
            ],
            [
             0.2222222222222222,
             "#7201a8"
            ],
            [
             0.3333333333333333,
             "#9c179e"
            ],
            [
             0.4444444444444444,
             "#bd3786"
            ],
            [
             0.5555555555555556,
             "#d8576b"
            ],
            [
             0.6666666666666666,
             "#ed7953"
            ],
            [
             0.7777777777777778,
             "#fb9f3a"
            ],
            [
             0.8888888888888888,
             "#fdca26"
            ],
            [
             1,
             "#f0f921"
            ]
           ]
          },
          "colorway": [
           "#636efa",
           "#EF553B",
           "#00cc96",
           "#ab63fa",
           "#FFA15A",
           "#19d3f3",
           "#FF6692",
           "#B6E880",
           "#FF97FF",
           "#FECB52"
          ],
          "font": {
           "color": "#2a3f5f"
          },
          "geo": {
           "bgcolor": "white",
           "lakecolor": "white",
           "landcolor": "#E5ECF6",
           "showlakes": true,
           "showland": true,
           "subunitcolor": "white"
          },
          "hoverlabel": {
           "align": "left"
          },
          "hovermode": "closest",
          "mapbox": {
           "style": "light"
          },
          "paper_bgcolor": "white",
          "plot_bgcolor": "#E5ECF6",
          "polar": {
           "angularaxis": {
            "gridcolor": "white",
            "linecolor": "white",
            "ticks": ""
           },
           "bgcolor": "#E5ECF6",
           "radialaxis": {
            "gridcolor": "white",
            "linecolor": "white",
            "ticks": ""
           }
          },
          "scene": {
           "xaxis": {
            "backgroundcolor": "#E5ECF6",
            "gridcolor": "white",
            "gridwidth": 2,
            "linecolor": "white",
            "showbackground": true,
            "ticks": "",
            "zerolinecolor": "white"
           },
           "yaxis": {
            "backgroundcolor": "#E5ECF6",
            "gridcolor": "white",
            "gridwidth": 2,
            "linecolor": "white",
            "showbackground": true,
            "ticks": "",
            "zerolinecolor": "white"
           },
           "zaxis": {
            "backgroundcolor": "#E5ECF6",
            "gridcolor": "white",
            "gridwidth": 2,
            "linecolor": "white",
            "showbackground": true,
            "ticks": "",
            "zerolinecolor": "white"
           }
          },
          "shapedefaults": {
           "line": {
            "color": "#2a3f5f"
           }
          },
          "ternary": {
           "aaxis": {
            "gridcolor": "white",
            "linecolor": "white",
            "ticks": ""
           },
           "baxis": {
            "gridcolor": "white",
            "linecolor": "white",
            "ticks": ""
           },
           "bgcolor": "#E5ECF6",
           "caxis": {
            "gridcolor": "white",
            "linecolor": "white",
            "ticks": ""
           }
          },
          "title": {
           "x": 0.05
          },
          "xaxis": {
           "automargin": true,
           "gridcolor": "white",
           "linecolor": "white",
           "ticks": "",
           "title": {
            "standoff": 15
           },
           "zerolinecolor": "white",
           "zerolinewidth": 2
          },
          "yaxis": {
           "automargin": true,
           "gridcolor": "white",
           "linecolor": "white",
           "ticks": "",
           "title": {
            "standoff": 15
           },
           "zerolinecolor": "white",
           "zerolinewidth": 2
          }
         }
        },
        "xaxis": {
         "anchor": "y",
         "domain": [
          0,
          1
         ],
         "title": {
          "text": "timestep"
         }
        },
        "yaxis": {
         "anchor": "x",
         "domain": [
          0,
          1
         ],
         "title": {
          "text": "network_allocation"
         }
        }
       }
      },
      "text/html": [
       "<div>                            <div id=\"ec1ba05a-3cf0-4569-9374-30d4b288b376\" class=\"plotly-graph-div\" style=\"height:525px; width:100%;\"></div>            <script type=\"text/javascript\">                require([\"plotly\"], function(Plotly) {                    window.PLOTLYENV=window.PLOTLYENV || {};                                    if (document.getElementById(\"ec1ba05a-3cf0-4569-9374-30d4b288b376\")) {                    Plotly.newPlot(                        \"ec1ba05a-3cf0-4569-9374-30d4b288b376\",                        [{\"hovertemplate\": \"timestep=%{x}<br>network_allocation=%{y}<extra></extra>\", \"legendgroup\": \"\", \"line\": {\"color\": \"#636efa\", \"dash\": \"solid\"}, \"mode\": \"lines\", \"name\": \"\", \"orientation\": \"v\", \"showlegend\": false, \"type\": \"scatter\", \"x\": [1, 2, 3, 4, 5, 6, 7, 8, 9, 10, 11, 12, 13, 14, 15, 16, 17, 18, 19, 20, 21, 22, 23, 24, 25, 26, 27, 28, 29, 30, 31, 32, 33, 34, 35, 36, 37, 38, 39, 40, 41, 42, 43, 44, 45, 46, 47, 48, 49, 50, 51, 52, 53, 54, 55, 56, 57, 58, 59, 60, 61, 62, 63, 64, 65, 66, 67, 68, 69, 70, 71, 72, 73, 74, 75, 76, 77, 78, 79, 80, 81, 82, 83, 84, 85, 86, 87, 88, 89, 90, 91, 92, 93, 94, 95, 96, 97, 98, 99, 100, 101, 102, 103, 104, 105, 106, 107, 108, 109, 110, 111, 112, 113, 114, 115, 116, 117, 118, 119, 120, 121, 122, 123, 124, 125, 126, 127, 128, 129, 130, 131, 132, 133, 134, 135, 136, 137, 138, 139, 140, 141, 142, 143, 144, 145, 146, 147, 148, 149, 150, 151, 152, 153, 154, 155, 156, 157, 158, 159, 160, 161, 162, 163, 164, 165, 166, 167, 168, 169, 170, 171, 172, 173, 174, 175, 176, 177, 178, 179, 180, 181, 182, 183, 184, 185, 186, 187, 188, 189, 190, 191, 192, 193, 194, 195, 196, 197, 198, 199, 200, 201, 202, 203, 204, 205, 206, 207, 208, 209, 210, 211, 212, 213, 214, 215, 216, 217, 218, 219, 220, 221, 222, 223, 224, 225, 226, 227, 228, 229, 230, 231, 232, 233, 234, 235, 236, 237, 238, 239, 240, 241, 242, 243, 244, 245, 246, 247, 248, 249, 250, 251, 252, 253, 254, 255, 256, 257, 258, 259, 260, 261, 262, 263, 264, 265, 266, 267, 268, 269, 270, 271, 272, 273, 274, 275, 276, 277, 278, 279, 280, 281, 282, 283, 284, 285, 286, 287, 288, 289, 290, 291, 292, 293, 294, 295, 296, 297, 298, 299, 300, 301, 302, 303, 304, 305, 306, 307, 308, 309, 310, 311, 312, 313, 314, 315, 316, 317, 318, 319, 320, 321, 322, 323, 324, 325, 326, 327, 328, 329, 330, 331, 332, 333, 334, 335, 336, 337, 338, 339, 340, 341, 342, 343, 344, 345, 346, 347, 348, 349, 350, 351, 352, 353, 354, 355, 356, 357, 358, 359, 360, 361, 362, 363, 364, 365], \"xaxis\": \"x\", \"y\": [0.0, 0.0, 8011.672865153737, 0.0, 0.0, 2754097.0966417133, 0.0, 0.0, 2448138.6367716165, 0.0, 0.0, 4156445.3676249026, 0.0, 0.0, -25646720.348981936, -0.0, -0.0, -2584763.173072797, -0.0, -0.0, -1246663.615930251, -0.0, -0.0, -660936.4851970527, -0.0, -0.0, 216189.90086356114, 0.0, 504919.8445691082, 0.0, 175592.47970113295, 0.0, 158963.4903724287, 0.0, 178660.049174165, 0.0, 242359.15523027064, 0.0, 468561.07510583085, 0.0, -5056603.0762175275, -0.0, -366491.0601826435, -0.0, -186438.84823450155, -0.0, -123375.10073202636, -0.0, -88884.38313950403, -0.0, -59990.4231880951, -0.0, -8049.751780753182, 0.0, 1164418.8907130377, 0.0, 0.0, 4372470.28139637, 0.0, 0.0, 3486296.2754481104, 0.0, 0.0, 5314345.385488815, 0.0, 0.0, 169333824.79668945, -0.0, -0.0, -4408697.016477939, -0.0, -0.0, -1986854.2062031566, -0.0, -0.0, -1072093.6097725988, -0.0, -0.0, 27893.020810303413, 0.0, 5945464.780451626, 0.0, 272901.17390691116, 0.0, 230188.85543937405, 0.0, 249026.62963611027, 0.0, 322127.0521518152, 0.0, 554134.3623198696, 0.0, 4044317.323978103, -0.0, -682557.9687316715, -0.0, -306964.2830200544, -0.0, -195754.7734612443, -0.0, -140071.66449702834, -0.0, -98946.02060691043, -0.0, -41193.82713694757, 0.0, 288944.39772924455, 0.0, 0.0, 7833345.307236713, 0.0, 0.0, 5044936.506054841, 0.0, 0.0, 6975622.10504826, 0.0, 0.0, 39186635.33645831, -0.0, -0.0, -7698789.076643249, -0.0, -0.0, -3175371.5244793547, -0.0, -0.0, -1713769.5860017606, -0.0, -0.0, -259627.1727299279, 0.0, 0.0, 23308727.26720235, 0.0, 359277.27157023724, 0.0, 334695.7472197061, 0.0, 380950.622967081, 0.0, 523035.07606553484, 0.0, 1039650.6689364687, 0.0, -7017364.026261957, -0.0, -748886.1157205558, -0.0, -388885.646632966, -0.0, -259798.8439508115, -0.0, -188820.9471787664, -0.0, -129859.69708553098, -0.0, -27483.84239546184, 0.0, 1407655.456397949, 0.0, 0.0, 9700924.64082382, 0.0, 0.0, 7554357.679255975, 0.0, 0.0, 11651169.237446254, 0.0, 0.0, -2199459435.6217885, -0.0, -0.0, -9012203.489897136, -0.0, -0.0, -4091631.5015267306, -0.0, -0.0, -2128557.688566434, -0.0, -0.0, 584271.799053617, 0.0, 1730922.5857716864, 0.0, 541161.5677077455, 0.0, 480484.9063710835, 0.0, 528974.2996951147, 0.0, 693407.2750100682, 0.0, 1220745.2208984268, 0.0, 12443737.331029287, -0.0, -1376043.7874582259, -0.0, -638390.0871430269, -0.0, -412234.33616098703, -0.0, -298307.38315510616, -0.0, -215385.92117379323, -0.0, -104953.73974496503, 0.0, 400587.98416779697, 0.0, 0.0, 18895191.163002484, 0.0, 0.0, 11037533.01923759, 0.0, 0.0, 15290459.498578202, 0.0, 0.0, 102278322.54021914, -0.0, -0.0, -15601021.344781976, -0.0, -0.0, -6500102.967874172, -0.0, -0.0, -3366107.990317418, -0.0, -0.0, 309335.26594607113, 0.0, 5791022.243608321, 0.0, 815689.0552862016, 0.0, 690966.7473123223, 0.0, 738309.5387136017, 0.0, 930534.2099607281, 0.0, 1498133.2037603639, 0.0, 5732774.979348667, -0.0, -2697981.3948089285, -0.0, -1063061.3441514408, -0.0, -657750.7487123236, -0.0, -471152.0611851009, -0.0, -350073.40703421563, -0.0, -222359.53129514615, -0.0, 113586.5467488591, 0.0, 0.0, 65120458.211483866, 0.0, 0.0, 16663551.48525629, 0.0, 0.0, 20583663.01273036, 0.0, 0.0, 75103955.21047077, -0.0, -0.0, -27850045.084226258, -0.0, -0.0, -10350875.68446091, -0.0, -0.0, -5234583.641030744, -0.0, -0.0, 48054.62430677611, 0.0, 68392390.3679155, 0.0, 1212945.7098840144, 0.0, 991346.234831028, 0.0, 1033262.5949620357, 0.0, 1259924.885501362, 0.0, 1893716.7108819934, 0.0, 5010672.709858531, 0.0, -5953240.386563164, -0.0, -1803122.6214403333, -0.0, -1056793.8682417579, -0.0, -745194.4559519003, -0.0, -562399.8100813736, -0.0, -404948.1844295865, -0.0, -131445.6773805856, 0.0, 2357991.21944594, 0.0, 0.0, 33518667.538257368, 0.0, 0.0, 25821195.486145537, 0.0, 0.0, 45216616.322914205, 0.0, 0.0, -135169560.76251158, -0.0, -0.0, -21935775.726515803, -0.0, -0.0, -10236102.258275967, -0.0, -0.0, -3344142.1182667227, 0.0, 0.0, 25646041.14912055, 0.0, 1748233.966900195, 0.0, 1411684.1750455252, 0.0, 1445871.8716767256, 0.0, 1716201.4473502059, 0.0, 2443737.3927868004, 0.0, 5249646.346571618, 0.0, -17518611.47444311, -0.0, -3133959.927565029, -0.0, -1712286.6711508357, -0.0, -1181756.7900835103, -0.0, -897401.3750681533, -0.0], \"yaxis\": \"y\"}],                        {\"legend\": {\"tracegroupgap\": 0}, \"margin\": {\"t\": 60}, \"template\": {\"data\": {\"bar\": [{\"error_x\": {\"color\": \"#2a3f5f\"}, \"error_y\": {\"color\": \"#2a3f5f\"}, \"marker\": {\"line\": {\"color\": \"#E5ECF6\", \"width\": 0.5}}, \"type\": \"bar\"}], \"barpolar\": [{\"marker\": {\"line\": {\"color\": \"#E5ECF6\", \"width\": 0.5}}, \"type\": \"barpolar\"}], \"carpet\": [{\"aaxis\": {\"endlinecolor\": \"#2a3f5f\", \"gridcolor\": \"white\", \"linecolor\": \"white\", \"minorgridcolor\": \"white\", \"startlinecolor\": \"#2a3f5f\"}, \"baxis\": {\"endlinecolor\": \"#2a3f5f\", \"gridcolor\": \"white\", \"linecolor\": \"white\", \"minorgridcolor\": \"white\", \"startlinecolor\": \"#2a3f5f\"}, \"type\": \"carpet\"}], \"choropleth\": [{\"colorbar\": {\"outlinewidth\": 0, \"ticks\": \"\"}, \"type\": \"choropleth\"}], \"contour\": [{\"colorbar\": {\"outlinewidth\": 0, \"ticks\": \"\"}, \"colorscale\": [[0.0, \"#0d0887\"], [0.1111111111111111, \"#46039f\"], [0.2222222222222222, \"#7201a8\"], [0.3333333333333333, \"#9c179e\"], [0.4444444444444444, \"#bd3786\"], [0.5555555555555556, \"#d8576b\"], [0.6666666666666666, \"#ed7953\"], [0.7777777777777778, \"#fb9f3a\"], [0.8888888888888888, \"#fdca26\"], [1.0, \"#f0f921\"]], \"type\": \"contour\"}], \"contourcarpet\": [{\"colorbar\": {\"outlinewidth\": 0, \"ticks\": \"\"}, \"type\": \"contourcarpet\"}], \"heatmap\": [{\"colorbar\": {\"outlinewidth\": 0, \"ticks\": \"\"}, \"colorscale\": [[0.0, \"#0d0887\"], [0.1111111111111111, \"#46039f\"], [0.2222222222222222, \"#7201a8\"], [0.3333333333333333, \"#9c179e\"], [0.4444444444444444, \"#bd3786\"], [0.5555555555555556, \"#d8576b\"], [0.6666666666666666, \"#ed7953\"], [0.7777777777777778, \"#fb9f3a\"], [0.8888888888888888, \"#fdca26\"], [1.0, \"#f0f921\"]], \"type\": \"heatmap\"}], \"heatmapgl\": [{\"colorbar\": {\"outlinewidth\": 0, \"ticks\": \"\"}, \"colorscale\": [[0.0, \"#0d0887\"], [0.1111111111111111, \"#46039f\"], [0.2222222222222222, \"#7201a8\"], [0.3333333333333333, \"#9c179e\"], [0.4444444444444444, \"#bd3786\"], [0.5555555555555556, \"#d8576b\"], [0.6666666666666666, \"#ed7953\"], [0.7777777777777778, \"#fb9f3a\"], [0.8888888888888888, \"#fdca26\"], [1.0, \"#f0f921\"]], \"type\": \"heatmapgl\"}], \"histogram\": [{\"marker\": {\"colorbar\": {\"outlinewidth\": 0, \"ticks\": \"\"}}, \"type\": \"histogram\"}], \"histogram2d\": [{\"colorbar\": {\"outlinewidth\": 0, \"ticks\": \"\"}, \"colorscale\": [[0.0, \"#0d0887\"], [0.1111111111111111, \"#46039f\"], [0.2222222222222222, \"#7201a8\"], [0.3333333333333333, \"#9c179e\"], [0.4444444444444444, \"#bd3786\"], [0.5555555555555556, \"#d8576b\"], [0.6666666666666666, \"#ed7953\"], [0.7777777777777778, \"#fb9f3a\"], [0.8888888888888888, \"#fdca26\"], [1.0, \"#f0f921\"]], \"type\": \"histogram2d\"}], \"histogram2dcontour\": [{\"colorbar\": {\"outlinewidth\": 0, \"ticks\": \"\"}, \"colorscale\": [[0.0, \"#0d0887\"], [0.1111111111111111, \"#46039f\"], [0.2222222222222222, \"#7201a8\"], [0.3333333333333333, \"#9c179e\"], [0.4444444444444444, \"#bd3786\"], [0.5555555555555556, \"#d8576b\"], [0.6666666666666666, \"#ed7953\"], [0.7777777777777778, \"#fb9f3a\"], [0.8888888888888888, \"#fdca26\"], [1.0, \"#f0f921\"]], \"type\": \"histogram2dcontour\"}], \"mesh3d\": [{\"colorbar\": {\"outlinewidth\": 0, \"ticks\": \"\"}, \"type\": \"mesh3d\"}], \"parcoords\": [{\"line\": {\"colorbar\": {\"outlinewidth\": 0, \"ticks\": \"\"}}, \"type\": \"parcoords\"}], \"pie\": [{\"automargin\": true, \"type\": \"pie\"}], \"scatter\": [{\"marker\": {\"colorbar\": {\"outlinewidth\": 0, \"ticks\": \"\"}}, \"type\": \"scatter\"}], \"scatter3d\": [{\"line\": {\"colorbar\": {\"outlinewidth\": 0, \"ticks\": \"\"}}, \"marker\": {\"colorbar\": {\"outlinewidth\": 0, \"ticks\": \"\"}}, \"type\": \"scatter3d\"}], \"scattercarpet\": [{\"marker\": {\"colorbar\": {\"outlinewidth\": 0, \"ticks\": \"\"}}, \"type\": \"scattercarpet\"}], \"scattergeo\": [{\"marker\": {\"colorbar\": {\"outlinewidth\": 0, \"ticks\": \"\"}}, \"type\": \"scattergeo\"}], \"scattergl\": [{\"marker\": {\"colorbar\": {\"outlinewidth\": 0, \"ticks\": \"\"}}, \"type\": \"scattergl\"}], \"scattermapbox\": [{\"marker\": {\"colorbar\": {\"outlinewidth\": 0, \"ticks\": \"\"}}, \"type\": \"scattermapbox\"}], \"scatterpolar\": [{\"marker\": {\"colorbar\": {\"outlinewidth\": 0, \"ticks\": \"\"}}, \"type\": \"scatterpolar\"}], \"scatterpolargl\": [{\"marker\": {\"colorbar\": {\"outlinewidth\": 0, \"ticks\": \"\"}}, \"type\": \"scatterpolargl\"}], \"scatterternary\": [{\"marker\": {\"colorbar\": {\"outlinewidth\": 0, \"ticks\": \"\"}}, \"type\": \"scatterternary\"}], \"surface\": [{\"colorbar\": {\"outlinewidth\": 0, \"ticks\": \"\"}, \"colorscale\": [[0.0, \"#0d0887\"], [0.1111111111111111, \"#46039f\"], [0.2222222222222222, \"#7201a8\"], [0.3333333333333333, \"#9c179e\"], [0.4444444444444444, \"#bd3786\"], [0.5555555555555556, \"#d8576b\"], [0.6666666666666666, \"#ed7953\"], [0.7777777777777778, \"#fb9f3a\"], [0.8888888888888888, \"#fdca26\"], [1.0, \"#f0f921\"]], \"type\": \"surface\"}], \"table\": [{\"cells\": {\"fill\": {\"color\": \"#EBF0F8\"}, \"line\": {\"color\": \"white\"}}, \"header\": {\"fill\": {\"color\": \"#C8D4E3\"}, \"line\": {\"color\": \"white\"}}, \"type\": \"table\"}]}, \"layout\": {\"annotationdefaults\": {\"arrowcolor\": \"#2a3f5f\", \"arrowhead\": 0, \"arrowwidth\": 1}, \"autotypenumbers\": \"strict\", \"coloraxis\": {\"colorbar\": {\"outlinewidth\": 0, \"ticks\": \"\"}}, \"colorscale\": {\"diverging\": [[0, \"#8e0152\"], [0.1, \"#c51b7d\"], [0.2, \"#de77ae\"], [0.3, \"#f1b6da\"], [0.4, \"#fde0ef\"], [0.5, \"#f7f7f7\"], [0.6, \"#e6f5d0\"], [0.7, \"#b8e186\"], [0.8, \"#7fbc41\"], [0.9, \"#4d9221\"], [1, \"#276419\"]], \"sequential\": [[0.0, \"#0d0887\"], [0.1111111111111111, \"#46039f\"], [0.2222222222222222, \"#7201a8\"], [0.3333333333333333, \"#9c179e\"], [0.4444444444444444, \"#bd3786\"], [0.5555555555555556, \"#d8576b\"], [0.6666666666666666, \"#ed7953\"], [0.7777777777777778, \"#fb9f3a\"], [0.8888888888888888, \"#fdca26\"], [1.0, \"#f0f921\"]], \"sequentialminus\": [[0.0, \"#0d0887\"], [0.1111111111111111, \"#46039f\"], [0.2222222222222222, \"#7201a8\"], [0.3333333333333333, \"#9c179e\"], [0.4444444444444444, \"#bd3786\"], [0.5555555555555556, \"#d8576b\"], [0.6666666666666666, \"#ed7953\"], [0.7777777777777778, \"#fb9f3a\"], [0.8888888888888888, \"#fdca26\"], [1.0, \"#f0f921\"]]}, \"colorway\": [\"#636efa\", \"#EF553B\", \"#00cc96\", \"#ab63fa\", \"#FFA15A\", \"#19d3f3\", \"#FF6692\", \"#B6E880\", \"#FF97FF\", \"#FECB52\"], \"font\": {\"color\": \"#2a3f5f\"}, \"geo\": {\"bgcolor\": \"white\", \"lakecolor\": \"white\", \"landcolor\": \"#E5ECF6\", \"showlakes\": true, \"showland\": true, \"subunitcolor\": \"white\"}, \"hoverlabel\": {\"align\": \"left\"}, \"hovermode\": \"closest\", \"mapbox\": {\"style\": \"light\"}, \"paper_bgcolor\": \"white\", \"plot_bgcolor\": \"#E5ECF6\", \"polar\": {\"angularaxis\": {\"gridcolor\": \"white\", \"linecolor\": \"white\", \"ticks\": \"\"}, \"bgcolor\": \"#E5ECF6\", \"radialaxis\": {\"gridcolor\": \"white\", \"linecolor\": \"white\", \"ticks\": \"\"}}, \"scene\": {\"xaxis\": {\"backgroundcolor\": \"#E5ECF6\", \"gridcolor\": \"white\", \"gridwidth\": 2, \"linecolor\": \"white\", \"showbackground\": true, \"ticks\": \"\", \"zerolinecolor\": \"white\"}, \"yaxis\": {\"backgroundcolor\": \"#E5ECF6\", \"gridcolor\": \"white\", \"gridwidth\": 2, \"linecolor\": \"white\", \"showbackground\": true, \"ticks\": \"\", \"zerolinecolor\": \"white\"}, \"zaxis\": {\"backgroundcolor\": \"#E5ECF6\", \"gridcolor\": \"white\", \"gridwidth\": 2, \"linecolor\": \"white\", \"showbackground\": true, \"ticks\": \"\", \"zerolinecolor\": \"white\"}}, \"shapedefaults\": {\"line\": {\"color\": \"#2a3f5f\"}}, \"ternary\": {\"aaxis\": {\"gridcolor\": \"white\", \"linecolor\": \"white\", \"ticks\": \"\"}, \"baxis\": {\"gridcolor\": \"white\", \"linecolor\": \"white\", \"ticks\": \"\"}, \"bgcolor\": \"#E5ECF6\", \"caxis\": {\"gridcolor\": \"white\", \"linecolor\": \"white\", \"ticks\": \"\"}}, \"title\": {\"x\": 0.05}, \"xaxis\": {\"automargin\": true, \"gridcolor\": \"white\", \"linecolor\": \"white\", \"ticks\": \"\", \"title\": {\"standoff\": 15}, \"zerolinecolor\": \"white\", \"zerolinewidth\": 2}, \"yaxis\": {\"automargin\": true, \"gridcolor\": \"white\", \"linecolor\": \"white\", \"ticks\": \"\", \"title\": {\"standoff\": 15}, \"zerolinecolor\": \"white\", \"zerolinewidth\": 2}}}, \"xaxis\": {\"anchor\": \"y\", \"domain\": [0.0, 1.0], \"title\": {\"text\": \"timestep\"}}, \"yaxis\": {\"anchor\": \"x\", \"domain\": [0.0, 1.0], \"title\": {\"text\": \"network_allocation\"}}},                        {\"responsive\": true}                    ).then(function(){\n",
       "                            \n",
       "var gd = document.getElementById('ec1ba05a-3cf0-4569-9374-30d4b288b376');\n",
       "var x = new MutationObserver(function (mutations, observer) {{\n",
       "        var display = window.getComputedStyle(gd).display;\n",
       "        if (!display || display === 'none') {{\n",
       "            console.log([gd, 'removed!']);\n",
       "            Plotly.purge(gd);\n",
       "            observer.disconnect();\n",
       "        }}\n",
       "}});\n",
       "\n",
       "// Listen for the removal of the full notebook cells\n",
       "var notebookContainer = gd.closest('#notebook-container');\n",
       "if (notebookContainer) {{\n",
       "    x.observe(notebookContainer, {childList: true});\n",
       "}}\n",
       "\n",
       "// Listen for the clearing of the current output cell\n",
       "var outputEl = gd.closest('.output');\n",
       "if (outputEl) {{\n",
       "    x.observe(outputEl, {childList: true});\n",
       "}}\n",
       "\n",
       "                        })                };                });            </script>        </div>"
      ]
     },
     "metadata": {},
     "output_type": "display_data"
    },
    {
     "name": "stdout",
     "output_type": "stream",
     "text": [
      "time: 78.2 ms (started: 2021-09-13 11:57:55 +02:00)\n"
     ]
    }
   ],
   "source": [
    "# Plot the total validating rewards in ETH for each subset\n",
    "px.line(df, x='timestep', y='network_allocation')"
   ]
  },
  {
   "cell_type": "markdown",
   "id": "3bb124e9",
   "metadata": {},
   "source": [
    "# Creating New, Customized Experiment Notebooks\n",
    "\n",
    "If you want to create an entirely new analysis, you'll need to create a new experiment notebook, which entails the following steps:\n",
    "* Step 1: Select an experiment template from the `experiments/templates/` directory to start from. If you'd like to create your own template, the [example_analysis.py](../templates/example_analysis.py) template gives an example of extending the default experiment to override default State Variables and System Parameters that you can copy.\n",
    "* Step 2: Create a new notebook in the `experiments/notebooks/` directory, using the [template.ipynb](./template.ipynb) notebook as a guide, and import the experiment from the experiment template.\n",
    "* Step 3: Customize the experiment for your specific analysis.\n",
    "* Step 4: Execute your experiment, post-process and analyze the results, and create Plotly charts!"
   ]
  },
  {
   "cell_type": "markdown",
   "id": "239bfea4",
   "metadata": {},
   "source": [
    "# Advanced Experiment-configuration & Simulation Techniques"
   ]
  },
  {
   "cell_type": "markdown",
   "id": "616a0876",
   "metadata": {},
   "source": [
    "## Setting Simulation Timesteps and Unit of Time `dt`"
   ]
  },
  {
   "cell_type": "code",
   "execution_count": null,
   "id": "cb7b71f4",
   "metadata": {},
   "outputs": [],
   "source": [
    "from experiments.simulation_configuration import TIMESTEPS, DELTA_TIME, SIMULATION_TIME_MONTHS"
   ]
  },
  {
   "cell_type": "markdown",
   "id": "f1b8afec",
   "metadata": {},
   "source": [
    "We can configure the number of simulation timesteps `TIMESTEPS` from a simulation time in months `SIMULATION_TIME_MONTHS`, multiplied by the number of epochs in a month, and divided by the simulation unit of time `DELTA_TIME`:"
   ]
  },
  {
   "cell_type": "code",
   "execution_count": null,
   "id": "ce21a6ae",
   "metadata": {},
   "outputs": [],
   "source": [
    "SIMULATION_TIME_MONTHS / 12  # Divide months by 12 to get number of years"
   ]
  },
  {
   "cell_type": "markdown",
   "id": "2522ddd4",
   "metadata": {},
   "source": [
    "`DELTA_TIME` is a variable that sets how many epochs are simulated for each timestep. Sometimes, if we don't need a finer granularity (1 epoch per timestep, for example), we can then set `DELTA_TIME` to a larger value for better performance. The default value is 1 day or `225` epochs. This means that all our time-based states will be for a period of 1 day (we call this \"aggregation\"), which is convenient."
   ]
  },
  {
   "cell_type": "code",
   "execution_count": null,
   "id": "e0062645",
   "metadata": {},
   "outputs": [],
   "source": [
    "DELTA_TIME"
   ]
  },
  {
   "cell_type": "markdown",
   "id": "460e7a7a",
   "metadata": {},
   "source": [
    "`TIMESTEPS` is now simply the simulation time in months, multiplied by the number of epochs in a month, divided by `DELTA_TIME`:"
   ]
  },
  {
   "cell_type": "markdown",
   "id": "31103059",
   "metadata": {},
   "source": [
    "```python\n",
    "TIMESTEPS = constants.epochs_per_month * SIMULATION_TIME_MONTHS // DELTA_TIME\n",
    "```"
   ]
  },
  {
   "cell_type": "code",
   "execution_count": null,
   "id": "3568dcc2",
   "metadata": {},
   "outputs": [],
   "source": [
    "TIMESTEPS"
   ]
  },
  {
   "cell_type": "markdown",
   "id": "3c877b56",
   "metadata": {},
   "source": [
    "Finally, to set the simulation timesteps (note, you may have to update the environmental processes that depend on the number of timesteps, and override the relevant parameters):"
   ]
  },
  {
   "cell_type": "code",
   "execution_count": null,
   "id": "d7f070d6",
   "metadata": {},
   "outputs": [],
   "source": [
    "simulation_analysis_1.timesteps = TIMESTEPS"
   ]
  },
  {
   "cell_type": "markdown",
   "id": "9113b2bf",
   "metadata": {},
   "source": [
    "### Considerations When Performing Efficient Phase-space Simulations"
   ]
  },
  {
   "cell_type": "markdown",
   "id": "bf01829f",
   "metadata": {},
   "source": [
    "In `simulation_analysis_3`, `timesteps` is decreased to `1`, but `dt` is increased to `TIMESTEPS * DELTA_TIME`, where `DELTA_TIME` is the full duration of the simulation. This produces the final result in a single processing cycle, producing the full phase-space with very low processing overhead. This is achieved by ignoring all time-series information between the beginning and end of the simulation.\n",
    "\n",
    "There is a test function `test_dt(...)` in `tests/test_integration.py` that can be used to verify that no information is lost due to the approximations taken along the time axis for the specific State Variables that you are interested in, and that your custom code has not introduced mechanisms that might not work well with this kind of approximation. \n",
    "\n",
    "An example of a type of mechanism that would not work with this kind of approximation is a mechanism that implements some form of feedback loop."
   ]
  }
 ],
 "metadata": {
  "kernelspec": {
   "display_name": "Python (CADLabs Ethereum Economic Model)",
   "language": "python",
   "name": "python-cadlabs-eth-model"
  },
  "language_info": {
   "codemirror_mode": {
    "name": "ipython",
    "version": 3
   },
   "file_extension": ".py",
   "mimetype": "text/x-python",
   "name": "python",
   "nbconvert_exporter": "python",
   "pygments_lexer": "ipython3",
   "version": "3.8.2"
  }
 },
 "nbformat": 4,
 "nbformat_minor": 5
}
