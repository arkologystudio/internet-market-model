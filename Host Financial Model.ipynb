{
 "cells": [
  {
   "cell_type": "markdown",
   "id": "2663a1a4",
   "metadata": {},
   "source": [
    "<h1>CURRENTS Mesh Network - cadCAD Model</h1>\n",
    "\n",
    "<h2>Model introduction</h2>\n",
    "\n",
    "Individual host KPIs\n",
    "\n",
    "\n",
    "### Assumptions\n",
    " \n",
    "\n",
    "### Constraints / Scope\n"
   ]
  },
  {
   "cell_type": "markdown",
   "id": "33420739",
   "metadata": {},
   "source": [
    "# 0. Dependencies"
   ]
  },
  {
   "cell_type": "code",
   "execution_count": 158,
   "id": "af962b98",
   "metadata": {},
   "outputs": [],
   "source": [
    "# Standard libraries: https://docs.python.org/3/library/\n",
    "import math\n",
    "from numpy import random\n",
    "import numpy as np\n",
    "\n",
    "# Analysis and plotting modules\n",
    "import pandas as pd\n",
    "import matplotlib.pyplot as plt\n",
    "import plotly.express as px\n",
    "from random import normalvariate\n",
    "\n",
    "# cadCAD configuration modules\n",
    "from cadCAD.configuration.utils import config_sim\n",
    "from cadCAD.configuration import Experiment\n",
    "\n",
    "# cadCAD simulation engine modules\n",
    "from cadCAD.engine import ExecutionContext, Executor\n"
   ]
  },
  {
   "cell_type": "markdown",
   "id": "c4c2d314",
   "metadata": {},
   "source": [
    "# 1. State Variables & System Parameters"
   ]
  },
  {
   "cell_type": "code",
   "execution_count": 159,
   "id": "fdd9ada4",
   "metadata": {},
   "outputs": [],
   "source": [
    "# Time horizon (Days)\n",
    "time = 365\n",
    "\n",
    "\n",
    "# System states (python dictionaries):\n",
    "initial_state = {\n",
    "    'clients': 5,\n",
    "    'host_revenue': 0,\n",
    "    'demand': 0,\n",
    "    'host_revenue': 0,\n",
    "    'host_profit': 0,\n",
    "    'host_expenses': 0,\n",
    "    'cumulative_profit': 0\n",
    "\n",
    "}\n",
    "\n",
    "\n",
    "# System parameters (python lists):\n",
    "\n",
    "system_params = {\n",
    "    'price': [0.3],\n",
    "    'host_line_cost': [0.06],\n",
    "    'host_capacity': [2000],\n",
    "    'potential_clients': [100], \n",
    "    'operating_expenses': [10],\n",
    "    'avg_client_allocation': [20],\n",
    "    'platform_fee': [0.02],\n",
    "    'client_acquisition_rate_coeff': [0.013]\n",
    "        \n",
    "}\n",
    "\n",
    "\n",
    "MONTE_CARLO_RUNS = 1\n",
    "\n",
    "#flexible way to create unique seeds for each monte carlo run\n",
    "seeds = [random.RandomState(i) for i in range(MONTE_CARLO_RUNS)] "
   ]
  },
  {
   "cell_type": "markdown",
   "id": "d935cf00",
   "metadata": {},
   "source": [
    "# 2. Policy functions"
   ]
  },
  {
   "cell_type": "code",
   "execution_count": 160,
   "id": "698a8571",
   "metadata": {},
   "outputs": [],
   "source": [
    "# Returns a dictionary\n",
    "# Never updates a state directly. Rather, it returns an Input/Signal which is used by a State Update function to update the state\n",
    "\n",
    "\n",
    "\n",
    "def p_client_acquisition(params, substep, state_history, previous_state):\n",
    "    \n",
    "    run = previous_state['run']\n",
    "    \n",
    "    hostCapacity = params['host_capacity']\n",
    "    clientAllocation = params['avg_client_allocation']\n",
    "    \n",
    "    maxClients = hostCapacity/clientAllocation\n",
    "    \n",
    "    if(maxClients > previous_state['clients']):\n",
    "    \n",
    "        # S-shaped growth representing client acquisition ('diffusion of innovation')\n",
    "        x = state_history[-1][-1]['timestep']\n",
    "        mp = time/2 # midpoint of sigmoid\n",
    "        #k = 0.015 # steepness of curve (default)\n",
    "        k = params['client_acquisition_rate_coeff']\n",
    "        height = params['potential_clients']\n",
    "\n",
    "        clients = height / (1+ math.e**(-k*(x-mp))) \n",
    "        clients = int(clients)\n",
    "        \n",
    "    else:\n",
    "        clients = maxClients\n",
    "    \n",
    "    return {'newClients': clients}\n",
    "\n",
    "\n",
    "# calculate daily demand \n",
    "def p_demand(params, substep, state_history, previous_state):\n",
    "    \n",
    "    demand = previous_state['clients'] * params['avg_client_allocation']\n",
    "    \n",
    "    return {'demand': demand}\n",
    "\n",
    "\n",
    "\n",
    "def p_revenue(params, substep, state_history, previous_state):\n",
    "    \n",
    "    revenue = previous_state['demand'] * params['price']\n",
    "    \n",
    "    return {'host_revenue': revenue}\n",
    "\n",
    "\n",
    "\n",
    "def p_expenses(params, substep, state_history, previous_state):\n",
    "    \n",
    "    platformCommission = previous_state['host_revenue'] * params['platform_fee']\n",
    "    \n",
    "    expenses = (params['host_line_cost']*params['host_capacity']) + params['operating_expenses'] - platformCommission\n",
    "    \n",
    "    return {'host_expenses': expenses}\n",
    "\n",
    "\n",
    "\n",
    "def p_profit(params, substep, state_history, previous_state):\n",
    "    \n",
    "    profit = previous_state['host_revenue'] - previous_state['host_expenses']\n",
    "    \n",
    "    return {'host_profit': profit}\n",
    "\n",
    "def p_cumulative_profit(params, substep, state_history, previous_state):\n",
    "    \n",
    "    cumulativeProfit = previous_state['cumulative_profit'] + previous_state['host_profit']\n",
    "    \n",
    "    return {'cumulative_profit': cumulativeProfit}\n",
    "\n",
    "\n"
   ]
  },
  {
   "cell_type": "markdown",
   "id": "aeb9e1fc",
   "metadata": {},
   "source": [
    "# 3. State Update Functions"
   ]
  },
  {
   "cell_type": "code",
   "execution_count": 161,
   "id": "e4288321",
   "metadata": {},
   "outputs": [],
   "source": [
    "# Update number of clients based on s-curve\n",
    "def s_clients(params, substep, state_history, previous_state, policy_input):\n",
    "    \n",
    "    x = policy_input['newClients'] \n",
    "    \n",
    "    return ('clients', x)\n",
    "\n",
    "\n",
    "\n",
    "# Update daily demand (i.e. bandwidth allocation)\n",
    "def s_demand(params, substep, state_history, previous_state, policy_input):\n",
    "    \n",
    "    x = policy_input['demand']\n",
    "    \n",
    "    return ('demand', x)\n",
    "\n",
    "\n",
    "\n",
    "# Update daily revenue\n",
    "def s_revenue(params, substep, state_history, previous_state, policy_input): \n",
    "    \n",
    "    x = policy_input['host_revenue']\n",
    "    \n",
    "    return ('host_revenue', x)\n",
    "\n",
    "\n",
    "\n",
    "# Update daily expenses\n",
    "def s_expenses(params, substep, state_history, previous_state, policy_input):  \n",
    "    \n",
    "    x = policy_input['host_expenses']\n",
    "    \n",
    "    return ('host_expenses', x)\n",
    "\n",
    "\n",
    "\n",
    "# Update daily profit\n",
    "def s_profit(params, substep, state_history, previous_state, policy_input):  \n",
    "    \n",
    "    x = policy_input['host_profit'];\n",
    "    \n",
    "    return ('host_profit', x)\n",
    "\n",
    "# Update cumulative profit\n",
    "def s_cumulative_profit(params, substep, state_history, previous_state, policy_input):  \n",
    "    \n",
    "    x = policy_input['cumulative_profit'];\n",
    "    \n",
    "    return ('cumulative_profit', x)\n",
    "\n",
    "\n",
    "\n",
    "\n"
   ]
  },
  {
   "cell_type": "markdown",
   "id": "e0553174",
   "metadata": {},
   "source": [
    "# 4. Partial State Update Blocks"
   ]
  },
  {
   "cell_type": "code",
   "execution_count": 162,
   "id": "a70ab12a",
   "metadata": {},
   "outputs": [],
   "source": [
    "partial_state_update_blocks = [\n",
    "    {\n",
    "        'policies': {\n",
    "            'client_acquisition': p_client_acquisition,\n",
    "            'demand': p_demand,\n",
    "            'revenue': p_revenue,\n",
    "            'expenses': p_expenses,\n",
    "            'profit': p_profit,\n",
    "            'cumulative_profit': p_cumulative_profit\n",
    "        },\n",
    "        'variables': {\n",
    "            'active_clients': s_clients,\n",
    "            'demand': s_demand,\n",
    "            'revenue': s_revenue,\n",
    "            'expenses': s_expenses,\n",
    "            'profit': s_profit,\n",
    "            'cumulative_profit': s_cumulative_profit\n",
    "        }\n",
    "    }\n",
    "]"
   ]
  },
  {
   "cell_type": "markdown",
   "id": "625a6be0",
   "metadata": {},
   "source": [
    "# 5. Simulation Execution"
   ]
  },
  {
   "cell_type": "code",
   "execution_count": 163,
   "id": "8b76da26",
   "metadata": {},
   "outputs": [
    {
     "name": "stdout",
     "output_type": "stream",
     "text": [
      "\n",
      "                  ___________    ____\n",
      "  ________ __ ___/ / ____/   |  / __ \\\n",
      " / ___/ __` / __  / /   / /| | / / / /\n",
      "/ /__/ /_/ / /_/ / /___/ ___ |/ /_/ /\n",
      "\\___/\\__,_/\\__,_/\\____/_/  |_/_____/\n",
      "by cadCAD\n",
      "\n",
      "Execution Mode: local_proc\n",
      "Configuration Count: 1\n",
      "Dimensions of the first simulation: (Timesteps, Params, Runs, Vars) = (365, 8, 1, 6)\n",
      "Execution Method: local_simulations\n",
      "SimIDs   : [0]\n",
      "SubsetIDs: [0]\n",
      "Ns       : [0]\n",
      "ExpIDs   : [0]\n",
      "Execution Mode: single_threaded\n",
      "Total execution time: 0.03s\n"
     ]
    }
   ],
   "source": [
    "from cadCAD import configs\n",
    "del configs[:] # Clear any prior configs\n",
    "\n",
    "\n",
    "sim_config = config_sim({\n",
    "    'N': 1,\n",
    "    'T': range(time),\n",
    "    'M': system_params\n",
    "})\n",
    "\n",
    "\n",
    "experiment = Experiment()\n",
    "experiment.append_configs(\n",
    "    initial_state = initial_state,\n",
    "    partial_state_update_blocks = partial_state_update_blocks,\n",
    "    sim_configs = sim_config\n",
    ")\n",
    "\n",
    "\n",
    "\n",
    "exec_context = ExecutionContext()\n",
    "run = Executor(exec_context=exec_context, configs=configs)\n",
    "\n",
    "(system_events, tensor_field, sessions) = run.execute()"
   ]
  },
  {
   "cell_type": "markdown",
   "id": "a22122e8",
   "metadata": {},
   "source": [
    "# 6. Simulation Output Preparation"
   ]
  },
  {
   "cell_type": "markdown",
   "id": "769a81d6",
   "metadata": {},
   "source": [
    "### Check initial data"
   ]
  },
  {
   "cell_type": "code",
   "execution_count": 164,
   "id": "12cd9097",
   "metadata": {
    "scrolled": false
   },
   "outputs": [
    {
     "data": {
      "text/html": [
       "<div>\n",
       "<style scoped>\n",
       "    .dataframe tbody tr th:only-of-type {\n",
       "        vertical-align: middle;\n",
       "    }\n",
       "\n",
       "    .dataframe tbody tr th {\n",
       "        vertical-align: top;\n",
       "    }\n",
       "\n",
       "    .dataframe thead th {\n",
       "        text-align: right;\n",
       "    }\n",
       "</style>\n",
       "<table border=\"1\" class=\"dataframe\">\n",
       "  <thead>\n",
       "    <tr style=\"text-align: right;\">\n",
       "      <th></th>\n",
       "      <th>clients</th>\n",
       "      <th>host_revenue</th>\n",
       "      <th>demand</th>\n",
       "      <th>host_profit</th>\n",
       "      <th>host_expenses</th>\n",
       "      <th>cumulative_profit</th>\n",
       "      <th>simulation</th>\n",
       "      <th>subset</th>\n",
       "      <th>run</th>\n",
       "      <th>substep</th>\n",
       "      <th>timestep</th>\n",
       "    </tr>\n",
       "  </thead>\n",
       "  <tbody>\n",
       "    <tr>\n",
       "      <th>0</th>\n",
       "      <td>5</td>\n",
       "      <td>0.0</td>\n",
       "      <td>0</td>\n",
       "      <td>0.00</td>\n",
       "      <td>0.00</td>\n",
       "      <td>0.00</td>\n",
       "      <td>0</td>\n",
       "      <td>0</td>\n",
       "      <td>1</td>\n",
       "      <td>0</td>\n",
       "      <td>0</td>\n",
       "    </tr>\n",
       "    <tr>\n",
       "      <th>1</th>\n",
       "      <td>8</td>\n",
       "      <td>0.0</td>\n",
       "      <td>100</td>\n",
       "      <td>0.00</td>\n",
       "      <td>130.00</td>\n",
       "      <td>0.00</td>\n",
       "      <td>0</td>\n",
       "      <td>0</td>\n",
       "      <td>1</td>\n",
       "      <td>1</td>\n",
       "      <td>1</td>\n",
       "    </tr>\n",
       "    <tr>\n",
       "      <th>2</th>\n",
       "      <td>8</td>\n",
       "      <td>30.0</td>\n",
       "      <td>160</td>\n",
       "      <td>-130.00</td>\n",
       "      <td>130.00</td>\n",
       "      <td>0.00</td>\n",
       "      <td>0</td>\n",
       "      <td>0</td>\n",
       "      <td>1</td>\n",
       "      <td>1</td>\n",
       "      <td>2</td>\n",
       "    </tr>\n",
       "    <tr>\n",
       "      <th>3</th>\n",
       "      <td>8</td>\n",
       "      <td>48.0</td>\n",
       "      <td>160</td>\n",
       "      <td>-100.00</td>\n",
       "      <td>129.40</td>\n",
       "      <td>-130.00</td>\n",
       "      <td>0</td>\n",
       "      <td>0</td>\n",
       "      <td>1</td>\n",
       "      <td>1</td>\n",
       "      <td>3</td>\n",
       "    </tr>\n",
       "    <tr>\n",
       "      <th>4</th>\n",
       "      <td>8</td>\n",
       "      <td>48.0</td>\n",
       "      <td>160</td>\n",
       "      <td>-81.40</td>\n",
       "      <td>129.04</td>\n",
       "      <td>-230.00</td>\n",
       "      <td>0</td>\n",
       "      <td>0</td>\n",
       "      <td>1</td>\n",
       "      <td>1</td>\n",
       "      <td>4</td>\n",
       "    </tr>\n",
       "    <tr>\n",
       "      <th>...</th>\n",
       "      <td>...</td>\n",
       "      <td>...</td>\n",
       "      <td>...</td>\n",
       "      <td>...</td>\n",
       "      <td>...</td>\n",
       "      <td>...</td>\n",
       "      <td>...</td>\n",
       "      <td>...</td>\n",
       "      <td>...</td>\n",
       "      <td>...</td>\n",
       "      <td>...</td>\n",
       "    </tr>\n",
       "    <tr>\n",
       "      <th>95</th>\n",
       "      <td>24</td>\n",
       "      <td>138.0</td>\n",
       "      <td>460</td>\n",
       "      <td>10.76</td>\n",
       "      <td>127.24</td>\n",
       "      <td>-4069.44</td>\n",
       "      <td>0</td>\n",
       "      <td>0</td>\n",
       "      <td>1</td>\n",
       "      <td>1</td>\n",
       "      <td>95</td>\n",
       "    </tr>\n",
       "    <tr>\n",
       "      <th>96</th>\n",
       "      <td>24</td>\n",
       "      <td>138.0</td>\n",
       "      <td>480</td>\n",
       "      <td>10.76</td>\n",
       "      <td>127.24</td>\n",
       "      <td>-4058.68</td>\n",
       "      <td>0</td>\n",
       "      <td>0</td>\n",
       "      <td>1</td>\n",
       "      <td>1</td>\n",
       "      <td>96</td>\n",
       "    </tr>\n",
       "    <tr>\n",
       "      <th>97</th>\n",
       "      <td>24</td>\n",
       "      <td>144.0</td>\n",
       "      <td>480</td>\n",
       "      <td>10.76</td>\n",
       "      <td>127.24</td>\n",
       "      <td>-4047.92</td>\n",
       "      <td>0</td>\n",
       "      <td>0</td>\n",
       "      <td>1</td>\n",
       "      <td>1</td>\n",
       "      <td>97</td>\n",
       "    </tr>\n",
       "    <tr>\n",
       "      <th>98</th>\n",
       "      <td>24</td>\n",
       "      <td>144.0</td>\n",
       "      <td>480</td>\n",
       "      <td>16.76</td>\n",
       "      <td>127.12</td>\n",
       "      <td>-4037.16</td>\n",
       "      <td>0</td>\n",
       "      <td>0</td>\n",
       "      <td>1</td>\n",
       "      <td>1</td>\n",
       "      <td>98</td>\n",
       "    </tr>\n",
       "    <tr>\n",
       "      <th>99</th>\n",
       "      <td>25</td>\n",
       "      <td>144.0</td>\n",
       "      <td>480</td>\n",
       "      <td>16.88</td>\n",
       "      <td>127.12</td>\n",
       "      <td>-4020.40</td>\n",
       "      <td>0</td>\n",
       "      <td>0</td>\n",
       "      <td>1</td>\n",
       "      <td>1</td>\n",
       "      <td>99</td>\n",
       "    </tr>\n",
       "  </tbody>\n",
       "</table>\n",
       "<p>100 rows × 11 columns</p>\n",
       "</div>"
      ],
      "text/plain": [
       "    clients  host_revenue  demand  host_profit  host_expenses  \\\n",
       "0         5           0.0       0         0.00           0.00   \n",
       "1         8           0.0     100         0.00         130.00   \n",
       "2         8          30.0     160      -130.00         130.00   \n",
       "3         8          48.0     160      -100.00         129.40   \n",
       "4         8          48.0     160       -81.40         129.04   \n",
       "..      ...           ...     ...          ...            ...   \n",
       "95       24         138.0     460        10.76         127.24   \n",
       "96       24         138.0     480        10.76         127.24   \n",
       "97       24         144.0     480        10.76         127.24   \n",
       "98       24         144.0     480        16.76         127.12   \n",
       "99       25         144.0     480        16.88         127.12   \n",
       "\n",
       "    cumulative_profit  simulation  subset  run  substep  timestep  \n",
       "0                0.00           0       0    1        0         0  \n",
       "1                0.00           0       0    1        1         1  \n",
       "2                0.00           0       0    1        1         2  \n",
       "3             -130.00           0       0    1        1         3  \n",
       "4             -230.00           0       0    1        1         4  \n",
       "..                ...         ...     ...  ...      ...       ...  \n",
       "95           -4069.44           0       0    1        1        95  \n",
       "96           -4058.68           0       0    1        1        96  \n",
       "97           -4047.92           0       0    1        1        97  \n",
       "98           -4037.16           0       0    1        1        98  \n",
       "99           -4020.40           0       0    1        1        99  \n",
       "\n",
       "[100 rows x 11 columns]"
      ]
     },
     "execution_count": 164,
     "metadata": {},
     "output_type": "execute_result"
    }
   ],
   "source": [
    "simulation_result = pd.DataFrame(system_events)\n",
    "simulation_result.head(100)"
   ]
  },
  {
   "cell_type": "markdown",
   "id": "188a9102",
   "metadata": {},
   "source": [
    "### Clean substeps"
   ]
  },
  {
   "cell_type": "code",
   "execution_count": 165,
   "id": "690034e3",
   "metadata": {},
   "outputs": [],
   "source": [
    "\n",
    "\n",
    "# Convert system events dictionary into a pandas dataframe\n",
    "# Get system events and attribute index\n",
    "df = (pd.DataFrame(system_events)\n",
    "        .assign(days=lambda df: df.timestep)\n",
    "        .query('timestep > 1')\n",
    "     )\n",
    "\n",
    "# Clean substeps\n",
    "first_ind = (df.substep == 0) & (df.timestep == 0)\n",
    "last_ind = df.substep == max(df.substep)\n",
    "inds_to_drop = (first_ind | last_ind)\n",
    "df = df.loc[inds_to_drop].drop(columns=['substep'])\n",
    "\n",
    "# Attribute parameters to each row\n",
    "df = df.assign(**configs[0].sim_config['M'])\n",
    "for i, (_, n_df) in enumerate(df.groupby(['simulation', 'subset', 'run'])):\n",
    "    df.loc[n_df.index] = n_df.assign(**configs[i].sim_config['M'])\n",
    "    "
   ]
  },
  {
   "cell_type": "markdown",
   "id": "d630f595",
   "metadata": {},
   "source": [
    "# 7. Plot data"
   ]
  },
  {
   "cell_type": "code",
   "execution_count": 166,
   "id": "e4ec976f",
   "metadata": {
    "scrolled": false
   },
   "outputs": [
    {
     "data": {
      "application/vnd.plotly.v1+json": {
       "config": {
        "plotlyServerURL": "https://plot.ly"
       },
       "data": [
        {
         "hovertemplate": "variable=clients<br>client_acquisition_rate_coeff=0.013<br>timestep=%{x}<br>value=%{y}<extra></extra>",
         "legendgroup": "clients",
         "line": {
          "color": "#636efa",
          "dash": "solid"
         },
         "mode": "lines",
         "name": "clients",
         "orientation": "v",
         "showlegend": true,
         "type": "scatter",
         "x": [
          2,
          3,
          4,
          5,
          6,
          7,
          8,
          9,
          10,
          11,
          12,
          13,
          14,
          15,
          16,
          17,
          18,
          19,
          20,
          21,
          22,
          23,
          24,
          25,
          26,
          27,
          28,
          29,
          30,
          31,
          32,
          33,
          34,
          35,
          36,
          37,
          38,
          39,
          40,
          41,
          42,
          43,
          44,
          45,
          46,
          47,
          48,
          49,
          50,
          51,
          52,
          53,
          54,
          55,
          56,
          57,
          58,
          59,
          60,
          61,
          62,
          63,
          64,
          65,
          66,
          67,
          68,
          69,
          70,
          71,
          72,
          73,
          74,
          75,
          76,
          77,
          78,
          79,
          80,
          81,
          82,
          83,
          84,
          85,
          86,
          87,
          88,
          89,
          90,
          91,
          92,
          93,
          94,
          95,
          96,
          97,
          98,
          99,
          100,
          101,
          102,
          103,
          104,
          105,
          106,
          107,
          108,
          109,
          110,
          111,
          112,
          113,
          114,
          115,
          116,
          117,
          118,
          119,
          120,
          121,
          122,
          123,
          124,
          125,
          126,
          127,
          128,
          129,
          130,
          131,
          132,
          133,
          134,
          135,
          136,
          137,
          138,
          139,
          140,
          141,
          142,
          143,
          144,
          145,
          146,
          147,
          148,
          149,
          150,
          151,
          152,
          153,
          154,
          155,
          156,
          157,
          158,
          159,
          160,
          161,
          162,
          163,
          164,
          165,
          166,
          167,
          168,
          169,
          170,
          171,
          172,
          173,
          174,
          175,
          176,
          177,
          178,
          179,
          180,
          181,
          182,
          183,
          184,
          185,
          186,
          187,
          188,
          189,
          190,
          191,
          192,
          193,
          194,
          195,
          196,
          197,
          198,
          199,
          200,
          201,
          202,
          203,
          204,
          205,
          206,
          207,
          208,
          209,
          210,
          211,
          212,
          213,
          214,
          215,
          216,
          217,
          218,
          219,
          220,
          221,
          222,
          223,
          224,
          225,
          226,
          227,
          228,
          229,
          230,
          231,
          232,
          233,
          234,
          235,
          236,
          237,
          238,
          239,
          240,
          241,
          242,
          243,
          244,
          245,
          246,
          247,
          248,
          249,
          250,
          251,
          252,
          253,
          254,
          255,
          256,
          257,
          258,
          259,
          260,
          261,
          262,
          263,
          264,
          265,
          266,
          267,
          268,
          269,
          270,
          271,
          272,
          273,
          274,
          275,
          276,
          277,
          278,
          279,
          280,
          281,
          282,
          283,
          284,
          285,
          286,
          287,
          288,
          289,
          290,
          291,
          292,
          293,
          294,
          295,
          296,
          297,
          298,
          299,
          300,
          301,
          302,
          303,
          304,
          305,
          306,
          307,
          308,
          309,
          310,
          311,
          312,
          313,
          314,
          315,
          316,
          317,
          318,
          319,
          320,
          321,
          322,
          323,
          324,
          325,
          326,
          327,
          328,
          329,
          330,
          331,
          332,
          333,
          334,
          335,
          336,
          337,
          338,
          339,
          340,
          341,
          342,
          343,
          344,
          345,
          346,
          347,
          348,
          349,
          350,
          351,
          352,
          353,
          354,
          355,
          356,
          357,
          358,
          359,
          360,
          361,
          362,
          363,
          364,
          365
         ],
         "xaxis": "x",
         "y": [
          8,
          8,
          8,
          8,
          9,
          9,
          9,
          9,
          9,
          9,
          9,
          9,
          9,
          10,
          10,
          10,
          10,
          10,
          10,
          10,
          10,
          11,
          11,
          11,
          11,
          11,
          11,
          11,
          11,
          12,
          12,
          12,
          12,
          12,
          12,
          12,
          13,
          13,
          13,
          13,
          13,
          13,
          14,
          14,
          14,
          14,
          14,
          14,
          14,
          15,
          15,
          15,
          15,
          15,
          16,
          16,
          16,
          16,
          16,
          16,
          17,
          17,
          17,
          17,
          17,
          18,
          18,
          18,
          18,
          18,
          19,
          19,
          19,
          19,
          19,
          20,
          20,
          20,
          20,
          20,
          21,
          21,
          21,
          21,
          21,
          22,
          22,
          22,
          22,
          23,
          23,
          23,
          23,
          24,
          24,
          24,
          24,
          25,
          25,
          25,
          25,
          25,
          26,
          26,
          26,
          27,
          27,
          27,
          27,
          28,
          28,
          28,
          28,
          29,
          29,
          29,
          29,
          30,
          30,
          30,
          31,
          31,
          31,
          31,
          32,
          32,
          32,
          32,
          33,
          33,
          33,
          34,
          34,
          34,
          35,
          35,
          35,
          35,
          36,
          36,
          36,
          37,
          37,
          37,
          38,
          38,
          38,
          38,
          39,
          39,
          39,
          40,
          40,
          40,
          41,
          41,
          41,
          42,
          42,
          42,
          43,
          43,
          43,
          44,
          44,
          44,
          44,
          45,
          45,
          45,
          46,
          46,
          46,
          47,
          47,
          47,
          48,
          48,
          48,
          49,
          49,
          49,
          50,
          50,
          50,
          51,
          51,
          51,
          52,
          52,
          52,
          53,
          53,
          53,
          54,
          54,
          54,
          55,
          55,
          55,
          55,
          56,
          56,
          56,
          57,
          57,
          57,
          58,
          58,
          58,
          59,
          59,
          59,
          60,
          60,
          60,
          61,
          61,
          61,
          61,
          62,
          62,
          62,
          63,
          63,
          63,
          64,
          64,
          64,
          64,
          65,
          65,
          65,
          66,
          66,
          66,
          67,
          67,
          67,
          67,
          68,
          68,
          68,
          68,
          69,
          69,
          69,
          70,
          70,
          70,
          70,
          71,
          71,
          71,
          71,
          72,
          72,
          72,
          72,
          73,
          73,
          73,
          74,
          74,
          74,
          74,
          74,
          75,
          75,
          75,
          75,
          76,
          76,
          76,
          76,
          77,
          77,
          77,
          77,
          78,
          78,
          78,
          78,
          78,
          79,
          79,
          79,
          79,
          79,
          80,
          80,
          80,
          80,
          80,
          81,
          81,
          81,
          81,
          81,
          82,
          82,
          82,
          82,
          82,
          83,
          83,
          83,
          83,
          83,
          83,
          84,
          84,
          84,
          84,
          84,
          85,
          85,
          85,
          85,
          85,
          85,
          85,
          86,
          86,
          86,
          86,
          86,
          86,
          87,
          87,
          87,
          87,
          87,
          87,
          87,
          88,
          88,
          88,
          88,
          88,
          88,
          88,
          88,
          89,
          89,
          89,
          89,
          89,
          89,
          89,
          89,
          90,
          90,
          90,
          90,
          90,
          90,
          90,
          90,
          90,
          91,
          91,
          91,
          91
         ],
         "yaxis": "y"
        }
       ],
       "layout": {
        "height": 500,
        "legend": {
         "title": {
          "text": "variable"
         },
         "tracegroupgap": 0
        },
        "margin": {
         "t": 60
        },
        "template": {
         "data": {
          "bar": [
           {
            "error_x": {
             "color": "#2a3f5f"
            },
            "error_y": {
             "color": "#2a3f5f"
            },
            "marker": {
             "line": {
              "color": "#E5ECF6",
              "width": 0.5
             }
            },
            "type": "bar"
           }
          ],
          "barpolar": [
           {
            "marker": {
             "line": {
              "color": "#E5ECF6",
              "width": 0.5
             }
            },
            "type": "barpolar"
           }
          ],
          "carpet": [
           {
            "aaxis": {
             "endlinecolor": "#2a3f5f",
             "gridcolor": "white",
             "linecolor": "white",
             "minorgridcolor": "white",
             "startlinecolor": "#2a3f5f"
            },
            "baxis": {
             "endlinecolor": "#2a3f5f",
             "gridcolor": "white",
             "linecolor": "white",
             "minorgridcolor": "white",
             "startlinecolor": "#2a3f5f"
            },
            "type": "carpet"
           }
          ],
          "choropleth": [
           {
            "colorbar": {
             "outlinewidth": 0,
             "ticks": ""
            },
            "type": "choropleth"
           }
          ],
          "contour": [
           {
            "colorbar": {
             "outlinewidth": 0,
             "ticks": ""
            },
            "colorscale": [
             [
              0,
              "#0d0887"
             ],
             [
              0.1111111111111111,
              "#46039f"
             ],
             [
              0.2222222222222222,
              "#7201a8"
             ],
             [
              0.3333333333333333,
              "#9c179e"
             ],
             [
              0.4444444444444444,
              "#bd3786"
             ],
             [
              0.5555555555555556,
              "#d8576b"
             ],
             [
              0.6666666666666666,
              "#ed7953"
             ],
             [
              0.7777777777777778,
              "#fb9f3a"
             ],
             [
              0.8888888888888888,
              "#fdca26"
             ],
             [
              1,
              "#f0f921"
             ]
            ],
            "type": "contour"
           }
          ],
          "contourcarpet": [
           {
            "colorbar": {
             "outlinewidth": 0,
             "ticks": ""
            },
            "type": "contourcarpet"
           }
          ],
          "heatmap": [
           {
            "colorbar": {
             "outlinewidth": 0,
             "ticks": ""
            },
            "colorscale": [
             [
              0,
              "#0d0887"
             ],
             [
              0.1111111111111111,
              "#46039f"
             ],
             [
              0.2222222222222222,
              "#7201a8"
             ],
             [
              0.3333333333333333,
              "#9c179e"
             ],
             [
              0.4444444444444444,
              "#bd3786"
             ],
             [
              0.5555555555555556,
              "#d8576b"
             ],
             [
              0.6666666666666666,
              "#ed7953"
             ],
             [
              0.7777777777777778,
              "#fb9f3a"
             ],
             [
              0.8888888888888888,
              "#fdca26"
             ],
             [
              1,
              "#f0f921"
             ]
            ],
            "type": "heatmap"
           }
          ],
          "heatmapgl": [
           {
            "colorbar": {
             "outlinewidth": 0,
             "ticks": ""
            },
            "colorscale": [
             [
              0,
              "#0d0887"
             ],
             [
              0.1111111111111111,
              "#46039f"
             ],
             [
              0.2222222222222222,
              "#7201a8"
             ],
             [
              0.3333333333333333,
              "#9c179e"
             ],
             [
              0.4444444444444444,
              "#bd3786"
             ],
             [
              0.5555555555555556,
              "#d8576b"
             ],
             [
              0.6666666666666666,
              "#ed7953"
             ],
             [
              0.7777777777777778,
              "#fb9f3a"
             ],
             [
              0.8888888888888888,
              "#fdca26"
             ],
             [
              1,
              "#f0f921"
             ]
            ],
            "type": "heatmapgl"
           }
          ],
          "histogram": [
           {
            "marker": {
             "colorbar": {
              "outlinewidth": 0,
              "ticks": ""
             }
            },
            "type": "histogram"
           }
          ],
          "histogram2d": [
           {
            "colorbar": {
             "outlinewidth": 0,
             "ticks": ""
            },
            "colorscale": [
             [
              0,
              "#0d0887"
             ],
             [
              0.1111111111111111,
              "#46039f"
             ],
             [
              0.2222222222222222,
              "#7201a8"
             ],
             [
              0.3333333333333333,
              "#9c179e"
             ],
             [
              0.4444444444444444,
              "#bd3786"
             ],
             [
              0.5555555555555556,
              "#d8576b"
             ],
             [
              0.6666666666666666,
              "#ed7953"
             ],
             [
              0.7777777777777778,
              "#fb9f3a"
             ],
             [
              0.8888888888888888,
              "#fdca26"
             ],
             [
              1,
              "#f0f921"
             ]
            ],
            "type": "histogram2d"
           }
          ],
          "histogram2dcontour": [
           {
            "colorbar": {
             "outlinewidth": 0,
             "ticks": ""
            },
            "colorscale": [
             [
              0,
              "#0d0887"
             ],
             [
              0.1111111111111111,
              "#46039f"
             ],
             [
              0.2222222222222222,
              "#7201a8"
             ],
             [
              0.3333333333333333,
              "#9c179e"
             ],
             [
              0.4444444444444444,
              "#bd3786"
             ],
             [
              0.5555555555555556,
              "#d8576b"
             ],
             [
              0.6666666666666666,
              "#ed7953"
             ],
             [
              0.7777777777777778,
              "#fb9f3a"
             ],
             [
              0.8888888888888888,
              "#fdca26"
             ],
             [
              1,
              "#f0f921"
             ]
            ],
            "type": "histogram2dcontour"
           }
          ],
          "mesh3d": [
           {
            "colorbar": {
             "outlinewidth": 0,
             "ticks": ""
            },
            "type": "mesh3d"
           }
          ],
          "parcoords": [
           {
            "line": {
             "colorbar": {
              "outlinewidth": 0,
              "ticks": ""
             }
            },
            "type": "parcoords"
           }
          ],
          "pie": [
           {
            "automargin": true,
            "type": "pie"
           }
          ],
          "scatter": [
           {
            "marker": {
             "colorbar": {
              "outlinewidth": 0,
              "ticks": ""
             }
            },
            "type": "scatter"
           }
          ],
          "scatter3d": [
           {
            "line": {
             "colorbar": {
              "outlinewidth": 0,
              "ticks": ""
             }
            },
            "marker": {
             "colorbar": {
              "outlinewidth": 0,
              "ticks": ""
             }
            },
            "type": "scatter3d"
           }
          ],
          "scattercarpet": [
           {
            "marker": {
             "colorbar": {
              "outlinewidth": 0,
              "ticks": ""
             }
            },
            "type": "scattercarpet"
           }
          ],
          "scattergeo": [
           {
            "marker": {
             "colorbar": {
              "outlinewidth": 0,
              "ticks": ""
             }
            },
            "type": "scattergeo"
           }
          ],
          "scattergl": [
           {
            "marker": {
             "colorbar": {
              "outlinewidth": 0,
              "ticks": ""
             }
            },
            "type": "scattergl"
           }
          ],
          "scattermapbox": [
           {
            "marker": {
             "colorbar": {
              "outlinewidth": 0,
              "ticks": ""
             }
            },
            "type": "scattermapbox"
           }
          ],
          "scatterpolar": [
           {
            "marker": {
             "colorbar": {
              "outlinewidth": 0,
              "ticks": ""
             }
            },
            "type": "scatterpolar"
           }
          ],
          "scatterpolargl": [
           {
            "marker": {
             "colorbar": {
              "outlinewidth": 0,
              "ticks": ""
             }
            },
            "type": "scatterpolargl"
           }
          ],
          "scatterternary": [
           {
            "marker": {
             "colorbar": {
              "outlinewidth": 0,
              "ticks": ""
             }
            },
            "type": "scatterternary"
           }
          ],
          "surface": [
           {
            "colorbar": {
             "outlinewidth": 0,
             "ticks": ""
            },
            "colorscale": [
             [
              0,
              "#0d0887"
             ],
             [
              0.1111111111111111,
              "#46039f"
             ],
             [
              0.2222222222222222,
              "#7201a8"
             ],
             [
              0.3333333333333333,
              "#9c179e"
             ],
             [
              0.4444444444444444,
              "#bd3786"
             ],
             [
              0.5555555555555556,
              "#d8576b"
             ],
             [
              0.6666666666666666,
              "#ed7953"
             ],
             [
              0.7777777777777778,
              "#fb9f3a"
             ],
             [
              0.8888888888888888,
              "#fdca26"
             ],
             [
              1,
              "#f0f921"
             ]
            ],
            "type": "surface"
           }
          ],
          "table": [
           {
            "cells": {
             "fill": {
              "color": "#EBF0F8"
             },
             "line": {
              "color": "white"
             }
            },
            "header": {
             "fill": {
              "color": "#C8D4E3"
             },
             "line": {
              "color": "white"
             }
            },
            "type": "table"
           }
          ]
         },
         "layout": {
          "annotationdefaults": {
           "arrowcolor": "#2a3f5f",
           "arrowhead": 0,
           "arrowwidth": 1
          },
          "autotypenumbers": "strict",
          "coloraxis": {
           "colorbar": {
            "outlinewidth": 0,
            "ticks": ""
           }
          },
          "colorscale": {
           "diverging": [
            [
             0,
             "#8e0152"
            ],
            [
             0.1,
             "#c51b7d"
            ],
            [
             0.2,
             "#de77ae"
            ],
            [
             0.3,
             "#f1b6da"
            ],
            [
             0.4,
             "#fde0ef"
            ],
            [
             0.5,
             "#f7f7f7"
            ],
            [
             0.6,
             "#e6f5d0"
            ],
            [
             0.7,
             "#b8e186"
            ],
            [
             0.8,
             "#7fbc41"
            ],
            [
             0.9,
             "#4d9221"
            ],
            [
             1,
             "#276419"
            ]
           ],
           "sequential": [
            [
             0,
             "#0d0887"
            ],
            [
             0.1111111111111111,
             "#46039f"
            ],
            [
             0.2222222222222222,
             "#7201a8"
            ],
            [
             0.3333333333333333,
             "#9c179e"
            ],
            [
             0.4444444444444444,
             "#bd3786"
            ],
            [
             0.5555555555555556,
             "#d8576b"
            ],
            [
             0.6666666666666666,
             "#ed7953"
            ],
            [
             0.7777777777777778,
             "#fb9f3a"
            ],
            [
             0.8888888888888888,
             "#fdca26"
            ],
            [
             1,
             "#f0f921"
            ]
           ],
           "sequentialminus": [
            [
             0,
             "#0d0887"
            ],
            [
             0.1111111111111111,
             "#46039f"
            ],
            [
             0.2222222222222222,
             "#7201a8"
            ],
            [
             0.3333333333333333,
             "#9c179e"
            ],
            [
             0.4444444444444444,
             "#bd3786"
            ],
            [
             0.5555555555555556,
             "#d8576b"
            ],
            [
             0.6666666666666666,
             "#ed7953"
            ],
            [
             0.7777777777777778,
             "#fb9f3a"
            ],
            [
             0.8888888888888888,
             "#fdca26"
            ],
            [
             1,
             "#f0f921"
            ]
           ]
          },
          "colorway": [
           "#636efa",
           "#EF553B",
           "#00cc96",
           "#ab63fa",
           "#FFA15A",
           "#19d3f3",
           "#FF6692",
           "#B6E880",
           "#FF97FF",
           "#FECB52"
          ],
          "font": {
           "color": "#2a3f5f"
          },
          "geo": {
           "bgcolor": "white",
           "lakecolor": "white",
           "landcolor": "#E5ECF6",
           "showlakes": true,
           "showland": true,
           "subunitcolor": "white"
          },
          "hoverlabel": {
           "align": "left"
          },
          "hovermode": "closest",
          "mapbox": {
           "style": "light"
          },
          "paper_bgcolor": "white",
          "plot_bgcolor": "#E5ECF6",
          "polar": {
           "angularaxis": {
            "gridcolor": "white",
            "linecolor": "white",
            "ticks": ""
           },
           "bgcolor": "#E5ECF6",
           "radialaxis": {
            "gridcolor": "white",
            "linecolor": "white",
            "ticks": ""
           }
          },
          "scene": {
           "xaxis": {
            "backgroundcolor": "#E5ECF6",
            "gridcolor": "white",
            "gridwidth": 2,
            "linecolor": "white",
            "showbackground": true,
            "ticks": "",
            "zerolinecolor": "white"
           },
           "yaxis": {
            "backgroundcolor": "#E5ECF6",
            "gridcolor": "white",
            "gridwidth": 2,
            "linecolor": "white",
            "showbackground": true,
            "ticks": "",
            "zerolinecolor": "white"
           },
           "zaxis": {
            "backgroundcolor": "#E5ECF6",
            "gridcolor": "white",
            "gridwidth": 2,
            "linecolor": "white",
            "showbackground": true,
            "ticks": "",
            "zerolinecolor": "white"
           }
          },
          "shapedefaults": {
           "line": {
            "color": "#2a3f5f"
           }
          },
          "ternary": {
           "aaxis": {
            "gridcolor": "white",
            "linecolor": "white",
            "ticks": ""
           },
           "baxis": {
            "gridcolor": "white",
            "linecolor": "white",
            "ticks": ""
           },
           "bgcolor": "#E5ECF6",
           "caxis": {
            "gridcolor": "white",
            "linecolor": "white",
            "ticks": ""
           }
          },
          "title": {
           "x": 0.05
          },
          "xaxis": {
           "automargin": true,
           "gridcolor": "white",
           "linecolor": "white",
           "ticks": "",
           "title": {
            "standoff": 15
           },
           "zerolinecolor": "white",
           "zerolinewidth": 2
          },
          "yaxis": {
           "automargin": true,
           "gridcolor": "white",
           "linecolor": "white",
           "ticks": "",
           "title": {
            "standoff": 15
           },
           "zerolinecolor": "white",
           "zerolinewidth": 2
          }
         }
        },
        "xaxis": {
         "anchor": "y",
         "domain": [
          0,
          1
         ],
         "title": {
          "text": "timestep"
         }
        },
        "yaxis": {
         "anchor": "x",
         "domain": [
          0,
          1
         ],
         "title": {
          "text": "value"
         }
        }
       }
      },
      "text/html": [
       "<div>                            <div id=\"d553d180-83ab-4d02-bb29-aee6c1f6f50b\" class=\"plotly-graph-div\" style=\"height:500px; width:100%;\"></div>            <script type=\"text/javascript\">                require([\"plotly\"], function(Plotly) {                    window.PLOTLYENV=window.PLOTLYENV || {};                                    if (document.getElementById(\"d553d180-83ab-4d02-bb29-aee6c1f6f50b\")) {                    Plotly.newPlot(                        \"d553d180-83ab-4d02-bb29-aee6c1f6f50b\",                        [{\"hovertemplate\": \"variable=clients<br>client_acquisition_rate_coeff=0.013<br>timestep=%{x}<br>value=%{y}<extra></extra>\", \"legendgroup\": \"clients\", \"line\": {\"color\": \"#636efa\", \"dash\": \"solid\"}, \"mode\": \"lines\", \"name\": \"clients\", \"orientation\": \"v\", \"showlegend\": true, \"type\": \"scatter\", \"x\": [2, 3, 4, 5, 6, 7, 8, 9, 10, 11, 12, 13, 14, 15, 16, 17, 18, 19, 20, 21, 22, 23, 24, 25, 26, 27, 28, 29, 30, 31, 32, 33, 34, 35, 36, 37, 38, 39, 40, 41, 42, 43, 44, 45, 46, 47, 48, 49, 50, 51, 52, 53, 54, 55, 56, 57, 58, 59, 60, 61, 62, 63, 64, 65, 66, 67, 68, 69, 70, 71, 72, 73, 74, 75, 76, 77, 78, 79, 80, 81, 82, 83, 84, 85, 86, 87, 88, 89, 90, 91, 92, 93, 94, 95, 96, 97, 98, 99, 100, 101, 102, 103, 104, 105, 106, 107, 108, 109, 110, 111, 112, 113, 114, 115, 116, 117, 118, 119, 120, 121, 122, 123, 124, 125, 126, 127, 128, 129, 130, 131, 132, 133, 134, 135, 136, 137, 138, 139, 140, 141, 142, 143, 144, 145, 146, 147, 148, 149, 150, 151, 152, 153, 154, 155, 156, 157, 158, 159, 160, 161, 162, 163, 164, 165, 166, 167, 168, 169, 170, 171, 172, 173, 174, 175, 176, 177, 178, 179, 180, 181, 182, 183, 184, 185, 186, 187, 188, 189, 190, 191, 192, 193, 194, 195, 196, 197, 198, 199, 200, 201, 202, 203, 204, 205, 206, 207, 208, 209, 210, 211, 212, 213, 214, 215, 216, 217, 218, 219, 220, 221, 222, 223, 224, 225, 226, 227, 228, 229, 230, 231, 232, 233, 234, 235, 236, 237, 238, 239, 240, 241, 242, 243, 244, 245, 246, 247, 248, 249, 250, 251, 252, 253, 254, 255, 256, 257, 258, 259, 260, 261, 262, 263, 264, 265, 266, 267, 268, 269, 270, 271, 272, 273, 274, 275, 276, 277, 278, 279, 280, 281, 282, 283, 284, 285, 286, 287, 288, 289, 290, 291, 292, 293, 294, 295, 296, 297, 298, 299, 300, 301, 302, 303, 304, 305, 306, 307, 308, 309, 310, 311, 312, 313, 314, 315, 316, 317, 318, 319, 320, 321, 322, 323, 324, 325, 326, 327, 328, 329, 330, 331, 332, 333, 334, 335, 336, 337, 338, 339, 340, 341, 342, 343, 344, 345, 346, 347, 348, 349, 350, 351, 352, 353, 354, 355, 356, 357, 358, 359, 360, 361, 362, 363, 364, 365], \"xaxis\": \"x\", \"y\": [8, 8, 8, 8, 9, 9, 9, 9, 9, 9, 9, 9, 9, 10, 10, 10, 10, 10, 10, 10, 10, 11, 11, 11, 11, 11, 11, 11, 11, 12, 12, 12, 12, 12, 12, 12, 13, 13, 13, 13, 13, 13, 14, 14, 14, 14, 14, 14, 14, 15, 15, 15, 15, 15, 16, 16, 16, 16, 16, 16, 17, 17, 17, 17, 17, 18, 18, 18, 18, 18, 19, 19, 19, 19, 19, 20, 20, 20, 20, 20, 21, 21, 21, 21, 21, 22, 22, 22, 22, 23, 23, 23, 23, 24, 24, 24, 24, 25, 25, 25, 25, 25, 26, 26, 26, 27, 27, 27, 27, 28, 28, 28, 28, 29, 29, 29, 29, 30, 30, 30, 31, 31, 31, 31, 32, 32, 32, 32, 33, 33, 33, 34, 34, 34, 35, 35, 35, 35, 36, 36, 36, 37, 37, 37, 38, 38, 38, 38, 39, 39, 39, 40, 40, 40, 41, 41, 41, 42, 42, 42, 43, 43, 43, 44, 44, 44, 44, 45, 45, 45, 46, 46, 46, 47, 47, 47, 48, 48, 48, 49, 49, 49, 50, 50, 50, 51, 51, 51, 52, 52, 52, 53, 53, 53, 54, 54, 54, 55, 55, 55, 55, 56, 56, 56, 57, 57, 57, 58, 58, 58, 59, 59, 59, 60, 60, 60, 61, 61, 61, 61, 62, 62, 62, 63, 63, 63, 64, 64, 64, 64, 65, 65, 65, 66, 66, 66, 67, 67, 67, 67, 68, 68, 68, 68, 69, 69, 69, 70, 70, 70, 70, 71, 71, 71, 71, 72, 72, 72, 72, 73, 73, 73, 74, 74, 74, 74, 74, 75, 75, 75, 75, 76, 76, 76, 76, 77, 77, 77, 77, 78, 78, 78, 78, 78, 79, 79, 79, 79, 79, 80, 80, 80, 80, 80, 81, 81, 81, 81, 81, 82, 82, 82, 82, 82, 83, 83, 83, 83, 83, 83, 84, 84, 84, 84, 84, 85, 85, 85, 85, 85, 85, 85, 86, 86, 86, 86, 86, 86, 87, 87, 87, 87, 87, 87, 87, 88, 88, 88, 88, 88, 88, 88, 88, 89, 89, 89, 89, 89, 89, 89, 89, 90, 90, 90, 90, 90, 90, 90, 90, 90, 91, 91, 91, 91], \"yaxis\": \"y\"}],                        {\"height\": 500, \"legend\": {\"title\": {\"text\": \"variable\"}, \"tracegroupgap\": 0}, \"margin\": {\"t\": 60}, \"template\": {\"data\": {\"bar\": [{\"error_x\": {\"color\": \"#2a3f5f\"}, \"error_y\": {\"color\": \"#2a3f5f\"}, \"marker\": {\"line\": {\"color\": \"#E5ECF6\", \"width\": 0.5}}, \"type\": \"bar\"}], \"barpolar\": [{\"marker\": {\"line\": {\"color\": \"#E5ECF6\", \"width\": 0.5}}, \"type\": \"barpolar\"}], \"carpet\": [{\"aaxis\": {\"endlinecolor\": \"#2a3f5f\", \"gridcolor\": \"white\", \"linecolor\": \"white\", \"minorgridcolor\": \"white\", \"startlinecolor\": \"#2a3f5f\"}, \"baxis\": {\"endlinecolor\": \"#2a3f5f\", \"gridcolor\": \"white\", \"linecolor\": \"white\", \"minorgridcolor\": \"white\", \"startlinecolor\": \"#2a3f5f\"}, \"type\": \"carpet\"}], \"choropleth\": [{\"colorbar\": {\"outlinewidth\": 0, \"ticks\": \"\"}, \"type\": \"choropleth\"}], \"contour\": [{\"colorbar\": {\"outlinewidth\": 0, \"ticks\": \"\"}, \"colorscale\": [[0.0, \"#0d0887\"], [0.1111111111111111, \"#46039f\"], [0.2222222222222222, \"#7201a8\"], [0.3333333333333333, \"#9c179e\"], [0.4444444444444444, \"#bd3786\"], [0.5555555555555556, \"#d8576b\"], [0.6666666666666666, \"#ed7953\"], [0.7777777777777778, \"#fb9f3a\"], [0.8888888888888888, \"#fdca26\"], [1.0, \"#f0f921\"]], \"type\": \"contour\"}], \"contourcarpet\": [{\"colorbar\": {\"outlinewidth\": 0, \"ticks\": \"\"}, \"type\": \"contourcarpet\"}], \"heatmap\": [{\"colorbar\": {\"outlinewidth\": 0, \"ticks\": \"\"}, \"colorscale\": [[0.0, \"#0d0887\"], [0.1111111111111111, \"#46039f\"], [0.2222222222222222, \"#7201a8\"], [0.3333333333333333, \"#9c179e\"], [0.4444444444444444, \"#bd3786\"], [0.5555555555555556, \"#d8576b\"], [0.6666666666666666, \"#ed7953\"], [0.7777777777777778, \"#fb9f3a\"], [0.8888888888888888, \"#fdca26\"], [1.0, \"#f0f921\"]], \"type\": \"heatmap\"}], \"heatmapgl\": [{\"colorbar\": {\"outlinewidth\": 0, \"ticks\": \"\"}, \"colorscale\": [[0.0, \"#0d0887\"], [0.1111111111111111, \"#46039f\"], [0.2222222222222222, \"#7201a8\"], [0.3333333333333333, \"#9c179e\"], [0.4444444444444444, \"#bd3786\"], [0.5555555555555556, \"#d8576b\"], [0.6666666666666666, \"#ed7953\"], [0.7777777777777778, \"#fb9f3a\"], [0.8888888888888888, \"#fdca26\"], [1.0, \"#f0f921\"]], \"type\": \"heatmapgl\"}], \"histogram\": [{\"marker\": {\"colorbar\": {\"outlinewidth\": 0, \"ticks\": \"\"}}, \"type\": \"histogram\"}], \"histogram2d\": [{\"colorbar\": {\"outlinewidth\": 0, \"ticks\": \"\"}, \"colorscale\": [[0.0, \"#0d0887\"], [0.1111111111111111, \"#46039f\"], [0.2222222222222222, \"#7201a8\"], [0.3333333333333333, \"#9c179e\"], [0.4444444444444444, \"#bd3786\"], [0.5555555555555556, \"#d8576b\"], [0.6666666666666666, \"#ed7953\"], [0.7777777777777778, \"#fb9f3a\"], [0.8888888888888888, \"#fdca26\"], [1.0, \"#f0f921\"]], \"type\": \"histogram2d\"}], \"histogram2dcontour\": [{\"colorbar\": {\"outlinewidth\": 0, \"ticks\": \"\"}, \"colorscale\": [[0.0, \"#0d0887\"], [0.1111111111111111, \"#46039f\"], [0.2222222222222222, \"#7201a8\"], [0.3333333333333333, \"#9c179e\"], [0.4444444444444444, \"#bd3786\"], [0.5555555555555556, \"#d8576b\"], [0.6666666666666666, \"#ed7953\"], [0.7777777777777778, \"#fb9f3a\"], [0.8888888888888888, \"#fdca26\"], [1.0, \"#f0f921\"]], \"type\": \"histogram2dcontour\"}], \"mesh3d\": [{\"colorbar\": {\"outlinewidth\": 0, \"ticks\": \"\"}, \"type\": \"mesh3d\"}], \"parcoords\": [{\"line\": {\"colorbar\": {\"outlinewidth\": 0, \"ticks\": \"\"}}, \"type\": \"parcoords\"}], \"pie\": [{\"automargin\": true, \"type\": \"pie\"}], \"scatter\": [{\"marker\": {\"colorbar\": {\"outlinewidth\": 0, \"ticks\": \"\"}}, \"type\": \"scatter\"}], \"scatter3d\": [{\"line\": {\"colorbar\": {\"outlinewidth\": 0, \"ticks\": \"\"}}, \"marker\": {\"colorbar\": {\"outlinewidth\": 0, \"ticks\": \"\"}}, \"type\": \"scatter3d\"}], \"scattercarpet\": [{\"marker\": {\"colorbar\": {\"outlinewidth\": 0, \"ticks\": \"\"}}, \"type\": \"scattercarpet\"}], \"scattergeo\": [{\"marker\": {\"colorbar\": {\"outlinewidth\": 0, \"ticks\": \"\"}}, \"type\": \"scattergeo\"}], \"scattergl\": [{\"marker\": {\"colorbar\": {\"outlinewidth\": 0, \"ticks\": \"\"}}, \"type\": \"scattergl\"}], \"scattermapbox\": [{\"marker\": {\"colorbar\": {\"outlinewidth\": 0, \"ticks\": \"\"}}, \"type\": \"scattermapbox\"}], \"scatterpolar\": [{\"marker\": {\"colorbar\": {\"outlinewidth\": 0, \"ticks\": \"\"}}, \"type\": \"scatterpolar\"}], \"scatterpolargl\": [{\"marker\": {\"colorbar\": {\"outlinewidth\": 0, \"ticks\": \"\"}}, \"type\": \"scatterpolargl\"}], \"scatterternary\": [{\"marker\": {\"colorbar\": {\"outlinewidth\": 0, \"ticks\": \"\"}}, \"type\": \"scatterternary\"}], \"surface\": [{\"colorbar\": {\"outlinewidth\": 0, \"ticks\": \"\"}, \"colorscale\": [[0.0, \"#0d0887\"], [0.1111111111111111, \"#46039f\"], [0.2222222222222222, \"#7201a8\"], [0.3333333333333333, \"#9c179e\"], [0.4444444444444444, \"#bd3786\"], [0.5555555555555556, \"#d8576b\"], [0.6666666666666666, \"#ed7953\"], [0.7777777777777778, \"#fb9f3a\"], [0.8888888888888888, \"#fdca26\"], [1.0, \"#f0f921\"]], \"type\": \"surface\"}], \"table\": [{\"cells\": {\"fill\": {\"color\": \"#EBF0F8\"}, \"line\": {\"color\": \"white\"}}, \"header\": {\"fill\": {\"color\": \"#C8D4E3\"}, \"line\": {\"color\": \"white\"}}, \"type\": \"table\"}]}, \"layout\": {\"annotationdefaults\": {\"arrowcolor\": \"#2a3f5f\", \"arrowhead\": 0, \"arrowwidth\": 1}, \"autotypenumbers\": \"strict\", \"coloraxis\": {\"colorbar\": {\"outlinewidth\": 0, \"ticks\": \"\"}}, \"colorscale\": {\"diverging\": [[0, \"#8e0152\"], [0.1, \"#c51b7d\"], [0.2, \"#de77ae\"], [0.3, \"#f1b6da\"], [0.4, \"#fde0ef\"], [0.5, \"#f7f7f7\"], [0.6, \"#e6f5d0\"], [0.7, \"#b8e186\"], [0.8, \"#7fbc41\"], [0.9, \"#4d9221\"], [1, \"#276419\"]], \"sequential\": [[0.0, \"#0d0887\"], [0.1111111111111111, \"#46039f\"], [0.2222222222222222, \"#7201a8\"], [0.3333333333333333, \"#9c179e\"], [0.4444444444444444, \"#bd3786\"], [0.5555555555555556, \"#d8576b\"], [0.6666666666666666, \"#ed7953\"], [0.7777777777777778, \"#fb9f3a\"], [0.8888888888888888, \"#fdca26\"], [1.0, \"#f0f921\"]], \"sequentialminus\": [[0.0, \"#0d0887\"], [0.1111111111111111, \"#46039f\"], [0.2222222222222222, \"#7201a8\"], [0.3333333333333333, \"#9c179e\"], [0.4444444444444444, \"#bd3786\"], [0.5555555555555556, \"#d8576b\"], [0.6666666666666666, \"#ed7953\"], [0.7777777777777778, \"#fb9f3a\"], [0.8888888888888888, \"#fdca26\"], [1.0, \"#f0f921\"]]}, \"colorway\": [\"#636efa\", \"#EF553B\", \"#00cc96\", \"#ab63fa\", \"#FFA15A\", \"#19d3f3\", \"#FF6692\", \"#B6E880\", \"#FF97FF\", \"#FECB52\"], \"font\": {\"color\": \"#2a3f5f\"}, \"geo\": {\"bgcolor\": \"white\", \"lakecolor\": \"white\", \"landcolor\": \"#E5ECF6\", \"showlakes\": true, \"showland\": true, \"subunitcolor\": \"white\"}, \"hoverlabel\": {\"align\": \"left\"}, \"hovermode\": \"closest\", \"mapbox\": {\"style\": \"light\"}, \"paper_bgcolor\": \"white\", \"plot_bgcolor\": \"#E5ECF6\", \"polar\": {\"angularaxis\": {\"gridcolor\": \"white\", \"linecolor\": \"white\", \"ticks\": \"\"}, \"bgcolor\": \"#E5ECF6\", \"radialaxis\": {\"gridcolor\": \"white\", \"linecolor\": \"white\", \"ticks\": \"\"}}, \"scene\": {\"xaxis\": {\"backgroundcolor\": \"#E5ECF6\", \"gridcolor\": \"white\", \"gridwidth\": 2, \"linecolor\": \"white\", \"showbackground\": true, \"ticks\": \"\", \"zerolinecolor\": \"white\"}, \"yaxis\": {\"backgroundcolor\": \"#E5ECF6\", \"gridcolor\": \"white\", \"gridwidth\": 2, \"linecolor\": \"white\", \"showbackground\": true, \"ticks\": \"\", \"zerolinecolor\": \"white\"}, \"zaxis\": {\"backgroundcolor\": \"#E5ECF6\", \"gridcolor\": \"white\", \"gridwidth\": 2, \"linecolor\": \"white\", \"showbackground\": true, \"ticks\": \"\", \"zerolinecolor\": \"white\"}}, \"shapedefaults\": {\"line\": {\"color\": \"#2a3f5f\"}}, \"ternary\": {\"aaxis\": {\"gridcolor\": \"white\", \"linecolor\": \"white\", \"ticks\": \"\"}, \"baxis\": {\"gridcolor\": \"white\", \"linecolor\": \"white\", \"ticks\": \"\"}, \"bgcolor\": \"#E5ECF6\", \"caxis\": {\"gridcolor\": \"white\", \"linecolor\": \"white\", \"ticks\": \"\"}}, \"title\": {\"x\": 0.05}, \"xaxis\": {\"automargin\": true, \"gridcolor\": \"white\", \"linecolor\": \"white\", \"ticks\": \"\", \"title\": {\"standoff\": 15}, \"zerolinecolor\": \"white\", \"zerolinewidth\": 2}, \"yaxis\": {\"automargin\": true, \"gridcolor\": \"white\", \"linecolor\": \"white\", \"ticks\": \"\", \"title\": {\"standoff\": 15}, \"zerolinecolor\": \"white\", \"zerolinewidth\": 2}}}, \"xaxis\": {\"anchor\": \"y\", \"domain\": [0.0, 1.0], \"title\": {\"text\": \"timestep\"}}, \"yaxis\": {\"anchor\": \"x\", \"domain\": [0.0, 1.0], \"title\": {\"text\": \"value\"}}},                        {\"responsive\": true}                    ).then(function(){\n",
       "                            \n",
       "var gd = document.getElementById('d553d180-83ab-4d02-bb29-aee6c1f6f50b');\n",
       "var x = new MutationObserver(function (mutations, observer) {{\n",
       "        var display = window.getComputedStyle(gd).display;\n",
       "        if (!display || display === 'none') {{\n",
       "            console.log([gd, 'removed!']);\n",
       "            Plotly.purge(gd);\n",
       "            observer.disconnect();\n",
       "        }}\n",
       "}});\n",
       "\n",
       "// Listen for the removal of the full notebook cells\n",
       "var notebookContainer = gd.closest('#notebook-container');\n",
       "if (notebookContainer) {{\n",
       "    x.observe(notebookContainer, {childList: true});\n",
       "}}\n",
       "\n",
       "// Listen for the clearing of the current output cell\n",
       "var outputEl = gd.closest('.output');\n",
       "if (outputEl) {{\n",
       "    x.observe(outputEl, {childList: true});\n",
       "}}\n",
       "\n",
       "                        })                };                });            </script>        </div>"
      ]
     },
     "metadata": {},
     "output_type": "display_data"
    }
   ],
   "source": [
    "pd.options.plotting.backend = \"plotly\"\n",
    "\n",
    "# plot some base scenario\n",
    "#fig_df = df.query('avg_client_allocation == 10')\n",
    "fig_df = df\n",
    "\n",
    "fig_df.plot(\n",
    "    kind='line',\n",
    "    x='timestep',\n",
    "    y=['clients'],\n",
    "    height=500,\n",
    "    animation_frame='client_acquisition_rate_coeff'\n",
    ")"
   ]
  },
  {
   "cell_type": "code",
   "execution_count": 167,
   "id": "51100ed9",
   "metadata": {},
   "outputs": [
    {
     "data": {
      "application/vnd.plotly.v1+json": {
       "config": {
        "plotlyServerURL": "https://plot.ly"
       },
       "data": [
        {
         "hovertemplate": "variable=host_revenue<br>run=1<br>timestep=%{x}<br>value=%{y}<extra></extra>",
         "legendgroup": "host_revenue",
         "line": {
          "color": "#636efa",
          "dash": "solid"
         },
         "mode": "lines",
         "name": "host_revenue",
         "orientation": "v",
         "showlegend": true,
         "type": "scatter",
         "x": [
          2,
          3,
          4,
          5,
          6,
          7,
          8,
          9,
          10,
          11,
          12,
          13,
          14,
          15,
          16,
          17,
          18,
          19,
          20,
          21,
          22,
          23,
          24,
          25,
          26,
          27,
          28,
          29,
          30,
          31,
          32,
          33,
          34,
          35,
          36,
          37,
          38,
          39,
          40,
          41,
          42,
          43,
          44,
          45,
          46,
          47,
          48,
          49,
          50,
          51,
          52,
          53,
          54,
          55,
          56,
          57,
          58,
          59,
          60,
          61,
          62,
          63,
          64,
          65,
          66,
          67,
          68,
          69,
          70,
          71,
          72,
          73,
          74,
          75,
          76,
          77,
          78,
          79,
          80,
          81,
          82,
          83,
          84,
          85,
          86,
          87,
          88,
          89,
          90,
          91,
          92,
          93,
          94,
          95,
          96,
          97,
          98,
          99,
          100,
          101,
          102,
          103,
          104,
          105,
          106,
          107,
          108,
          109,
          110,
          111,
          112,
          113,
          114,
          115,
          116,
          117,
          118,
          119,
          120,
          121,
          122,
          123,
          124,
          125,
          126,
          127,
          128,
          129,
          130,
          131,
          132,
          133,
          134,
          135,
          136,
          137,
          138,
          139,
          140,
          141,
          142,
          143,
          144,
          145,
          146,
          147,
          148,
          149,
          150,
          151,
          152,
          153,
          154,
          155,
          156,
          157,
          158,
          159,
          160,
          161,
          162,
          163,
          164,
          165,
          166,
          167,
          168,
          169,
          170,
          171,
          172,
          173,
          174,
          175,
          176,
          177,
          178,
          179,
          180,
          181,
          182,
          183,
          184,
          185,
          186,
          187,
          188,
          189,
          190,
          191,
          192,
          193,
          194,
          195,
          196,
          197,
          198,
          199,
          200,
          201,
          202,
          203,
          204,
          205,
          206,
          207,
          208,
          209,
          210,
          211,
          212,
          213,
          214,
          215,
          216,
          217,
          218,
          219,
          220,
          221,
          222,
          223,
          224,
          225,
          226,
          227,
          228,
          229,
          230,
          231,
          232,
          233,
          234,
          235,
          236,
          237,
          238,
          239,
          240,
          241,
          242,
          243,
          244,
          245,
          246,
          247,
          248,
          249,
          250,
          251,
          252,
          253,
          254,
          255,
          256,
          257,
          258,
          259,
          260,
          261,
          262,
          263,
          264,
          265,
          266,
          267,
          268,
          269,
          270,
          271,
          272,
          273,
          274,
          275,
          276,
          277,
          278,
          279,
          280,
          281,
          282,
          283,
          284,
          285,
          286,
          287,
          288,
          289,
          290,
          291,
          292,
          293,
          294,
          295,
          296,
          297,
          298,
          299,
          300,
          301,
          302,
          303,
          304,
          305,
          306,
          307,
          308,
          309,
          310,
          311,
          312,
          313,
          314,
          315,
          316,
          317,
          318,
          319,
          320,
          321,
          322,
          323,
          324,
          325,
          326,
          327,
          328,
          329,
          330,
          331,
          332,
          333,
          334,
          335,
          336,
          337,
          338,
          339,
          340,
          341,
          342,
          343,
          344,
          345,
          346,
          347,
          348,
          349,
          350,
          351,
          352,
          353,
          354,
          355,
          356,
          357,
          358,
          359,
          360,
          361,
          362,
          363,
          364,
          365
         ],
         "xaxis": "x",
         "y": [
          30,
          48,
          48,
          48,
          48,
          48,
          54,
          54,
          54,
          54,
          54,
          54,
          54,
          54,
          54,
          60,
          60,
          60,
          60,
          60,
          60,
          60,
          60,
          66,
          66,
          66,
          66,
          66,
          66,
          66,
          66,
          72,
          72,
          72,
          72,
          72,
          72,
          72,
          78,
          78,
          78,
          78,
          78,
          78,
          84,
          84,
          84,
          84,
          84,
          84,
          84,
          90,
          90,
          90,
          90,
          90,
          96,
          96,
          96,
          96,
          96,
          96,
          102,
          102,
          102,
          102,
          102,
          108,
          108,
          108,
          108,
          108,
          114,
          114,
          114,
          114,
          114,
          120,
          120,
          120,
          120,
          120,
          126,
          126,
          126,
          126,
          126,
          132,
          132,
          132,
          132,
          138,
          138,
          138,
          138,
          144,
          144,
          144,
          144,
          150,
          150,
          150,
          150,
          150,
          156,
          156,
          156,
          162,
          162,
          162,
          162,
          168,
          168,
          168,
          168,
          174,
          174,
          174,
          174,
          180,
          180,
          180,
          186,
          186,
          186,
          186,
          192,
          192,
          192,
          192,
          198,
          198,
          198,
          204,
          204,
          204,
          210,
          210,
          210,
          210,
          216,
          216,
          216,
          222,
          222,
          222,
          228,
          228,
          228,
          228,
          234,
          234,
          234,
          240,
          240,
          240,
          246,
          246,
          246,
          252,
          252,
          252,
          258,
          258,
          258,
          264,
          264,
          264,
          264,
          270,
          270,
          270,
          276,
          276,
          276,
          282,
          282,
          282,
          288,
          288,
          288,
          294,
          294,
          294,
          300,
          300,
          300,
          306,
          306,
          306,
          312,
          312,
          312,
          318,
          318,
          318,
          324,
          324,
          324,
          330,
          330,
          330,
          330,
          336,
          336,
          336,
          342,
          342,
          342,
          348,
          348,
          348,
          354,
          354,
          354,
          360,
          360,
          360,
          366,
          366,
          366,
          366,
          372,
          372,
          372,
          378,
          378,
          378,
          384,
          384,
          384,
          384,
          390,
          390,
          390,
          396,
          396,
          396,
          402,
          402,
          402,
          402,
          408,
          408,
          408,
          408,
          414,
          414,
          414,
          420,
          420,
          420,
          420,
          426,
          426,
          426,
          426,
          432,
          432,
          432,
          432,
          438,
          438,
          438,
          444,
          444,
          444,
          444,
          444,
          450,
          450,
          450,
          450,
          456,
          456,
          456,
          456,
          462,
          462,
          462,
          462,
          468,
          468,
          468,
          468,
          468,
          474,
          474,
          474,
          474,
          474,
          480,
          480,
          480,
          480,
          480,
          486,
          486,
          486,
          486,
          486,
          492,
          492,
          492,
          492,
          492,
          498,
          498,
          498,
          498,
          498,
          498,
          504,
          504,
          504,
          504,
          504,
          510,
          510,
          510,
          510,
          510,
          510,
          510,
          516,
          516,
          516,
          516,
          516,
          516,
          522,
          522,
          522,
          522,
          522,
          522,
          522,
          528,
          528,
          528,
          528,
          528,
          528,
          528,
          528,
          534,
          534,
          534,
          534,
          534,
          534,
          534,
          534,
          540,
          540,
          540,
          540,
          540,
          540,
          540,
          540,
          540,
          546,
          546
         ],
         "yaxis": "y"
        },
        {
         "hovertemplate": "variable=demand<br>run=1<br>timestep=%{x}<br>value=%{y}<extra></extra>",
         "legendgroup": "demand",
         "line": {
          "color": "#EF553B",
          "dash": "solid"
         },
         "mode": "lines",
         "name": "demand",
         "orientation": "v",
         "showlegend": true,
         "type": "scatter",
         "x": [
          2,
          3,
          4,
          5,
          6,
          7,
          8,
          9,
          10,
          11,
          12,
          13,
          14,
          15,
          16,
          17,
          18,
          19,
          20,
          21,
          22,
          23,
          24,
          25,
          26,
          27,
          28,
          29,
          30,
          31,
          32,
          33,
          34,
          35,
          36,
          37,
          38,
          39,
          40,
          41,
          42,
          43,
          44,
          45,
          46,
          47,
          48,
          49,
          50,
          51,
          52,
          53,
          54,
          55,
          56,
          57,
          58,
          59,
          60,
          61,
          62,
          63,
          64,
          65,
          66,
          67,
          68,
          69,
          70,
          71,
          72,
          73,
          74,
          75,
          76,
          77,
          78,
          79,
          80,
          81,
          82,
          83,
          84,
          85,
          86,
          87,
          88,
          89,
          90,
          91,
          92,
          93,
          94,
          95,
          96,
          97,
          98,
          99,
          100,
          101,
          102,
          103,
          104,
          105,
          106,
          107,
          108,
          109,
          110,
          111,
          112,
          113,
          114,
          115,
          116,
          117,
          118,
          119,
          120,
          121,
          122,
          123,
          124,
          125,
          126,
          127,
          128,
          129,
          130,
          131,
          132,
          133,
          134,
          135,
          136,
          137,
          138,
          139,
          140,
          141,
          142,
          143,
          144,
          145,
          146,
          147,
          148,
          149,
          150,
          151,
          152,
          153,
          154,
          155,
          156,
          157,
          158,
          159,
          160,
          161,
          162,
          163,
          164,
          165,
          166,
          167,
          168,
          169,
          170,
          171,
          172,
          173,
          174,
          175,
          176,
          177,
          178,
          179,
          180,
          181,
          182,
          183,
          184,
          185,
          186,
          187,
          188,
          189,
          190,
          191,
          192,
          193,
          194,
          195,
          196,
          197,
          198,
          199,
          200,
          201,
          202,
          203,
          204,
          205,
          206,
          207,
          208,
          209,
          210,
          211,
          212,
          213,
          214,
          215,
          216,
          217,
          218,
          219,
          220,
          221,
          222,
          223,
          224,
          225,
          226,
          227,
          228,
          229,
          230,
          231,
          232,
          233,
          234,
          235,
          236,
          237,
          238,
          239,
          240,
          241,
          242,
          243,
          244,
          245,
          246,
          247,
          248,
          249,
          250,
          251,
          252,
          253,
          254,
          255,
          256,
          257,
          258,
          259,
          260,
          261,
          262,
          263,
          264,
          265,
          266,
          267,
          268,
          269,
          270,
          271,
          272,
          273,
          274,
          275,
          276,
          277,
          278,
          279,
          280,
          281,
          282,
          283,
          284,
          285,
          286,
          287,
          288,
          289,
          290,
          291,
          292,
          293,
          294,
          295,
          296,
          297,
          298,
          299,
          300,
          301,
          302,
          303,
          304,
          305,
          306,
          307,
          308,
          309,
          310,
          311,
          312,
          313,
          314,
          315,
          316,
          317,
          318,
          319,
          320,
          321,
          322,
          323,
          324,
          325,
          326,
          327,
          328,
          329,
          330,
          331,
          332,
          333,
          334,
          335,
          336,
          337,
          338,
          339,
          340,
          341,
          342,
          343,
          344,
          345,
          346,
          347,
          348,
          349,
          350,
          351,
          352,
          353,
          354,
          355,
          356,
          357,
          358,
          359,
          360,
          361,
          362,
          363,
          364,
          365
         ],
         "xaxis": "x",
         "y": [
          160,
          160,
          160,
          160,
          160,
          180,
          180,
          180,
          180,
          180,
          180,
          180,
          180,
          180,
          200,
          200,
          200,
          200,
          200,
          200,
          200,
          200,
          220,
          220,
          220,
          220,
          220,
          220,
          220,
          220,
          240,
          240,
          240,
          240,
          240,
          240,
          240,
          260,
          260,
          260,
          260,
          260,
          260,
          280,
          280,
          280,
          280,
          280,
          280,
          280,
          300,
          300,
          300,
          300,
          300,
          320,
          320,
          320,
          320,
          320,
          320,
          340,
          340,
          340,
          340,
          340,
          360,
          360,
          360,
          360,
          360,
          380,
          380,
          380,
          380,
          380,
          400,
          400,
          400,
          400,
          400,
          420,
          420,
          420,
          420,
          420,
          440,
          440,
          440,
          440,
          460,
          460,
          460,
          460,
          480,
          480,
          480,
          480,
          500,
          500,
          500,
          500,
          500,
          520,
          520,
          520,
          540,
          540,
          540,
          540,
          560,
          560,
          560,
          560,
          580,
          580,
          580,
          580,
          600,
          600,
          600,
          620,
          620,
          620,
          620,
          640,
          640,
          640,
          640,
          660,
          660,
          660,
          680,
          680,
          680,
          700,
          700,
          700,
          700,
          720,
          720,
          720,
          740,
          740,
          740,
          760,
          760,
          760,
          760,
          780,
          780,
          780,
          800,
          800,
          800,
          820,
          820,
          820,
          840,
          840,
          840,
          860,
          860,
          860,
          880,
          880,
          880,
          880,
          900,
          900,
          900,
          920,
          920,
          920,
          940,
          940,
          940,
          960,
          960,
          960,
          980,
          980,
          980,
          1000,
          1000,
          1000,
          1020,
          1020,
          1020,
          1040,
          1040,
          1040,
          1060,
          1060,
          1060,
          1080,
          1080,
          1080,
          1100,
          1100,
          1100,
          1100,
          1120,
          1120,
          1120,
          1140,
          1140,
          1140,
          1160,
          1160,
          1160,
          1180,
          1180,
          1180,
          1200,
          1200,
          1200,
          1220,
          1220,
          1220,
          1220,
          1240,
          1240,
          1240,
          1260,
          1260,
          1260,
          1280,
          1280,
          1280,
          1280,
          1300,
          1300,
          1300,
          1320,
          1320,
          1320,
          1340,
          1340,
          1340,
          1340,
          1360,
          1360,
          1360,
          1360,
          1380,
          1380,
          1380,
          1400,
          1400,
          1400,
          1400,
          1420,
          1420,
          1420,
          1420,
          1440,
          1440,
          1440,
          1440,
          1460,
          1460,
          1460,
          1480,
          1480,
          1480,
          1480,
          1480,
          1500,
          1500,
          1500,
          1500,
          1520,
          1520,
          1520,
          1520,
          1540,
          1540,
          1540,
          1540,
          1560,
          1560,
          1560,
          1560,
          1560,
          1580,
          1580,
          1580,
          1580,
          1580,
          1600,
          1600,
          1600,
          1600,
          1600,
          1620,
          1620,
          1620,
          1620,
          1620,
          1640,
          1640,
          1640,
          1640,
          1640,
          1660,
          1660,
          1660,
          1660,
          1660,
          1660,
          1680,
          1680,
          1680,
          1680,
          1680,
          1700,
          1700,
          1700,
          1700,
          1700,
          1700,
          1700,
          1720,
          1720,
          1720,
          1720,
          1720,
          1720,
          1740,
          1740,
          1740,
          1740,
          1740,
          1740,
          1740,
          1760,
          1760,
          1760,
          1760,
          1760,
          1760,
          1760,
          1760,
          1780,
          1780,
          1780,
          1780,
          1780,
          1780,
          1780,
          1780,
          1800,
          1800,
          1800,
          1800,
          1800,
          1800,
          1800,
          1800,
          1800,
          1820,
          1820,
          1820
         ],
         "yaxis": "y"
        }
       ],
       "layout": {
        "height": 500,
        "legend": {
         "title": {
          "text": "variable"
         },
         "tracegroupgap": 0
        },
        "margin": {
         "t": 60
        },
        "template": {
         "data": {
          "bar": [
           {
            "error_x": {
             "color": "#2a3f5f"
            },
            "error_y": {
             "color": "#2a3f5f"
            },
            "marker": {
             "line": {
              "color": "#E5ECF6",
              "width": 0.5
             }
            },
            "type": "bar"
           }
          ],
          "barpolar": [
           {
            "marker": {
             "line": {
              "color": "#E5ECF6",
              "width": 0.5
             }
            },
            "type": "barpolar"
           }
          ],
          "carpet": [
           {
            "aaxis": {
             "endlinecolor": "#2a3f5f",
             "gridcolor": "white",
             "linecolor": "white",
             "minorgridcolor": "white",
             "startlinecolor": "#2a3f5f"
            },
            "baxis": {
             "endlinecolor": "#2a3f5f",
             "gridcolor": "white",
             "linecolor": "white",
             "minorgridcolor": "white",
             "startlinecolor": "#2a3f5f"
            },
            "type": "carpet"
           }
          ],
          "choropleth": [
           {
            "colorbar": {
             "outlinewidth": 0,
             "ticks": ""
            },
            "type": "choropleth"
           }
          ],
          "contour": [
           {
            "colorbar": {
             "outlinewidth": 0,
             "ticks": ""
            },
            "colorscale": [
             [
              0,
              "#0d0887"
             ],
             [
              0.1111111111111111,
              "#46039f"
             ],
             [
              0.2222222222222222,
              "#7201a8"
             ],
             [
              0.3333333333333333,
              "#9c179e"
             ],
             [
              0.4444444444444444,
              "#bd3786"
             ],
             [
              0.5555555555555556,
              "#d8576b"
             ],
             [
              0.6666666666666666,
              "#ed7953"
             ],
             [
              0.7777777777777778,
              "#fb9f3a"
             ],
             [
              0.8888888888888888,
              "#fdca26"
             ],
             [
              1,
              "#f0f921"
             ]
            ],
            "type": "contour"
           }
          ],
          "contourcarpet": [
           {
            "colorbar": {
             "outlinewidth": 0,
             "ticks": ""
            },
            "type": "contourcarpet"
           }
          ],
          "heatmap": [
           {
            "colorbar": {
             "outlinewidth": 0,
             "ticks": ""
            },
            "colorscale": [
             [
              0,
              "#0d0887"
             ],
             [
              0.1111111111111111,
              "#46039f"
             ],
             [
              0.2222222222222222,
              "#7201a8"
             ],
             [
              0.3333333333333333,
              "#9c179e"
             ],
             [
              0.4444444444444444,
              "#bd3786"
             ],
             [
              0.5555555555555556,
              "#d8576b"
             ],
             [
              0.6666666666666666,
              "#ed7953"
             ],
             [
              0.7777777777777778,
              "#fb9f3a"
             ],
             [
              0.8888888888888888,
              "#fdca26"
             ],
             [
              1,
              "#f0f921"
             ]
            ],
            "type": "heatmap"
           }
          ],
          "heatmapgl": [
           {
            "colorbar": {
             "outlinewidth": 0,
             "ticks": ""
            },
            "colorscale": [
             [
              0,
              "#0d0887"
             ],
             [
              0.1111111111111111,
              "#46039f"
             ],
             [
              0.2222222222222222,
              "#7201a8"
             ],
             [
              0.3333333333333333,
              "#9c179e"
             ],
             [
              0.4444444444444444,
              "#bd3786"
             ],
             [
              0.5555555555555556,
              "#d8576b"
             ],
             [
              0.6666666666666666,
              "#ed7953"
             ],
             [
              0.7777777777777778,
              "#fb9f3a"
             ],
             [
              0.8888888888888888,
              "#fdca26"
             ],
             [
              1,
              "#f0f921"
             ]
            ],
            "type": "heatmapgl"
           }
          ],
          "histogram": [
           {
            "marker": {
             "colorbar": {
              "outlinewidth": 0,
              "ticks": ""
             }
            },
            "type": "histogram"
           }
          ],
          "histogram2d": [
           {
            "colorbar": {
             "outlinewidth": 0,
             "ticks": ""
            },
            "colorscale": [
             [
              0,
              "#0d0887"
             ],
             [
              0.1111111111111111,
              "#46039f"
             ],
             [
              0.2222222222222222,
              "#7201a8"
             ],
             [
              0.3333333333333333,
              "#9c179e"
             ],
             [
              0.4444444444444444,
              "#bd3786"
             ],
             [
              0.5555555555555556,
              "#d8576b"
             ],
             [
              0.6666666666666666,
              "#ed7953"
             ],
             [
              0.7777777777777778,
              "#fb9f3a"
             ],
             [
              0.8888888888888888,
              "#fdca26"
             ],
             [
              1,
              "#f0f921"
             ]
            ],
            "type": "histogram2d"
           }
          ],
          "histogram2dcontour": [
           {
            "colorbar": {
             "outlinewidth": 0,
             "ticks": ""
            },
            "colorscale": [
             [
              0,
              "#0d0887"
             ],
             [
              0.1111111111111111,
              "#46039f"
             ],
             [
              0.2222222222222222,
              "#7201a8"
             ],
             [
              0.3333333333333333,
              "#9c179e"
             ],
             [
              0.4444444444444444,
              "#bd3786"
             ],
             [
              0.5555555555555556,
              "#d8576b"
             ],
             [
              0.6666666666666666,
              "#ed7953"
             ],
             [
              0.7777777777777778,
              "#fb9f3a"
             ],
             [
              0.8888888888888888,
              "#fdca26"
             ],
             [
              1,
              "#f0f921"
             ]
            ],
            "type": "histogram2dcontour"
           }
          ],
          "mesh3d": [
           {
            "colorbar": {
             "outlinewidth": 0,
             "ticks": ""
            },
            "type": "mesh3d"
           }
          ],
          "parcoords": [
           {
            "line": {
             "colorbar": {
              "outlinewidth": 0,
              "ticks": ""
             }
            },
            "type": "parcoords"
           }
          ],
          "pie": [
           {
            "automargin": true,
            "type": "pie"
           }
          ],
          "scatter": [
           {
            "marker": {
             "colorbar": {
              "outlinewidth": 0,
              "ticks": ""
             }
            },
            "type": "scatter"
           }
          ],
          "scatter3d": [
           {
            "line": {
             "colorbar": {
              "outlinewidth": 0,
              "ticks": ""
             }
            },
            "marker": {
             "colorbar": {
              "outlinewidth": 0,
              "ticks": ""
             }
            },
            "type": "scatter3d"
           }
          ],
          "scattercarpet": [
           {
            "marker": {
             "colorbar": {
              "outlinewidth": 0,
              "ticks": ""
             }
            },
            "type": "scattercarpet"
           }
          ],
          "scattergeo": [
           {
            "marker": {
             "colorbar": {
              "outlinewidth": 0,
              "ticks": ""
             }
            },
            "type": "scattergeo"
           }
          ],
          "scattergl": [
           {
            "marker": {
             "colorbar": {
              "outlinewidth": 0,
              "ticks": ""
             }
            },
            "type": "scattergl"
           }
          ],
          "scattermapbox": [
           {
            "marker": {
             "colorbar": {
              "outlinewidth": 0,
              "ticks": ""
             }
            },
            "type": "scattermapbox"
           }
          ],
          "scatterpolar": [
           {
            "marker": {
             "colorbar": {
              "outlinewidth": 0,
              "ticks": ""
             }
            },
            "type": "scatterpolar"
           }
          ],
          "scatterpolargl": [
           {
            "marker": {
             "colorbar": {
              "outlinewidth": 0,
              "ticks": ""
             }
            },
            "type": "scatterpolargl"
           }
          ],
          "scatterternary": [
           {
            "marker": {
             "colorbar": {
              "outlinewidth": 0,
              "ticks": ""
             }
            },
            "type": "scatterternary"
           }
          ],
          "surface": [
           {
            "colorbar": {
             "outlinewidth": 0,
             "ticks": ""
            },
            "colorscale": [
             [
              0,
              "#0d0887"
             ],
             [
              0.1111111111111111,
              "#46039f"
             ],
             [
              0.2222222222222222,
              "#7201a8"
             ],
             [
              0.3333333333333333,
              "#9c179e"
             ],
             [
              0.4444444444444444,
              "#bd3786"
             ],
             [
              0.5555555555555556,
              "#d8576b"
             ],
             [
              0.6666666666666666,
              "#ed7953"
             ],
             [
              0.7777777777777778,
              "#fb9f3a"
             ],
             [
              0.8888888888888888,
              "#fdca26"
             ],
             [
              1,
              "#f0f921"
             ]
            ],
            "type": "surface"
           }
          ],
          "table": [
           {
            "cells": {
             "fill": {
              "color": "#EBF0F8"
             },
             "line": {
              "color": "white"
             }
            },
            "header": {
             "fill": {
              "color": "#C8D4E3"
             },
             "line": {
              "color": "white"
             }
            },
            "type": "table"
           }
          ]
         },
         "layout": {
          "annotationdefaults": {
           "arrowcolor": "#2a3f5f",
           "arrowhead": 0,
           "arrowwidth": 1
          },
          "autotypenumbers": "strict",
          "coloraxis": {
           "colorbar": {
            "outlinewidth": 0,
            "ticks": ""
           }
          },
          "colorscale": {
           "diverging": [
            [
             0,
             "#8e0152"
            ],
            [
             0.1,
             "#c51b7d"
            ],
            [
             0.2,
             "#de77ae"
            ],
            [
             0.3,
             "#f1b6da"
            ],
            [
             0.4,
             "#fde0ef"
            ],
            [
             0.5,
             "#f7f7f7"
            ],
            [
             0.6,
             "#e6f5d0"
            ],
            [
             0.7,
             "#b8e186"
            ],
            [
             0.8,
             "#7fbc41"
            ],
            [
             0.9,
             "#4d9221"
            ],
            [
             1,
             "#276419"
            ]
           ],
           "sequential": [
            [
             0,
             "#0d0887"
            ],
            [
             0.1111111111111111,
             "#46039f"
            ],
            [
             0.2222222222222222,
             "#7201a8"
            ],
            [
             0.3333333333333333,
             "#9c179e"
            ],
            [
             0.4444444444444444,
             "#bd3786"
            ],
            [
             0.5555555555555556,
             "#d8576b"
            ],
            [
             0.6666666666666666,
             "#ed7953"
            ],
            [
             0.7777777777777778,
             "#fb9f3a"
            ],
            [
             0.8888888888888888,
             "#fdca26"
            ],
            [
             1,
             "#f0f921"
            ]
           ],
           "sequentialminus": [
            [
             0,
             "#0d0887"
            ],
            [
             0.1111111111111111,
             "#46039f"
            ],
            [
             0.2222222222222222,
             "#7201a8"
            ],
            [
             0.3333333333333333,
             "#9c179e"
            ],
            [
             0.4444444444444444,
             "#bd3786"
            ],
            [
             0.5555555555555556,
             "#d8576b"
            ],
            [
             0.6666666666666666,
             "#ed7953"
            ],
            [
             0.7777777777777778,
             "#fb9f3a"
            ],
            [
             0.8888888888888888,
             "#fdca26"
            ],
            [
             1,
             "#f0f921"
            ]
           ]
          },
          "colorway": [
           "#636efa",
           "#EF553B",
           "#00cc96",
           "#ab63fa",
           "#FFA15A",
           "#19d3f3",
           "#FF6692",
           "#B6E880",
           "#FF97FF",
           "#FECB52"
          ],
          "font": {
           "color": "#2a3f5f"
          },
          "geo": {
           "bgcolor": "white",
           "lakecolor": "white",
           "landcolor": "#E5ECF6",
           "showlakes": true,
           "showland": true,
           "subunitcolor": "white"
          },
          "hoverlabel": {
           "align": "left"
          },
          "hovermode": "closest",
          "mapbox": {
           "style": "light"
          },
          "paper_bgcolor": "white",
          "plot_bgcolor": "#E5ECF6",
          "polar": {
           "angularaxis": {
            "gridcolor": "white",
            "linecolor": "white",
            "ticks": ""
           },
           "bgcolor": "#E5ECF6",
           "radialaxis": {
            "gridcolor": "white",
            "linecolor": "white",
            "ticks": ""
           }
          },
          "scene": {
           "xaxis": {
            "backgroundcolor": "#E5ECF6",
            "gridcolor": "white",
            "gridwidth": 2,
            "linecolor": "white",
            "showbackground": true,
            "ticks": "",
            "zerolinecolor": "white"
           },
           "yaxis": {
            "backgroundcolor": "#E5ECF6",
            "gridcolor": "white",
            "gridwidth": 2,
            "linecolor": "white",
            "showbackground": true,
            "ticks": "",
            "zerolinecolor": "white"
           },
           "zaxis": {
            "backgroundcolor": "#E5ECF6",
            "gridcolor": "white",
            "gridwidth": 2,
            "linecolor": "white",
            "showbackground": true,
            "ticks": "",
            "zerolinecolor": "white"
           }
          },
          "shapedefaults": {
           "line": {
            "color": "#2a3f5f"
           }
          },
          "ternary": {
           "aaxis": {
            "gridcolor": "white",
            "linecolor": "white",
            "ticks": ""
           },
           "baxis": {
            "gridcolor": "white",
            "linecolor": "white",
            "ticks": ""
           },
           "bgcolor": "#E5ECF6",
           "caxis": {
            "gridcolor": "white",
            "linecolor": "white",
            "ticks": ""
           }
          },
          "title": {
           "x": 0.05
          },
          "xaxis": {
           "automargin": true,
           "gridcolor": "white",
           "linecolor": "white",
           "ticks": "",
           "title": {
            "standoff": 15
           },
           "zerolinecolor": "white",
           "zerolinewidth": 2
          },
          "yaxis": {
           "automargin": true,
           "gridcolor": "white",
           "linecolor": "white",
           "ticks": "",
           "title": {
            "standoff": 15
           },
           "zerolinecolor": "white",
           "zerolinewidth": 2
          }
         }
        },
        "xaxis": {
         "anchor": "y",
         "domain": [
          0,
          1
         ],
         "title": {
          "text": "timestep"
         }
        },
        "yaxis": {
         "anchor": "x",
         "domain": [
          0,
          1
         ],
         "title": {
          "text": "value"
         }
        }
       }
      },
      "text/html": [
       "<div>                            <div id=\"d9d34249-a842-42ca-b495-8b18a9ac2301\" class=\"plotly-graph-div\" style=\"height:500px; width:100%;\"></div>            <script type=\"text/javascript\">                require([\"plotly\"], function(Plotly) {                    window.PLOTLYENV=window.PLOTLYENV || {};                                    if (document.getElementById(\"d9d34249-a842-42ca-b495-8b18a9ac2301\")) {                    Plotly.newPlot(                        \"d9d34249-a842-42ca-b495-8b18a9ac2301\",                        [{\"hovertemplate\": \"variable=host_revenue<br>run=1<br>timestep=%{x}<br>value=%{y}<extra></extra>\", \"legendgroup\": \"host_revenue\", \"line\": {\"color\": \"#636efa\", \"dash\": \"solid\"}, \"mode\": \"lines\", \"name\": \"host_revenue\", \"orientation\": \"v\", \"showlegend\": true, \"type\": \"scatter\", \"x\": [2, 3, 4, 5, 6, 7, 8, 9, 10, 11, 12, 13, 14, 15, 16, 17, 18, 19, 20, 21, 22, 23, 24, 25, 26, 27, 28, 29, 30, 31, 32, 33, 34, 35, 36, 37, 38, 39, 40, 41, 42, 43, 44, 45, 46, 47, 48, 49, 50, 51, 52, 53, 54, 55, 56, 57, 58, 59, 60, 61, 62, 63, 64, 65, 66, 67, 68, 69, 70, 71, 72, 73, 74, 75, 76, 77, 78, 79, 80, 81, 82, 83, 84, 85, 86, 87, 88, 89, 90, 91, 92, 93, 94, 95, 96, 97, 98, 99, 100, 101, 102, 103, 104, 105, 106, 107, 108, 109, 110, 111, 112, 113, 114, 115, 116, 117, 118, 119, 120, 121, 122, 123, 124, 125, 126, 127, 128, 129, 130, 131, 132, 133, 134, 135, 136, 137, 138, 139, 140, 141, 142, 143, 144, 145, 146, 147, 148, 149, 150, 151, 152, 153, 154, 155, 156, 157, 158, 159, 160, 161, 162, 163, 164, 165, 166, 167, 168, 169, 170, 171, 172, 173, 174, 175, 176, 177, 178, 179, 180, 181, 182, 183, 184, 185, 186, 187, 188, 189, 190, 191, 192, 193, 194, 195, 196, 197, 198, 199, 200, 201, 202, 203, 204, 205, 206, 207, 208, 209, 210, 211, 212, 213, 214, 215, 216, 217, 218, 219, 220, 221, 222, 223, 224, 225, 226, 227, 228, 229, 230, 231, 232, 233, 234, 235, 236, 237, 238, 239, 240, 241, 242, 243, 244, 245, 246, 247, 248, 249, 250, 251, 252, 253, 254, 255, 256, 257, 258, 259, 260, 261, 262, 263, 264, 265, 266, 267, 268, 269, 270, 271, 272, 273, 274, 275, 276, 277, 278, 279, 280, 281, 282, 283, 284, 285, 286, 287, 288, 289, 290, 291, 292, 293, 294, 295, 296, 297, 298, 299, 300, 301, 302, 303, 304, 305, 306, 307, 308, 309, 310, 311, 312, 313, 314, 315, 316, 317, 318, 319, 320, 321, 322, 323, 324, 325, 326, 327, 328, 329, 330, 331, 332, 333, 334, 335, 336, 337, 338, 339, 340, 341, 342, 343, 344, 345, 346, 347, 348, 349, 350, 351, 352, 353, 354, 355, 356, 357, 358, 359, 360, 361, 362, 363, 364, 365], \"xaxis\": \"x\", \"y\": [30.0, 48.0, 48.0, 48.0, 48.0, 48.0, 54.0, 54.0, 54.0, 54.0, 54.0, 54.0, 54.0, 54.0, 54.0, 60.0, 60.0, 60.0, 60.0, 60.0, 60.0, 60.0, 60.0, 66.0, 66.0, 66.0, 66.0, 66.0, 66.0, 66.0, 66.0, 72.0, 72.0, 72.0, 72.0, 72.0, 72.0, 72.0, 78.0, 78.0, 78.0, 78.0, 78.0, 78.0, 84.0, 84.0, 84.0, 84.0, 84.0, 84.0, 84.0, 90.0, 90.0, 90.0, 90.0, 90.0, 96.0, 96.0, 96.0, 96.0, 96.0, 96.0, 102.0, 102.0, 102.0, 102.0, 102.0, 108.0, 108.0, 108.0, 108.0, 108.0, 114.0, 114.0, 114.0, 114.0, 114.0, 120.0, 120.0, 120.0, 120.0, 120.0, 126.0, 126.0, 126.0, 126.0, 126.0, 132.0, 132.0, 132.0, 132.0, 138.0, 138.0, 138.0, 138.0, 144.0, 144.0, 144.0, 144.0, 150.0, 150.0, 150.0, 150.0, 150.0, 156.0, 156.0, 156.0, 162.0, 162.0, 162.0, 162.0, 168.0, 168.0, 168.0, 168.0, 174.0, 174.0, 174.0, 174.0, 180.0, 180.0, 180.0, 186.0, 186.0, 186.0, 186.0, 192.0, 192.0, 192.0, 192.0, 198.0, 198.0, 198.0, 204.0, 204.0, 204.0, 210.0, 210.0, 210.0, 210.0, 216.0, 216.0, 216.0, 222.0, 222.0, 222.0, 228.0, 228.0, 228.0, 228.0, 234.0, 234.0, 234.0, 240.0, 240.0, 240.0, 246.0, 246.0, 246.0, 252.0, 252.0, 252.0, 258.0, 258.0, 258.0, 264.0, 264.0, 264.0, 264.0, 270.0, 270.0, 270.0, 276.0, 276.0, 276.0, 282.0, 282.0, 282.0, 288.0, 288.0, 288.0, 294.0, 294.0, 294.0, 300.0, 300.0, 300.0, 306.0, 306.0, 306.0, 312.0, 312.0, 312.0, 318.0, 318.0, 318.0, 324.0, 324.0, 324.0, 330.0, 330.0, 330.0, 330.0, 336.0, 336.0, 336.0, 342.0, 342.0, 342.0, 348.0, 348.0, 348.0, 354.0, 354.0, 354.0, 360.0, 360.0, 360.0, 366.0, 366.0, 366.0, 366.0, 372.0, 372.0, 372.0, 378.0, 378.0, 378.0, 384.0, 384.0, 384.0, 384.0, 390.0, 390.0, 390.0, 396.0, 396.0, 396.0, 402.0, 402.0, 402.0, 402.0, 408.0, 408.0, 408.0, 408.0, 414.0, 414.0, 414.0, 420.0, 420.0, 420.0, 420.0, 426.0, 426.0, 426.0, 426.0, 432.0, 432.0, 432.0, 432.0, 438.0, 438.0, 438.0, 444.0, 444.0, 444.0, 444.0, 444.0, 450.0, 450.0, 450.0, 450.0, 456.0, 456.0, 456.0, 456.0, 462.0, 462.0, 462.0, 462.0, 468.0, 468.0, 468.0, 468.0, 468.0, 474.0, 474.0, 474.0, 474.0, 474.0, 480.0, 480.0, 480.0, 480.0, 480.0, 486.0, 486.0, 486.0, 486.0, 486.0, 492.0, 492.0, 492.0, 492.0, 492.0, 498.0, 498.0, 498.0, 498.0, 498.0, 498.0, 504.0, 504.0, 504.0, 504.0, 504.0, 510.0, 510.0, 510.0, 510.0, 510.0, 510.0, 510.0, 516.0, 516.0, 516.0, 516.0, 516.0, 516.0, 522.0, 522.0, 522.0, 522.0, 522.0, 522.0, 522.0, 528.0, 528.0, 528.0, 528.0, 528.0, 528.0, 528.0, 528.0, 534.0, 534.0, 534.0, 534.0, 534.0, 534.0, 534.0, 534.0, 540.0, 540.0, 540.0, 540.0, 540.0, 540.0, 540.0, 540.0, 540.0, 546.0, 546.0], \"yaxis\": \"y\"}, {\"hovertemplate\": \"variable=demand<br>run=1<br>timestep=%{x}<br>value=%{y}<extra></extra>\", \"legendgroup\": \"demand\", \"line\": {\"color\": \"#EF553B\", \"dash\": \"solid\"}, \"mode\": \"lines\", \"name\": \"demand\", \"orientation\": \"v\", \"showlegend\": true, \"type\": \"scatter\", \"x\": [2, 3, 4, 5, 6, 7, 8, 9, 10, 11, 12, 13, 14, 15, 16, 17, 18, 19, 20, 21, 22, 23, 24, 25, 26, 27, 28, 29, 30, 31, 32, 33, 34, 35, 36, 37, 38, 39, 40, 41, 42, 43, 44, 45, 46, 47, 48, 49, 50, 51, 52, 53, 54, 55, 56, 57, 58, 59, 60, 61, 62, 63, 64, 65, 66, 67, 68, 69, 70, 71, 72, 73, 74, 75, 76, 77, 78, 79, 80, 81, 82, 83, 84, 85, 86, 87, 88, 89, 90, 91, 92, 93, 94, 95, 96, 97, 98, 99, 100, 101, 102, 103, 104, 105, 106, 107, 108, 109, 110, 111, 112, 113, 114, 115, 116, 117, 118, 119, 120, 121, 122, 123, 124, 125, 126, 127, 128, 129, 130, 131, 132, 133, 134, 135, 136, 137, 138, 139, 140, 141, 142, 143, 144, 145, 146, 147, 148, 149, 150, 151, 152, 153, 154, 155, 156, 157, 158, 159, 160, 161, 162, 163, 164, 165, 166, 167, 168, 169, 170, 171, 172, 173, 174, 175, 176, 177, 178, 179, 180, 181, 182, 183, 184, 185, 186, 187, 188, 189, 190, 191, 192, 193, 194, 195, 196, 197, 198, 199, 200, 201, 202, 203, 204, 205, 206, 207, 208, 209, 210, 211, 212, 213, 214, 215, 216, 217, 218, 219, 220, 221, 222, 223, 224, 225, 226, 227, 228, 229, 230, 231, 232, 233, 234, 235, 236, 237, 238, 239, 240, 241, 242, 243, 244, 245, 246, 247, 248, 249, 250, 251, 252, 253, 254, 255, 256, 257, 258, 259, 260, 261, 262, 263, 264, 265, 266, 267, 268, 269, 270, 271, 272, 273, 274, 275, 276, 277, 278, 279, 280, 281, 282, 283, 284, 285, 286, 287, 288, 289, 290, 291, 292, 293, 294, 295, 296, 297, 298, 299, 300, 301, 302, 303, 304, 305, 306, 307, 308, 309, 310, 311, 312, 313, 314, 315, 316, 317, 318, 319, 320, 321, 322, 323, 324, 325, 326, 327, 328, 329, 330, 331, 332, 333, 334, 335, 336, 337, 338, 339, 340, 341, 342, 343, 344, 345, 346, 347, 348, 349, 350, 351, 352, 353, 354, 355, 356, 357, 358, 359, 360, 361, 362, 363, 364, 365], \"xaxis\": \"x\", \"y\": [160.0, 160.0, 160.0, 160.0, 160.0, 180.0, 180.0, 180.0, 180.0, 180.0, 180.0, 180.0, 180.0, 180.0, 200.0, 200.0, 200.0, 200.0, 200.0, 200.0, 200.0, 200.0, 220.0, 220.0, 220.0, 220.0, 220.0, 220.0, 220.0, 220.0, 240.0, 240.0, 240.0, 240.0, 240.0, 240.0, 240.0, 260.0, 260.0, 260.0, 260.0, 260.0, 260.0, 280.0, 280.0, 280.0, 280.0, 280.0, 280.0, 280.0, 300.0, 300.0, 300.0, 300.0, 300.0, 320.0, 320.0, 320.0, 320.0, 320.0, 320.0, 340.0, 340.0, 340.0, 340.0, 340.0, 360.0, 360.0, 360.0, 360.0, 360.0, 380.0, 380.0, 380.0, 380.0, 380.0, 400.0, 400.0, 400.0, 400.0, 400.0, 420.0, 420.0, 420.0, 420.0, 420.0, 440.0, 440.0, 440.0, 440.0, 460.0, 460.0, 460.0, 460.0, 480.0, 480.0, 480.0, 480.0, 500.0, 500.0, 500.0, 500.0, 500.0, 520.0, 520.0, 520.0, 540.0, 540.0, 540.0, 540.0, 560.0, 560.0, 560.0, 560.0, 580.0, 580.0, 580.0, 580.0, 600.0, 600.0, 600.0, 620.0, 620.0, 620.0, 620.0, 640.0, 640.0, 640.0, 640.0, 660.0, 660.0, 660.0, 680.0, 680.0, 680.0, 700.0, 700.0, 700.0, 700.0, 720.0, 720.0, 720.0, 740.0, 740.0, 740.0, 760.0, 760.0, 760.0, 760.0, 780.0, 780.0, 780.0, 800.0, 800.0, 800.0, 820.0, 820.0, 820.0, 840.0, 840.0, 840.0, 860.0, 860.0, 860.0, 880.0, 880.0, 880.0, 880.0, 900.0, 900.0, 900.0, 920.0, 920.0, 920.0, 940.0, 940.0, 940.0, 960.0, 960.0, 960.0, 980.0, 980.0, 980.0, 1000.0, 1000.0, 1000.0, 1020.0, 1020.0, 1020.0, 1040.0, 1040.0, 1040.0, 1060.0, 1060.0, 1060.0, 1080.0, 1080.0, 1080.0, 1100.0, 1100.0, 1100.0, 1100.0, 1120.0, 1120.0, 1120.0, 1140.0, 1140.0, 1140.0, 1160.0, 1160.0, 1160.0, 1180.0, 1180.0, 1180.0, 1200.0, 1200.0, 1200.0, 1220.0, 1220.0, 1220.0, 1220.0, 1240.0, 1240.0, 1240.0, 1260.0, 1260.0, 1260.0, 1280.0, 1280.0, 1280.0, 1280.0, 1300.0, 1300.0, 1300.0, 1320.0, 1320.0, 1320.0, 1340.0, 1340.0, 1340.0, 1340.0, 1360.0, 1360.0, 1360.0, 1360.0, 1380.0, 1380.0, 1380.0, 1400.0, 1400.0, 1400.0, 1400.0, 1420.0, 1420.0, 1420.0, 1420.0, 1440.0, 1440.0, 1440.0, 1440.0, 1460.0, 1460.0, 1460.0, 1480.0, 1480.0, 1480.0, 1480.0, 1480.0, 1500.0, 1500.0, 1500.0, 1500.0, 1520.0, 1520.0, 1520.0, 1520.0, 1540.0, 1540.0, 1540.0, 1540.0, 1560.0, 1560.0, 1560.0, 1560.0, 1560.0, 1580.0, 1580.0, 1580.0, 1580.0, 1580.0, 1600.0, 1600.0, 1600.0, 1600.0, 1600.0, 1620.0, 1620.0, 1620.0, 1620.0, 1620.0, 1640.0, 1640.0, 1640.0, 1640.0, 1640.0, 1660.0, 1660.0, 1660.0, 1660.0, 1660.0, 1660.0, 1680.0, 1680.0, 1680.0, 1680.0, 1680.0, 1700.0, 1700.0, 1700.0, 1700.0, 1700.0, 1700.0, 1700.0, 1720.0, 1720.0, 1720.0, 1720.0, 1720.0, 1720.0, 1740.0, 1740.0, 1740.0, 1740.0, 1740.0, 1740.0, 1740.0, 1760.0, 1760.0, 1760.0, 1760.0, 1760.0, 1760.0, 1760.0, 1760.0, 1780.0, 1780.0, 1780.0, 1780.0, 1780.0, 1780.0, 1780.0, 1780.0, 1800.0, 1800.0, 1800.0, 1800.0, 1800.0, 1800.0, 1800.0, 1800.0, 1800.0, 1820.0, 1820.0, 1820.0], \"yaxis\": \"y\"}],                        {\"height\": 500, \"legend\": {\"title\": {\"text\": \"variable\"}, \"tracegroupgap\": 0}, \"margin\": {\"t\": 60}, \"template\": {\"data\": {\"bar\": [{\"error_x\": {\"color\": \"#2a3f5f\"}, \"error_y\": {\"color\": \"#2a3f5f\"}, \"marker\": {\"line\": {\"color\": \"#E5ECF6\", \"width\": 0.5}}, \"type\": \"bar\"}], \"barpolar\": [{\"marker\": {\"line\": {\"color\": \"#E5ECF6\", \"width\": 0.5}}, \"type\": \"barpolar\"}], \"carpet\": [{\"aaxis\": {\"endlinecolor\": \"#2a3f5f\", \"gridcolor\": \"white\", \"linecolor\": \"white\", \"minorgridcolor\": \"white\", \"startlinecolor\": \"#2a3f5f\"}, \"baxis\": {\"endlinecolor\": \"#2a3f5f\", \"gridcolor\": \"white\", \"linecolor\": \"white\", \"minorgridcolor\": \"white\", \"startlinecolor\": \"#2a3f5f\"}, \"type\": \"carpet\"}], \"choropleth\": [{\"colorbar\": {\"outlinewidth\": 0, \"ticks\": \"\"}, \"type\": \"choropleth\"}], \"contour\": [{\"colorbar\": {\"outlinewidth\": 0, \"ticks\": \"\"}, \"colorscale\": [[0.0, \"#0d0887\"], [0.1111111111111111, \"#46039f\"], [0.2222222222222222, \"#7201a8\"], [0.3333333333333333, \"#9c179e\"], [0.4444444444444444, \"#bd3786\"], [0.5555555555555556, \"#d8576b\"], [0.6666666666666666, \"#ed7953\"], [0.7777777777777778, \"#fb9f3a\"], [0.8888888888888888, \"#fdca26\"], [1.0, \"#f0f921\"]], \"type\": \"contour\"}], \"contourcarpet\": [{\"colorbar\": {\"outlinewidth\": 0, \"ticks\": \"\"}, \"type\": \"contourcarpet\"}], \"heatmap\": [{\"colorbar\": {\"outlinewidth\": 0, \"ticks\": \"\"}, \"colorscale\": [[0.0, \"#0d0887\"], [0.1111111111111111, \"#46039f\"], [0.2222222222222222, \"#7201a8\"], [0.3333333333333333, \"#9c179e\"], [0.4444444444444444, \"#bd3786\"], [0.5555555555555556, \"#d8576b\"], [0.6666666666666666, \"#ed7953\"], [0.7777777777777778, \"#fb9f3a\"], [0.8888888888888888, \"#fdca26\"], [1.0, \"#f0f921\"]], \"type\": \"heatmap\"}], \"heatmapgl\": [{\"colorbar\": {\"outlinewidth\": 0, \"ticks\": \"\"}, \"colorscale\": [[0.0, \"#0d0887\"], [0.1111111111111111, \"#46039f\"], [0.2222222222222222, \"#7201a8\"], [0.3333333333333333, \"#9c179e\"], [0.4444444444444444, \"#bd3786\"], [0.5555555555555556, \"#d8576b\"], [0.6666666666666666, \"#ed7953\"], [0.7777777777777778, \"#fb9f3a\"], [0.8888888888888888, \"#fdca26\"], [1.0, \"#f0f921\"]], \"type\": \"heatmapgl\"}], \"histogram\": [{\"marker\": {\"colorbar\": {\"outlinewidth\": 0, \"ticks\": \"\"}}, \"type\": \"histogram\"}], \"histogram2d\": [{\"colorbar\": {\"outlinewidth\": 0, \"ticks\": \"\"}, \"colorscale\": [[0.0, \"#0d0887\"], [0.1111111111111111, \"#46039f\"], [0.2222222222222222, \"#7201a8\"], [0.3333333333333333, \"#9c179e\"], [0.4444444444444444, \"#bd3786\"], [0.5555555555555556, \"#d8576b\"], [0.6666666666666666, \"#ed7953\"], [0.7777777777777778, \"#fb9f3a\"], [0.8888888888888888, \"#fdca26\"], [1.0, \"#f0f921\"]], \"type\": \"histogram2d\"}], \"histogram2dcontour\": [{\"colorbar\": {\"outlinewidth\": 0, \"ticks\": \"\"}, \"colorscale\": [[0.0, \"#0d0887\"], [0.1111111111111111, \"#46039f\"], [0.2222222222222222, \"#7201a8\"], [0.3333333333333333, \"#9c179e\"], [0.4444444444444444, \"#bd3786\"], [0.5555555555555556, \"#d8576b\"], [0.6666666666666666, \"#ed7953\"], [0.7777777777777778, \"#fb9f3a\"], [0.8888888888888888, \"#fdca26\"], [1.0, \"#f0f921\"]], \"type\": \"histogram2dcontour\"}], \"mesh3d\": [{\"colorbar\": {\"outlinewidth\": 0, \"ticks\": \"\"}, \"type\": \"mesh3d\"}], \"parcoords\": [{\"line\": {\"colorbar\": {\"outlinewidth\": 0, \"ticks\": \"\"}}, \"type\": \"parcoords\"}], \"pie\": [{\"automargin\": true, \"type\": \"pie\"}], \"scatter\": [{\"marker\": {\"colorbar\": {\"outlinewidth\": 0, \"ticks\": \"\"}}, \"type\": \"scatter\"}], \"scatter3d\": [{\"line\": {\"colorbar\": {\"outlinewidth\": 0, \"ticks\": \"\"}}, \"marker\": {\"colorbar\": {\"outlinewidth\": 0, \"ticks\": \"\"}}, \"type\": \"scatter3d\"}], \"scattercarpet\": [{\"marker\": {\"colorbar\": {\"outlinewidth\": 0, \"ticks\": \"\"}}, \"type\": \"scattercarpet\"}], \"scattergeo\": [{\"marker\": {\"colorbar\": {\"outlinewidth\": 0, \"ticks\": \"\"}}, \"type\": \"scattergeo\"}], \"scattergl\": [{\"marker\": {\"colorbar\": {\"outlinewidth\": 0, \"ticks\": \"\"}}, \"type\": \"scattergl\"}], \"scattermapbox\": [{\"marker\": {\"colorbar\": {\"outlinewidth\": 0, \"ticks\": \"\"}}, \"type\": \"scattermapbox\"}], \"scatterpolar\": [{\"marker\": {\"colorbar\": {\"outlinewidth\": 0, \"ticks\": \"\"}}, \"type\": \"scatterpolar\"}], \"scatterpolargl\": [{\"marker\": {\"colorbar\": {\"outlinewidth\": 0, \"ticks\": \"\"}}, \"type\": \"scatterpolargl\"}], \"scatterternary\": [{\"marker\": {\"colorbar\": {\"outlinewidth\": 0, \"ticks\": \"\"}}, \"type\": \"scatterternary\"}], \"surface\": [{\"colorbar\": {\"outlinewidth\": 0, \"ticks\": \"\"}, \"colorscale\": [[0.0, \"#0d0887\"], [0.1111111111111111, \"#46039f\"], [0.2222222222222222, \"#7201a8\"], [0.3333333333333333, \"#9c179e\"], [0.4444444444444444, \"#bd3786\"], [0.5555555555555556, \"#d8576b\"], [0.6666666666666666, \"#ed7953\"], [0.7777777777777778, \"#fb9f3a\"], [0.8888888888888888, \"#fdca26\"], [1.0, \"#f0f921\"]], \"type\": \"surface\"}], \"table\": [{\"cells\": {\"fill\": {\"color\": \"#EBF0F8\"}, \"line\": {\"color\": \"white\"}}, \"header\": {\"fill\": {\"color\": \"#C8D4E3\"}, \"line\": {\"color\": \"white\"}}, \"type\": \"table\"}]}, \"layout\": {\"annotationdefaults\": {\"arrowcolor\": \"#2a3f5f\", \"arrowhead\": 0, \"arrowwidth\": 1}, \"autotypenumbers\": \"strict\", \"coloraxis\": {\"colorbar\": {\"outlinewidth\": 0, \"ticks\": \"\"}}, \"colorscale\": {\"diverging\": [[0, \"#8e0152\"], [0.1, \"#c51b7d\"], [0.2, \"#de77ae\"], [0.3, \"#f1b6da\"], [0.4, \"#fde0ef\"], [0.5, \"#f7f7f7\"], [0.6, \"#e6f5d0\"], [0.7, \"#b8e186\"], [0.8, \"#7fbc41\"], [0.9, \"#4d9221\"], [1, \"#276419\"]], \"sequential\": [[0.0, \"#0d0887\"], [0.1111111111111111, \"#46039f\"], [0.2222222222222222, \"#7201a8\"], [0.3333333333333333, \"#9c179e\"], [0.4444444444444444, \"#bd3786\"], [0.5555555555555556, \"#d8576b\"], [0.6666666666666666, \"#ed7953\"], [0.7777777777777778, \"#fb9f3a\"], [0.8888888888888888, \"#fdca26\"], [1.0, \"#f0f921\"]], \"sequentialminus\": [[0.0, \"#0d0887\"], [0.1111111111111111, \"#46039f\"], [0.2222222222222222, \"#7201a8\"], [0.3333333333333333, \"#9c179e\"], [0.4444444444444444, \"#bd3786\"], [0.5555555555555556, \"#d8576b\"], [0.6666666666666666, \"#ed7953\"], [0.7777777777777778, \"#fb9f3a\"], [0.8888888888888888, \"#fdca26\"], [1.0, \"#f0f921\"]]}, \"colorway\": [\"#636efa\", \"#EF553B\", \"#00cc96\", \"#ab63fa\", \"#FFA15A\", \"#19d3f3\", \"#FF6692\", \"#B6E880\", \"#FF97FF\", \"#FECB52\"], \"font\": {\"color\": \"#2a3f5f\"}, \"geo\": {\"bgcolor\": \"white\", \"lakecolor\": \"white\", \"landcolor\": \"#E5ECF6\", \"showlakes\": true, \"showland\": true, \"subunitcolor\": \"white\"}, \"hoverlabel\": {\"align\": \"left\"}, \"hovermode\": \"closest\", \"mapbox\": {\"style\": \"light\"}, \"paper_bgcolor\": \"white\", \"plot_bgcolor\": \"#E5ECF6\", \"polar\": {\"angularaxis\": {\"gridcolor\": \"white\", \"linecolor\": \"white\", \"ticks\": \"\"}, \"bgcolor\": \"#E5ECF6\", \"radialaxis\": {\"gridcolor\": \"white\", \"linecolor\": \"white\", \"ticks\": \"\"}}, \"scene\": {\"xaxis\": {\"backgroundcolor\": \"#E5ECF6\", \"gridcolor\": \"white\", \"gridwidth\": 2, \"linecolor\": \"white\", \"showbackground\": true, \"ticks\": \"\", \"zerolinecolor\": \"white\"}, \"yaxis\": {\"backgroundcolor\": \"#E5ECF6\", \"gridcolor\": \"white\", \"gridwidth\": 2, \"linecolor\": \"white\", \"showbackground\": true, \"ticks\": \"\", \"zerolinecolor\": \"white\"}, \"zaxis\": {\"backgroundcolor\": \"#E5ECF6\", \"gridcolor\": \"white\", \"gridwidth\": 2, \"linecolor\": \"white\", \"showbackground\": true, \"ticks\": \"\", \"zerolinecolor\": \"white\"}}, \"shapedefaults\": {\"line\": {\"color\": \"#2a3f5f\"}}, \"ternary\": {\"aaxis\": {\"gridcolor\": \"white\", \"linecolor\": \"white\", \"ticks\": \"\"}, \"baxis\": {\"gridcolor\": \"white\", \"linecolor\": \"white\", \"ticks\": \"\"}, \"bgcolor\": \"#E5ECF6\", \"caxis\": {\"gridcolor\": \"white\", \"linecolor\": \"white\", \"ticks\": \"\"}}, \"title\": {\"x\": 0.05}, \"xaxis\": {\"automargin\": true, \"gridcolor\": \"white\", \"linecolor\": \"white\", \"ticks\": \"\", \"title\": {\"standoff\": 15}, \"zerolinecolor\": \"white\", \"zerolinewidth\": 2}, \"yaxis\": {\"automargin\": true, \"gridcolor\": \"white\", \"linecolor\": \"white\", \"ticks\": \"\", \"title\": {\"standoff\": 15}, \"zerolinecolor\": \"white\", \"zerolinewidth\": 2}}}, \"xaxis\": {\"anchor\": \"y\", \"domain\": [0.0, 1.0], \"title\": {\"text\": \"timestep\"}}, \"yaxis\": {\"anchor\": \"x\", \"domain\": [0.0, 1.0], \"title\": {\"text\": \"value\"}}},                        {\"responsive\": true}                    ).then(function(){\n",
       "                            \n",
       "var gd = document.getElementById('d9d34249-a842-42ca-b495-8b18a9ac2301');\n",
       "var x = new MutationObserver(function (mutations, observer) {{\n",
       "        var display = window.getComputedStyle(gd).display;\n",
       "        if (!display || display === 'none') {{\n",
       "            console.log([gd, 'removed!']);\n",
       "            Plotly.purge(gd);\n",
       "            observer.disconnect();\n",
       "        }}\n",
       "}});\n",
       "\n",
       "// Listen for the removal of the full notebook cells\n",
       "var notebookContainer = gd.closest('#notebook-container');\n",
       "if (notebookContainer) {{\n",
       "    x.observe(notebookContainer, {childList: true});\n",
       "}}\n",
       "\n",
       "// Listen for the clearing of the current output cell\n",
       "var outputEl = gd.closest('.output');\n",
       "if (outputEl) {{\n",
       "    x.observe(outputEl, {childList: true});\n",
       "}}\n",
       "\n",
       "                        })                };                });            </script>        </div>"
      ]
     },
     "metadata": {},
     "output_type": "display_data"
    }
   ],
   "source": [
    "fig = px.line(\n",
    "    fig_df,\n",
    "    x='timestep',\n",
    "    y=['host_revenue', 'demand'],\n",
    "    height=500,\n",
    "    animation_frame='run'\n",
    ")\n",
    "\n",
    "fig.show()"
   ]
  },
  {
   "cell_type": "code",
   "execution_count": 168,
   "id": "6f990d89",
   "metadata": {},
   "outputs": [
    {
     "data": {
      "application/vnd.plotly.v1+json": {
       "config": {
        "plotlyServerURL": "https://plot.ly"
       },
       "data": [
        {
         "hovertemplate": "variable=host_revenue<br>run=1<br>timestep=%{x}<br>value=%{y}<extra></extra>",
         "legendgroup": "host_revenue",
         "line": {
          "color": "#636efa",
          "dash": "solid"
         },
         "mode": "lines",
         "name": "host_revenue",
         "orientation": "v",
         "showlegend": true,
         "type": "scatter",
         "x": [
          2,
          3,
          4,
          5,
          6,
          7,
          8,
          9,
          10,
          11,
          12,
          13,
          14,
          15,
          16,
          17,
          18,
          19,
          20,
          21,
          22,
          23,
          24,
          25,
          26,
          27,
          28,
          29,
          30,
          31,
          32,
          33,
          34,
          35,
          36,
          37,
          38,
          39,
          40,
          41,
          42,
          43,
          44,
          45,
          46,
          47,
          48,
          49,
          50,
          51,
          52,
          53,
          54,
          55,
          56,
          57,
          58,
          59,
          60,
          61,
          62,
          63,
          64,
          65,
          66,
          67,
          68,
          69,
          70,
          71,
          72,
          73,
          74,
          75,
          76,
          77,
          78,
          79,
          80,
          81,
          82,
          83,
          84,
          85,
          86,
          87,
          88,
          89,
          90,
          91,
          92,
          93,
          94,
          95,
          96,
          97,
          98,
          99,
          100,
          101,
          102,
          103,
          104,
          105,
          106,
          107,
          108,
          109,
          110,
          111,
          112,
          113,
          114,
          115,
          116,
          117,
          118,
          119,
          120,
          121,
          122,
          123,
          124,
          125,
          126,
          127,
          128,
          129,
          130,
          131,
          132,
          133,
          134,
          135,
          136,
          137,
          138,
          139,
          140,
          141,
          142,
          143,
          144,
          145,
          146,
          147,
          148,
          149,
          150,
          151,
          152,
          153,
          154,
          155,
          156,
          157,
          158,
          159,
          160,
          161,
          162,
          163,
          164,
          165,
          166,
          167,
          168,
          169,
          170,
          171,
          172,
          173,
          174,
          175,
          176,
          177,
          178,
          179,
          180,
          181,
          182,
          183,
          184,
          185,
          186,
          187,
          188,
          189,
          190,
          191,
          192,
          193,
          194,
          195,
          196,
          197,
          198,
          199,
          200,
          201,
          202,
          203,
          204,
          205,
          206,
          207,
          208,
          209,
          210,
          211,
          212,
          213,
          214,
          215,
          216,
          217,
          218,
          219,
          220,
          221,
          222,
          223,
          224,
          225,
          226,
          227,
          228,
          229,
          230,
          231,
          232,
          233,
          234,
          235,
          236,
          237,
          238,
          239,
          240,
          241,
          242,
          243,
          244,
          245,
          246,
          247,
          248,
          249,
          250,
          251,
          252,
          253,
          254,
          255,
          256,
          257,
          258,
          259,
          260,
          261,
          262,
          263,
          264,
          265,
          266,
          267,
          268,
          269,
          270,
          271,
          272,
          273,
          274,
          275,
          276,
          277,
          278,
          279,
          280,
          281,
          282,
          283,
          284,
          285,
          286,
          287,
          288,
          289,
          290,
          291,
          292,
          293,
          294,
          295,
          296,
          297,
          298,
          299,
          300,
          301,
          302,
          303,
          304,
          305,
          306,
          307,
          308,
          309,
          310,
          311,
          312,
          313,
          314,
          315,
          316,
          317,
          318,
          319,
          320,
          321,
          322,
          323,
          324,
          325,
          326,
          327,
          328,
          329,
          330,
          331,
          332,
          333,
          334,
          335,
          336,
          337,
          338,
          339,
          340,
          341,
          342,
          343,
          344,
          345,
          346,
          347,
          348,
          349,
          350,
          351,
          352,
          353,
          354,
          355,
          356,
          357,
          358,
          359,
          360,
          361,
          362,
          363,
          364,
          365
         ],
         "xaxis": "x",
         "y": [
          30,
          48,
          48,
          48,
          48,
          48,
          54,
          54,
          54,
          54,
          54,
          54,
          54,
          54,
          54,
          60,
          60,
          60,
          60,
          60,
          60,
          60,
          60,
          66,
          66,
          66,
          66,
          66,
          66,
          66,
          66,
          72,
          72,
          72,
          72,
          72,
          72,
          72,
          78,
          78,
          78,
          78,
          78,
          78,
          84,
          84,
          84,
          84,
          84,
          84,
          84,
          90,
          90,
          90,
          90,
          90,
          96,
          96,
          96,
          96,
          96,
          96,
          102,
          102,
          102,
          102,
          102,
          108,
          108,
          108,
          108,
          108,
          114,
          114,
          114,
          114,
          114,
          120,
          120,
          120,
          120,
          120,
          126,
          126,
          126,
          126,
          126,
          132,
          132,
          132,
          132,
          138,
          138,
          138,
          138,
          144,
          144,
          144,
          144,
          150,
          150,
          150,
          150,
          150,
          156,
          156,
          156,
          162,
          162,
          162,
          162,
          168,
          168,
          168,
          168,
          174,
          174,
          174,
          174,
          180,
          180,
          180,
          186,
          186,
          186,
          186,
          192,
          192,
          192,
          192,
          198,
          198,
          198,
          204,
          204,
          204,
          210,
          210,
          210,
          210,
          216,
          216,
          216,
          222,
          222,
          222,
          228,
          228,
          228,
          228,
          234,
          234,
          234,
          240,
          240,
          240,
          246,
          246,
          246,
          252,
          252,
          252,
          258,
          258,
          258,
          264,
          264,
          264,
          264,
          270,
          270,
          270,
          276,
          276,
          276,
          282,
          282,
          282,
          288,
          288,
          288,
          294,
          294,
          294,
          300,
          300,
          300,
          306,
          306,
          306,
          312,
          312,
          312,
          318,
          318,
          318,
          324,
          324,
          324,
          330,
          330,
          330,
          330,
          336,
          336,
          336,
          342,
          342,
          342,
          348,
          348,
          348,
          354,
          354,
          354,
          360,
          360,
          360,
          366,
          366,
          366,
          366,
          372,
          372,
          372,
          378,
          378,
          378,
          384,
          384,
          384,
          384,
          390,
          390,
          390,
          396,
          396,
          396,
          402,
          402,
          402,
          402,
          408,
          408,
          408,
          408,
          414,
          414,
          414,
          420,
          420,
          420,
          420,
          426,
          426,
          426,
          426,
          432,
          432,
          432,
          432,
          438,
          438,
          438,
          444,
          444,
          444,
          444,
          444,
          450,
          450,
          450,
          450,
          456,
          456,
          456,
          456,
          462,
          462,
          462,
          462,
          468,
          468,
          468,
          468,
          468,
          474,
          474,
          474,
          474,
          474,
          480,
          480,
          480,
          480,
          480,
          486,
          486,
          486,
          486,
          486,
          492,
          492,
          492,
          492,
          492,
          498,
          498,
          498,
          498,
          498,
          498,
          504,
          504,
          504,
          504,
          504,
          510,
          510,
          510,
          510,
          510,
          510,
          510,
          516,
          516,
          516,
          516,
          516,
          516,
          522,
          522,
          522,
          522,
          522,
          522,
          522,
          528,
          528,
          528,
          528,
          528,
          528,
          528,
          528,
          534,
          534,
          534,
          534,
          534,
          534,
          534,
          534,
          540,
          540,
          540,
          540,
          540,
          540,
          540,
          540,
          540,
          546,
          546
         ],
         "yaxis": "y"
        },
        {
         "hovertemplate": "variable=host_expenses<br>run=1<br>timestep=%{x}<br>value=%{y}<extra></extra>",
         "legendgroup": "host_expenses",
         "line": {
          "color": "#EF553B",
          "dash": "solid"
         },
         "mode": "lines",
         "name": "host_expenses",
         "orientation": "v",
         "showlegend": true,
         "type": "scatter",
         "x": [
          2,
          3,
          4,
          5,
          6,
          7,
          8,
          9,
          10,
          11,
          12,
          13,
          14,
          15,
          16,
          17,
          18,
          19,
          20,
          21,
          22,
          23,
          24,
          25,
          26,
          27,
          28,
          29,
          30,
          31,
          32,
          33,
          34,
          35,
          36,
          37,
          38,
          39,
          40,
          41,
          42,
          43,
          44,
          45,
          46,
          47,
          48,
          49,
          50,
          51,
          52,
          53,
          54,
          55,
          56,
          57,
          58,
          59,
          60,
          61,
          62,
          63,
          64,
          65,
          66,
          67,
          68,
          69,
          70,
          71,
          72,
          73,
          74,
          75,
          76,
          77,
          78,
          79,
          80,
          81,
          82,
          83,
          84,
          85,
          86,
          87,
          88,
          89,
          90,
          91,
          92,
          93,
          94,
          95,
          96,
          97,
          98,
          99,
          100,
          101,
          102,
          103,
          104,
          105,
          106,
          107,
          108,
          109,
          110,
          111,
          112,
          113,
          114,
          115,
          116,
          117,
          118,
          119,
          120,
          121,
          122,
          123,
          124,
          125,
          126,
          127,
          128,
          129,
          130,
          131,
          132,
          133,
          134,
          135,
          136,
          137,
          138,
          139,
          140,
          141,
          142,
          143,
          144,
          145,
          146,
          147,
          148,
          149,
          150,
          151,
          152,
          153,
          154,
          155,
          156,
          157,
          158,
          159,
          160,
          161,
          162,
          163,
          164,
          165,
          166,
          167,
          168,
          169,
          170,
          171,
          172,
          173,
          174,
          175,
          176,
          177,
          178,
          179,
          180,
          181,
          182,
          183,
          184,
          185,
          186,
          187,
          188,
          189,
          190,
          191,
          192,
          193,
          194,
          195,
          196,
          197,
          198,
          199,
          200,
          201,
          202,
          203,
          204,
          205,
          206,
          207,
          208,
          209,
          210,
          211,
          212,
          213,
          214,
          215,
          216,
          217,
          218,
          219,
          220,
          221,
          222,
          223,
          224,
          225,
          226,
          227,
          228,
          229,
          230,
          231,
          232,
          233,
          234,
          235,
          236,
          237,
          238,
          239,
          240,
          241,
          242,
          243,
          244,
          245,
          246,
          247,
          248,
          249,
          250,
          251,
          252,
          253,
          254,
          255,
          256,
          257,
          258,
          259,
          260,
          261,
          262,
          263,
          264,
          265,
          266,
          267,
          268,
          269,
          270,
          271,
          272,
          273,
          274,
          275,
          276,
          277,
          278,
          279,
          280,
          281,
          282,
          283,
          284,
          285,
          286,
          287,
          288,
          289,
          290,
          291,
          292,
          293,
          294,
          295,
          296,
          297,
          298,
          299,
          300,
          301,
          302,
          303,
          304,
          305,
          306,
          307,
          308,
          309,
          310,
          311,
          312,
          313,
          314,
          315,
          316,
          317,
          318,
          319,
          320,
          321,
          322,
          323,
          324,
          325,
          326,
          327,
          328,
          329,
          330,
          331,
          332,
          333,
          334,
          335,
          336,
          337,
          338,
          339,
          340,
          341,
          342,
          343,
          344,
          345,
          346,
          347,
          348,
          349,
          350,
          351,
          352,
          353,
          354,
          355,
          356,
          357,
          358,
          359,
          360,
          361,
          362,
          363,
          364,
          365
         ],
         "xaxis": "x",
         "y": [
          130,
          129.4,
          129.04,
          129.04,
          129.04,
          129.04,
          129.04,
          128.92,
          128.92,
          128.92,
          128.92,
          128.92,
          128.92,
          128.92,
          128.92,
          128.92,
          128.8,
          128.8,
          128.8,
          128.8,
          128.8,
          128.8,
          128.8,
          128.8,
          128.68,
          128.68,
          128.68,
          128.68,
          128.68,
          128.68,
          128.68,
          128.68,
          128.56,
          128.56,
          128.56,
          128.56,
          128.56,
          128.56,
          128.56,
          128.44,
          128.44,
          128.44,
          128.44,
          128.44,
          128.44,
          128.32,
          128.32,
          128.32,
          128.32,
          128.32,
          128.32,
          128.32,
          128.2,
          128.2,
          128.2,
          128.2,
          128.2,
          128.08,
          128.08,
          128.08,
          128.08,
          128.08,
          128.08,
          127.96,
          127.96,
          127.96,
          127.96,
          127.96,
          127.84,
          127.84,
          127.84,
          127.84,
          127.84,
          127.72,
          127.72,
          127.72,
          127.72,
          127.72,
          127.6,
          127.6,
          127.6,
          127.6,
          127.6,
          127.48,
          127.48,
          127.48,
          127.48,
          127.48,
          127.36,
          127.36,
          127.36,
          127.36,
          127.24,
          127.24,
          127.24,
          127.24,
          127.12,
          127.12,
          127.12,
          127.12,
          127,
          127,
          127,
          127,
          127,
          126.88,
          126.88,
          126.88,
          126.76,
          126.76,
          126.76,
          126.76,
          126.64,
          126.64,
          126.64,
          126.64,
          126.52,
          126.52,
          126.52,
          126.52,
          126.4,
          126.4,
          126.4,
          126.28,
          126.28,
          126.28,
          126.28,
          126.16,
          126.16,
          126.16,
          126.16,
          126.04,
          126.04,
          126.04,
          125.92,
          125.92,
          125.92,
          125.8,
          125.8,
          125.8,
          125.8,
          125.68,
          125.68,
          125.68,
          125.56,
          125.56,
          125.56,
          125.44,
          125.44,
          125.44,
          125.44,
          125.32,
          125.32,
          125.32,
          125.2,
          125.2,
          125.2,
          125.08,
          125.08,
          125.08,
          124.96,
          124.96,
          124.96,
          124.84,
          124.84,
          124.84,
          124.72,
          124.72,
          124.72,
          124.72,
          124.6,
          124.6,
          124.6,
          124.48,
          124.48,
          124.48,
          124.36,
          124.36,
          124.36,
          124.24,
          124.24,
          124.24,
          124.12,
          124.12,
          124.12,
          124,
          124,
          124,
          123.88,
          123.88,
          123.88,
          123.76,
          123.76,
          123.76,
          123.64,
          123.64,
          123.64,
          123.52,
          123.52,
          123.52,
          123.4,
          123.4,
          123.4,
          123.4,
          123.28,
          123.28,
          123.28,
          123.16,
          123.16,
          123.16,
          123.04,
          123.04,
          123.04,
          122.92,
          122.92,
          122.92,
          122.8,
          122.8,
          122.8,
          122.68,
          122.68,
          122.68,
          122.68,
          122.56,
          122.56,
          122.56,
          122.44,
          122.44,
          122.44,
          122.32,
          122.32,
          122.32,
          122.32,
          122.2,
          122.2,
          122.2,
          122.08,
          122.08,
          122.08,
          121.96,
          121.96,
          121.96,
          121.96,
          121.84,
          121.84,
          121.84,
          121.84,
          121.72,
          121.72,
          121.72,
          121.6,
          121.6,
          121.6,
          121.6,
          121.48,
          121.48,
          121.48,
          121.48,
          121.36,
          121.36,
          121.36,
          121.36,
          121.24,
          121.24,
          121.24,
          121.12,
          121.12,
          121.12,
          121.12,
          121.12,
          121,
          121,
          121,
          121,
          120.88,
          120.88,
          120.88,
          120.88,
          120.76,
          120.76,
          120.76,
          120.76,
          120.64,
          120.64,
          120.64,
          120.64,
          120.64,
          120.52,
          120.52,
          120.52,
          120.52,
          120.52,
          120.4,
          120.4,
          120.4,
          120.4,
          120.4,
          120.28,
          120.28,
          120.28,
          120.28,
          120.28,
          120.16,
          120.16,
          120.16,
          120.16,
          120.16,
          120.03999999999999,
          120.03999999999999,
          120.03999999999999,
          120.03999999999999,
          120.03999999999999,
          120.03999999999999,
          119.92,
          119.92,
          119.92,
          119.92,
          119.92,
          119.8,
          119.8,
          119.8,
          119.8,
          119.8,
          119.8,
          119.8,
          119.68,
          119.68,
          119.68,
          119.68,
          119.68,
          119.68,
          119.56,
          119.56,
          119.56,
          119.56,
          119.56,
          119.56,
          119.56,
          119.44,
          119.44,
          119.44,
          119.44,
          119.44,
          119.44,
          119.44,
          119.44,
          119.32,
          119.32,
          119.32,
          119.32,
          119.32,
          119.32,
          119.32,
          119.32,
          119.2,
          119.2,
          119.2,
          119.2,
          119.2,
          119.2,
          119.2,
          119.2,
          119.2,
          119.08
         ],
         "yaxis": "y"
        },
        {
         "hovertemplate": "variable=host_profit<br>run=1<br>timestep=%{x}<br>value=%{y}<extra></extra>",
         "legendgroup": "host_profit",
         "line": {
          "color": "#00cc96",
          "dash": "solid"
         },
         "mode": "lines",
         "name": "host_profit",
         "orientation": "v",
         "showlegend": true,
         "type": "scatter",
         "x": [
          2,
          3,
          4,
          5,
          6,
          7,
          8,
          9,
          10,
          11,
          12,
          13,
          14,
          15,
          16,
          17,
          18,
          19,
          20,
          21,
          22,
          23,
          24,
          25,
          26,
          27,
          28,
          29,
          30,
          31,
          32,
          33,
          34,
          35,
          36,
          37,
          38,
          39,
          40,
          41,
          42,
          43,
          44,
          45,
          46,
          47,
          48,
          49,
          50,
          51,
          52,
          53,
          54,
          55,
          56,
          57,
          58,
          59,
          60,
          61,
          62,
          63,
          64,
          65,
          66,
          67,
          68,
          69,
          70,
          71,
          72,
          73,
          74,
          75,
          76,
          77,
          78,
          79,
          80,
          81,
          82,
          83,
          84,
          85,
          86,
          87,
          88,
          89,
          90,
          91,
          92,
          93,
          94,
          95,
          96,
          97,
          98,
          99,
          100,
          101,
          102,
          103,
          104,
          105,
          106,
          107,
          108,
          109,
          110,
          111,
          112,
          113,
          114,
          115,
          116,
          117,
          118,
          119,
          120,
          121,
          122,
          123,
          124,
          125,
          126,
          127,
          128,
          129,
          130,
          131,
          132,
          133,
          134,
          135,
          136,
          137,
          138,
          139,
          140,
          141,
          142,
          143,
          144,
          145,
          146,
          147,
          148,
          149,
          150,
          151,
          152,
          153,
          154,
          155,
          156,
          157,
          158,
          159,
          160,
          161,
          162,
          163,
          164,
          165,
          166,
          167,
          168,
          169,
          170,
          171,
          172,
          173,
          174,
          175,
          176,
          177,
          178,
          179,
          180,
          181,
          182,
          183,
          184,
          185,
          186,
          187,
          188,
          189,
          190,
          191,
          192,
          193,
          194,
          195,
          196,
          197,
          198,
          199,
          200,
          201,
          202,
          203,
          204,
          205,
          206,
          207,
          208,
          209,
          210,
          211,
          212,
          213,
          214,
          215,
          216,
          217,
          218,
          219,
          220,
          221,
          222,
          223,
          224,
          225,
          226,
          227,
          228,
          229,
          230,
          231,
          232,
          233,
          234,
          235,
          236,
          237,
          238,
          239,
          240,
          241,
          242,
          243,
          244,
          245,
          246,
          247,
          248,
          249,
          250,
          251,
          252,
          253,
          254,
          255,
          256,
          257,
          258,
          259,
          260,
          261,
          262,
          263,
          264,
          265,
          266,
          267,
          268,
          269,
          270,
          271,
          272,
          273,
          274,
          275,
          276,
          277,
          278,
          279,
          280,
          281,
          282,
          283,
          284,
          285,
          286,
          287,
          288,
          289,
          290,
          291,
          292,
          293,
          294,
          295,
          296,
          297,
          298,
          299,
          300,
          301,
          302,
          303,
          304,
          305,
          306,
          307,
          308,
          309,
          310,
          311,
          312,
          313,
          314,
          315,
          316,
          317,
          318,
          319,
          320,
          321,
          322,
          323,
          324,
          325,
          326,
          327,
          328,
          329,
          330,
          331,
          332,
          333,
          334,
          335,
          336,
          337,
          338,
          339,
          340,
          341,
          342,
          343,
          344,
          345,
          346,
          347,
          348,
          349,
          350,
          351,
          352,
          353,
          354,
          355,
          356,
          357,
          358,
          359,
          360,
          361,
          362,
          363,
          364,
          365
         ],
         "xaxis": "x",
         "y": [
          -130,
          -100,
          -81.4,
          -81.03999999999999,
          -81.03999999999999,
          -81.03999999999999,
          -81.03999999999999,
          -75.03999999999999,
          -74.91999999999999,
          -74.91999999999999,
          -74.91999999999999,
          -74.91999999999999,
          -74.91999999999999,
          -74.91999999999999,
          -74.91999999999999,
          -74.91999999999999,
          -68.91999999999999,
          -68.80000000000001,
          -68.80000000000001,
          -68.80000000000001,
          -68.80000000000001,
          -68.80000000000001,
          -68.80000000000001,
          -68.80000000000001,
          -62.80000000000001,
          -62.68000000000001,
          -62.68000000000001,
          -62.68000000000001,
          -62.68000000000001,
          -62.68000000000001,
          -62.68000000000001,
          -62.68000000000001,
          -56.68000000000001,
          -56.56,
          -56.56,
          -56.56,
          -56.56,
          -56.56,
          -56.56,
          -50.56,
          -50.44,
          -50.44,
          -50.44,
          -50.44,
          -50.44,
          -44.44,
          -44.31999999999999,
          -44.31999999999999,
          -44.31999999999999,
          -44.31999999999999,
          -44.31999999999999,
          -44.31999999999999,
          -38.31999999999999,
          -38.19999999999999,
          -38.19999999999999,
          -38.19999999999999,
          -38.19999999999999,
          -32.19999999999999,
          -32.08000000000001,
          -32.08000000000001,
          -32.08000000000001,
          -32.08000000000001,
          -32.08000000000001,
          -26.080000000000013,
          -25.959999999999994,
          -25.959999999999994,
          -25.959999999999994,
          -25.959999999999994,
          -19.959999999999994,
          -19.840000000000003,
          -19.840000000000003,
          -19.840000000000003,
          -19.840000000000003,
          -13.840000000000003,
          -13.719999999999999,
          -13.719999999999999,
          -13.719999999999999,
          -13.719999999999999,
          -7.719999999999999,
          -7.599999999999994,
          -7.599999999999994,
          -7.599999999999994,
          -7.599999999999994,
          -1.5999999999999943,
          -1.480000000000004,
          -1.480000000000004,
          -1.480000000000004,
          -1.480000000000004,
          4.519999999999996,
          4.640000000000001,
          4.640000000000001,
          4.640000000000001,
          10.64,
          10.760000000000005,
          10.760000000000005,
          10.760000000000005,
          16.760000000000005,
          16.879999999999995,
          16.879999999999995,
          16.879999999999995,
          22.879999999999995,
          23,
          23,
          23,
          23,
          29,
          29.120000000000005,
          29.120000000000005,
          35.120000000000005,
          35.239999999999995,
          35.239999999999995,
          35.239999999999995,
          41.239999999999995,
          41.36,
          41.36,
          41.36,
          47.36,
          47.480000000000004,
          47.480000000000004,
          47.480000000000004,
          53.480000000000004,
          53.599999999999994,
          53.599999999999994,
          59.599999999999994,
          59.72,
          59.72,
          59.72,
          65.72,
          65.84,
          65.84,
          65.84,
          71.84,
          71.96,
          71.96,
          77.96,
          78.08,
          78.08,
          84.08,
          84.2,
          84.2,
          84.2,
          90.2,
          90.32,
          90.32,
          96.32,
          96.44,
          96.44,
          102.44,
          102.56,
          102.56,
          102.56,
          108.56,
          108.68,
          108.68,
          114.68,
          114.8,
          114.8,
          120.8,
          120.92,
          120.92,
          126.92,
          127.04,
          127.04,
          133.04000000000002,
          133.16,
          133.16,
          139.16,
          139.28,
          139.28,
          139.28,
          145.28,
          145.4,
          145.4,
          151.4,
          151.51999999999998,
          151.51999999999998,
          157.51999999999998,
          157.64,
          157.64,
          163.64,
          163.76,
          163.76,
          169.76,
          169.88,
          169.88,
          175.88,
          176,
          176,
          182,
          182.12,
          182.12,
          188.12,
          188.24,
          188.24,
          194.24,
          194.36,
          194.36,
          200.36,
          200.48000000000002,
          200.48000000000002,
          206.48000000000002,
          206.6,
          206.6,
          206.6,
          212.6,
          212.72,
          212.72,
          218.72,
          218.84,
          218.84,
          224.84,
          224.95999999999998,
          224.95999999999998,
          230.95999999999998,
          231.07999999999998,
          231.07999999999998,
          237.07999999999998,
          237.2,
          237.2,
          243.2,
          243.32,
          243.32,
          243.32,
          249.32,
          249.44,
          249.44,
          255.44,
          255.56,
          255.56,
          261.56,
          261.68,
          261.68,
          261.68,
          267.68,
          267.8,
          267.8,
          273.8,
          273.92,
          273.92,
          279.92,
          280.04,
          280.04,
          280.04,
          286.04,
          286.15999999999997,
          286.15999999999997,
          286.15999999999997,
          292.15999999999997,
          292.28,
          292.28,
          298.28,
          298.4,
          298.4,
          298.4,
          304.4,
          304.52,
          304.52,
          304.52,
          310.52,
          310.64,
          310.64,
          310.64,
          316.64,
          316.76,
          316.76,
          322.76,
          322.88,
          322.88,
          322.88,
          322.88,
          328.88,
          329,
          329,
          329,
          335,
          335.12,
          335.12,
          335.12,
          341.12,
          341.24,
          341.24,
          341.24,
          347.24,
          347.36,
          347.36,
          347.36,
          347.36,
          353.36,
          353.48,
          353.48,
          353.48,
          353.48,
          359.48,
          359.6,
          359.6,
          359.6,
          359.6,
          365.6,
          365.72,
          365.72,
          365.72,
          365.72,
          371.72,
          371.84000000000003,
          371.84000000000003,
          371.84000000000003,
          371.84000000000003,
          377.84000000000003,
          377.96000000000004,
          377.96000000000004,
          377.96000000000004,
          377.96000000000004,
          377.96000000000004,
          383.96000000000004,
          384.08,
          384.08,
          384.08,
          384.08,
          390.08,
          390.2,
          390.2,
          390.2,
          390.2,
          390.2,
          390.2,
          396.2,
          396.32,
          396.32,
          396.32,
          396.32,
          396.32,
          402.32,
          402.44,
          402.44,
          402.44,
          402.44,
          402.44,
          402.44,
          408.44,
          408.56,
          408.56,
          408.56,
          408.56,
          408.56,
          408.56,
          408.56,
          414.56,
          414.68,
          414.68,
          414.68,
          414.68,
          414.68,
          414.68,
          414.68,
          420.68,
          420.8,
          420.8,
          420.8,
          420.8,
          420.8,
          420.8,
          420.8,
          420.8,
          426.8
         ],
         "yaxis": "y"
        }
       ],
       "layout": {
        "height": 500,
        "legend": {
         "title": {
          "text": "variable"
         },
         "tracegroupgap": 0
        },
        "margin": {
         "t": 60
        },
        "template": {
         "data": {
          "bar": [
           {
            "error_x": {
             "color": "#2a3f5f"
            },
            "error_y": {
             "color": "#2a3f5f"
            },
            "marker": {
             "line": {
              "color": "#E5ECF6",
              "width": 0.5
             }
            },
            "type": "bar"
           }
          ],
          "barpolar": [
           {
            "marker": {
             "line": {
              "color": "#E5ECF6",
              "width": 0.5
             }
            },
            "type": "barpolar"
           }
          ],
          "carpet": [
           {
            "aaxis": {
             "endlinecolor": "#2a3f5f",
             "gridcolor": "white",
             "linecolor": "white",
             "minorgridcolor": "white",
             "startlinecolor": "#2a3f5f"
            },
            "baxis": {
             "endlinecolor": "#2a3f5f",
             "gridcolor": "white",
             "linecolor": "white",
             "minorgridcolor": "white",
             "startlinecolor": "#2a3f5f"
            },
            "type": "carpet"
           }
          ],
          "choropleth": [
           {
            "colorbar": {
             "outlinewidth": 0,
             "ticks": ""
            },
            "type": "choropleth"
           }
          ],
          "contour": [
           {
            "colorbar": {
             "outlinewidth": 0,
             "ticks": ""
            },
            "colorscale": [
             [
              0,
              "#0d0887"
             ],
             [
              0.1111111111111111,
              "#46039f"
             ],
             [
              0.2222222222222222,
              "#7201a8"
             ],
             [
              0.3333333333333333,
              "#9c179e"
             ],
             [
              0.4444444444444444,
              "#bd3786"
             ],
             [
              0.5555555555555556,
              "#d8576b"
             ],
             [
              0.6666666666666666,
              "#ed7953"
             ],
             [
              0.7777777777777778,
              "#fb9f3a"
             ],
             [
              0.8888888888888888,
              "#fdca26"
             ],
             [
              1,
              "#f0f921"
             ]
            ],
            "type": "contour"
           }
          ],
          "contourcarpet": [
           {
            "colorbar": {
             "outlinewidth": 0,
             "ticks": ""
            },
            "type": "contourcarpet"
           }
          ],
          "heatmap": [
           {
            "colorbar": {
             "outlinewidth": 0,
             "ticks": ""
            },
            "colorscale": [
             [
              0,
              "#0d0887"
             ],
             [
              0.1111111111111111,
              "#46039f"
             ],
             [
              0.2222222222222222,
              "#7201a8"
             ],
             [
              0.3333333333333333,
              "#9c179e"
             ],
             [
              0.4444444444444444,
              "#bd3786"
             ],
             [
              0.5555555555555556,
              "#d8576b"
             ],
             [
              0.6666666666666666,
              "#ed7953"
             ],
             [
              0.7777777777777778,
              "#fb9f3a"
             ],
             [
              0.8888888888888888,
              "#fdca26"
             ],
             [
              1,
              "#f0f921"
             ]
            ],
            "type": "heatmap"
           }
          ],
          "heatmapgl": [
           {
            "colorbar": {
             "outlinewidth": 0,
             "ticks": ""
            },
            "colorscale": [
             [
              0,
              "#0d0887"
             ],
             [
              0.1111111111111111,
              "#46039f"
             ],
             [
              0.2222222222222222,
              "#7201a8"
             ],
             [
              0.3333333333333333,
              "#9c179e"
             ],
             [
              0.4444444444444444,
              "#bd3786"
             ],
             [
              0.5555555555555556,
              "#d8576b"
             ],
             [
              0.6666666666666666,
              "#ed7953"
             ],
             [
              0.7777777777777778,
              "#fb9f3a"
             ],
             [
              0.8888888888888888,
              "#fdca26"
             ],
             [
              1,
              "#f0f921"
             ]
            ],
            "type": "heatmapgl"
           }
          ],
          "histogram": [
           {
            "marker": {
             "colorbar": {
              "outlinewidth": 0,
              "ticks": ""
             }
            },
            "type": "histogram"
           }
          ],
          "histogram2d": [
           {
            "colorbar": {
             "outlinewidth": 0,
             "ticks": ""
            },
            "colorscale": [
             [
              0,
              "#0d0887"
             ],
             [
              0.1111111111111111,
              "#46039f"
             ],
             [
              0.2222222222222222,
              "#7201a8"
             ],
             [
              0.3333333333333333,
              "#9c179e"
             ],
             [
              0.4444444444444444,
              "#bd3786"
             ],
             [
              0.5555555555555556,
              "#d8576b"
             ],
             [
              0.6666666666666666,
              "#ed7953"
             ],
             [
              0.7777777777777778,
              "#fb9f3a"
             ],
             [
              0.8888888888888888,
              "#fdca26"
             ],
             [
              1,
              "#f0f921"
             ]
            ],
            "type": "histogram2d"
           }
          ],
          "histogram2dcontour": [
           {
            "colorbar": {
             "outlinewidth": 0,
             "ticks": ""
            },
            "colorscale": [
             [
              0,
              "#0d0887"
             ],
             [
              0.1111111111111111,
              "#46039f"
             ],
             [
              0.2222222222222222,
              "#7201a8"
             ],
             [
              0.3333333333333333,
              "#9c179e"
             ],
             [
              0.4444444444444444,
              "#bd3786"
             ],
             [
              0.5555555555555556,
              "#d8576b"
             ],
             [
              0.6666666666666666,
              "#ed7953"
             ],
             [
              0.7777777777777778,
              "#fb9f3a"
             ],
             [
              0.8888888888888888,
              "#fdca26"
             ],
             [
              1,
              "#f0f921"
             ]
            ],
            "type": "histogram2dcontour"
           }
          ],
          "mesh3d": [
           {
            "colorbar": {
             "outlinewidth": 0,
             "ticks": ""
            },
            "type": "mesh3d"
           }
          ],
          "parcoords": [
           {
            "line": {
             "colorbar": {
              "outlinewidth": 0,
              "ticks": ""
             }
            },
            "type": "parcoords"
           }
          ],
          "pie": [
           {
            "automargin": true,
            "type": "pie"
           }
          ],
          "scatter": [
           {
            "marker": {
             "colorbar": {
              "outlinewidth": 0,
              "ticks": ""
             }
            },
            "type": "scatter"
           }
          ],
          "scatter3d": [
           {
            "line": {
             "colorbar": {
              "outlinewidth": 0,
              "ticks": ""
             }
            },
            "marker": {
             "colorbar": {
              "outlinewidth": 0,
              "ticks": ""
             }
            },
            "type": "scatter3d"
           }
          ],
          "scattercarpet": [
           {
            "marker": {
             "colorbar": {
              "outlinewidth": 0,
              "ticks": ""
             }
            },
            "type": "scattercarpet"
           }
          ],
          "scattergeo": [
           {
            "marker": {
             "colorbar": {
              "outlinewidth": 0,
              "ticks": ""
             }
            },
            "type": "scattergeo"
           }
          ],
          "scattergl": [
           {
            "marker": {
             "colorbar": {
              "outlinewidth": 0,
              "ticks": ""
             }
            },
            "type": "scattergl"
           }
          ],
          "scattermapbox": [
           {
            "marker": {
             "colorbar": {
              "outlinewidth": 0,
              "ticks": ""
             }
            },
            "type": "scattermapbox"
           }
          ],
          "scatterpolar": [
           {
            "marker": {
             "colorbar": {
              "outlinewidth": 0,
              "ticks": ""
             }
            },
            "type": "scatterpolar"
           }
          ],
          "scatterpolargl": [
           {
            "marker": {
             "colorbar": {
              "outlinewidth": 0,
              "ticks": ""
             }
            },
            "type": "scatterpolargl"
           }
          ],
          "scatterternary": [
           {
            "marker": {
             "colorbar": {
              "outlinewidth": 0,
              "ticks": ""
             }
            },
            "type": "scatterternary"
           }
          ],
          "surface": [
           {
            "colorbar": {
             "outlinewidth": 0,
             "ticks": ""
            },
            "colorscale": [
             [
              0,
              "#0d0887"
             ],
             [
              0.1111111111111111,
              "#46039f"
             ],
             [
              0.2222222222222222,
              "#7201a8"
             ],
             [
              0.3333333333333333,
              "#9c179e"
             ],
             [
              0.4444444444444444,
              "#bd3786"
             ],
             [
              0.5555555555555556,
              "#d8576b"
             ],
             [
              0.6666666666666666,
              "#ed7953"
             ],
             [
              0.7777777777777778,
              "#fb9f3a"
             ],
             [
              0.8888888888888888,
              "#fdca26"
             ],
             [
              1,
              "#f0f921"
             ]
            ],
            "type": "surface"
           }
          ],
          "table": [
           {
            "cells": {
             "fill": {
              "color": "#EBF0F8"
             },
             "line": {
              "color": "white"
             }
            },
            "header": {
             "fill": {
              "color": "#C8D4E3"
             },
             "line": {
              "color": "white"
             }
            },
            "type": "table"
           }
          ]
         },
         "layout": {
          "annotationdefaults": {
           "arrowcolor": "#2a3f5f",
           "arrowhead": 0,
           "arrowwidth": 1
          },
          "autotypenumbers": "strict",
          "coloraxis": {
           "colorbar": {
            "outlinewidth": 0,
            "ticks": ""
           }
          },
          "colorscale": {
           "diverging": [
            [
             0,
             "#8e0152"
            ],
            [
             0.1,
             "#c51b7d"
            ],
            [
             0.2,
             "#de77ae"
            ],
            [
             0.3,
             "#f1b6da"
            ],
            [
             0.4,
             "#fde0ef"
            ],
            [
             0.5,
             "#f7f7f7"
            ],
            [
             0.6,
             "#e6f5d0"
            ],
            [
             0.7,
             "#b8e186"
            ],
            [
             0.8,
             "#7fbc41"
            ],
            [
             0.9,
             "#4d9221"
            ],
            [
             1,
             "#276419"
            ]
           ],
           "sequential": [
            [
             0,
             "#0d0887"
            ],
            [
             0.1111111111111111,
             "#46039f"
            ],
            [
             0.2222222222222222,
             "#7201a8"
            ],
            [
             0.3333333333333333,
             "#9c179e"
            ],
            [
             0.4444444444444444,
             "#bd3786"
            ],
            [
             0.5555555555555556,
             "#d8576b"
            ],
            [
             0.6666666666666666,
             "#ed7953"
            ],
            [
             0.7777777777777778,
             "#fb9f3a"
            ],
            [
             0.8888888888888888,
             "#fdca26"
            ],
            [
             1,
             "#f0f921"
            ]
           ],
           "sequentialminus": [
            [
             0,
             "#0d0887"
            ],
            [
             0.1111111111111111,
             "#46039f"
            ],
            [
             0.2222222222222222,
             "#7201a8"
            ],
            [
             0.3333333333333333,
             "#9c179e"
            ],
            [
             0.4444444444444444,
             "#bd3786"
            ],
            [
             0.5555555555555556,
             "#d8576b"
            ],
            [
             0.6666666666666666,
             "#ed7953"
            ],
            [
             0.7777777777777778,
             "#fb9f3a"
            ],
            [
             0.8888888888888888,
             "#fdca26"
            ],
            [
             1,
             "#f0f921"
            ]
           ]
          },
          "colorway": [
           "#636efa",
           "#EF553B",
           "#00cc96",
           "#ab63fa",
           "#FFA15A",
           "#19d3f3",
           "#FF6692",
           "#B6E880",
           "#FF97FF",
           "#FECB52"
          ],
          "font": {
           "color": "#2a3f5f"
          },
          "geo": {
           "bgcolor": "white",
           "lakecolor": "white",
           "landcolor": "#E5ECF6",
           "showlakes": true,
           "showland": true,
           "subunitcolor": "white"
          },
          "hoverlabel": {
           "align": "left"
          },
          "hovermode": "closest",
          "mapbox": {
           "style": "light"
          },
          "paper_bgcolor": "white",
          "plot_bgcolor": "#E5ECF6",
          "polar": {
           "angularaxis": {
            "gridcolor": "white",
            "linecolor": "white",
            "ticks": ""
           },
           "bgcolor": "#E5ECF6",
           "radialaxis": {
            "gridcolor": "white",
            "linecolor": "white",
            "ticks": ""
           }
          },
          "scene": {
           "xaxis": {
            "backgroundcolor": "#E5ECF6",
            "gridcolor": "white",
            "gridwidth": 2,
            "linecolor": "white",
            "showbackground": true,
            "ticks": "",
            "zerolinecolor": "white"
           },
           "yaxis": {
            "backgroundcolor": "#E5ECF6",
            "gridcolor": "white",
            "gridwidth": 2,
            "linecolor": "white",
            "showbackground": true,
            "ticks": "",
            "zerolinecolor": "white"
           },
           "zaxis": {
            "backgroundcolor": "#E5ECF6",
            "gridcolor": "white",
            "gridwidth": 2,
            "linecolor": "white",
            "showbackground": true,
            "ticks": "",
            "zerolinecolor": "white"
           }
          },
          "shapedefaults": {
           "line": {
            "color": "#2a3f5f"
           }
          },
          "ternary": {
           "aaxis": {
            "gridcolor": "white",
            "linecolor": "white",
            "ticks": ""
           },
           "baxis": {
            "gridcolor": "white",
            "linecolor": "white",
            "ticks": ""
           },
           "bgcolor": "#E5ECF6",
           "caxis": {
            "gridcolor": "white",
            "linecolor": "white",
            "ticks": ""
           }
          },
          "title": {
           "x": 0.05
          },
          "xaxis": {
           "automargin": true,
           "gridcolor": "white",
           "linecolor": "white",
           "ticks": "",
           "title": {
            "standoff": 15
           },
           "zerolinecolor": "white",
           "zerolinewidth": 2
          },
          "yaxis": {
           "automargin": true,
           "gridcolor": "white",
           "linecolor": "white",
           "ticks": "",
           "title": {
            "standoff": 15
           },
           "zerolinecolor": "white",
           "zerolinewidth": 2
          }
         }
        },
        "xaxis": {
         "anchor": "y",
         "domain": [
          0,
          1
         ],
         "title": {
          "text": "timestep"
         }
        },
        "yaxis": {
         "anchor": "x",
         "domain": [
          0,
          1
         ],
         "title": {
          "text": "value"
         }
        }
       }
      },
      "text/html": [
       "<div>                            <div id=\"8cd8e211-4991-46f6-bc01-987f7c672515\" class=\"plotly-graph-div\" style=\"height:500px; width:100%;\"></div>            <script type=\"text/javascript\">                require([\"plotly\"], function(Plotly) {                    window.PLOTLYENV=window.PLOTLYENV || {};                                    if (document.getElementById(\"8cd8e211-4991-46f6-bc01-987f7c672515\")) {                    Plotly.newPlot(                        \"8cd8e211-4991-46f6-bc01-987f7c672515\",                        [{\"hovertemplate\": \"variable=host_revenue<br>run=1<br>timestep=%{x}<br>value=%{y}<extra></extra>\", \"legendgroup\": \"host_revenue\", \"line\": {\"color\": \"#636efa\", \"dash\": \"solid\"}, \"mode\": \"lines\", \"name\": \"host_revenue\", \"orientation\": \"v\", \"showlegend\": true, \"type\": \"scatter\", \"x\": [2, 3, 4, 5, 6, 7, 8, 9, 10, 11, 12, 13, 14, 15, 16, 17, 18, 19, 20, 21, 22, 23, 24, 25, 26, 27, 28, 29, 30, 31, 32, 33, 34, 35, 36, 37, 38, 39, 40, 41, 42, 43, 44, 45, 46, 47, 48, 49, 50, 51, 52, 53, 54, 55, 56, 57, 58, 59, 60, 61, 62, 63, 64, 65, 66, 67, 68, 69, 70, 71, 72, 73, 74, 75, 76, 77, 78, 79, 80, 81, 82, 83, 84, 85, 86, 87, 88, 89, 90, 91, 92, 93, 94, 95, 96, 97, 98, 99, 100, 101, 102, 103, 104, 105, 106, 107, 108, 109, 110, 111, 112, 113, 114, 115, 116, 117, 118, 119, 120, 121, 122, 123, 124, 125, 126, 127, 128, 129, 130, 131, 132, 133, 134, 135, 136, 137, 138, 139, 140, 141, 142, 143, 144, 145, 146, 147, 148, 149, 150, 151, 152, 153, 154, 155, 156, 157, 158, 159, 160, 161, 162, 163, 164, 165, 166, 167, 168, 169, 170, 171, 172, 173, 174, 175, 176, 177, 178, 179, 180, 181, 182, 183, 184, 185, 186, 187, 188, 189, 190, 191, 192, 193, 194, 195, 196, 197, 198, 199, 200, 201, 202, 203, 204, 205, 206, 207, 208, 209, 210, 211, 212, 213, 214, 215, 216, 217, 218, 219, 220, 221, 222, 223, 224, 225, 226, 227, 228, 229, 230, 231, 232, 233, 234, 235, 236, 237, 238, 239, 240, 241, 242, 243, 244, 245, 246, 247, 248, 249, 250, 251, 252, 253, 254, 255, 256, 257, 258, 259, 260, 261, 262, 263, 264, 265, 266, 267, 268, 269, 270, 271, 272, 273, 274, 275, 276, 277, 278, 279, 280, 281, 282, 283, 284, 285, 286, 287, 288, 289, 290, 291, 292, 293, 294, 295, 296, 297, 298, 299, 300, 301, 302, 303, 304, 305, 306, 307, 308, 309, 310, 311, 312, 313, 314, 315, 316, 317, 318, 319, 320, 321, 322, 323, 324, 325, 326, 327, 328, 329, 330, 331, 332, 333, 334, 335, 336, 337, 338, 339, 340, 341, 342, 343, 344, 345, 346, 347, 348, 349, 350, 351, 352, 353, 354, 355, 356, 357, 358, 359, 360, 361, 362, 363, 364, 365], \"xaxis\": \"x\", \"y\": [30.0, 48.0, 48.0, 48.0, 48.0, 48.0, 54.0, 54.0, 54.0, 54.0, 54.0, 54.0, 54.0, 54.0, 54.0, 60.0, 60.0, 60.0, 60.0, 60.0, 60.0, 60.0, 60.0, 66.0, 66.0, 66.0, 66.0, 66.0, 66.0, 66.0, 66.0, 72.0, 72.0, 72.0, 72.0, 72.0, 72.0, 72.0, 78.0, 78.0, 78.0, 78.0, 78.0, 78.0, 84.0, 84.0, 84.0, 84.0, 84.0, 84.0, 84.0, 90.0, 90.0, 90.0, 90.0, 90.0, 96.0, 96.0, 96.0, 96.0, 96.0, 96.0, 102.0, 102.0, 102.0, 102.0, 102.0, 108.0, 108.0, 108.0, 108.0, 108.0, 114.0, 114.0, 114.0, 114.0, 114.0, 120.0, 120.0, 120.0, 120.0, 120.0, 126.0, 126.0, 126.0, 126.0, 126.0, 132.0, 132.0, 132.0, 132.0, 138.0, 138.0, 138.0, 138.0, 144.0, 144.0, 144.0, 144.0, 150.0, 150.0, 150.0, 150.0, 150.0, 156.0, 156.0, 156.0, 162.0, 162.0, 162.0, 162.0, 168.0, 168.0, 168.0, 168.0, 174.0, 174.0, 174.0, 174.0, 180.0, 180.0, 180.0, 186.0, 186.0, 186.0, 186.0, 192.0, 192.0, 192.0, 192.0, 198.0, 198.0, 198.0, 204.0, 204.0, 204.0, 210.0, 210.0, 210.0, 210.0, 216.0, 216.0, 216.0, 222.0, 222.0, 222.0, 228.0, 228.0, 228.0, 228.0, 234.0, 234.0, 234.0, 240.0, 240.0, 240.0, 246.0, 246.0, 246.0, 252.0, 252.0, 252.0, 258.0, 258.0, 258.0, 264.0, 264.0, 264.0, 264.0, 270.0, 270.0, 270.0, 276.0, 276.0, 276.0, 282.0, 282.0, 282.0, 288.0, 288.0, 288.0, 294.0, 294.0, 294.0, 300.0, 300.0, 300.0, 306.0, 306.0, 306.0, 312.0, 312.0, 312.0, 318.0, 318.0, 318.0, 324.0, 324.0, 324.0, 330.0, 330.0, 330.0, 330.0, 336.0, 336.0, 336.0, 342.0, 342.0, 342.0, 348.0, 348.0, 348.0, 354.0, 354.0, 354.0, 360.0, 360.0, 360.0, 366.0, 366.0, 366.0, 366.0, 372.0, 372.0, 372.0, 378.0, 378.0, 378.0, 384.0, 384.0, 384.0, 384.0, 390.0, 390.0, 390.0, 396.0, 396.0, 396.0, 402.0, 402.0, 402.0, 402.0, 408.0, 408.0, 408.0, 408.0, 414.0, 414.0, 414.0, 420.0, 420.0, 420.0, 420.0, 426.0, 426.0, 426.0, 426.0, 432.0, 432.0, 432.0, 432.0, 438.0, 438.0, 438.0, 444.0, 444.0, 444.0, 444.0, 444.0, 450.0, 450.0, 450.0, 450.0, 456.0, 456.0, 456.0, 456.0, 462.0, 462.0, 462.0, 462.0, 468.0, 468.0, 468.0, 468.0, 468.0, 474.0, 474.0, 474.0, 474.0, 474.0, 480.0, 480.0, 480.0, 480.0, 480.0, 486.0, 486.0, 486.0, 486.0, 486.0, 492.0, 492.0, 492.0, 492.0, 492.0, 498.0, 498.0, 498.0, 498.0, 498.0, 498.0, 504.0, 504.0, 504.0, 504.0, 504.0, 510.0, 510.0, 510.0, 510.0, 510.0, 510.0, 510.0, 516.0, 516.0, 516.0, 516.0, 516.0, 516.0, 522.0, 522.0, 522.0, 522.0, 522.0, 522.0, 522.0, 528.0, 528.0, 528.0, 528.0, 528.0, 528.0, 528.0, 528.0, 534.0, 534.0, 534.0, 534.0, 534.0, 534.0, 534.0, 534.0, 540.0, 540.0, 540.0, 540.0, 540.0, 540.0, 540.0, 540.0, 540.0, 546.0, 546.0], \"yaxis\": \"y\"}, {\"hovertemplate\": \"variable=host_expenses<br>run=1<br>timestep=%{x}<br>value=%{y}<extra></extra>\", \"legendgroup\": \"host_expenses\", \"line\": {\"color\": \"#EF553B\", \"dash\": \"solid\"}, \"mode\": \"lines\", \"name\": \"host_expenses\", \"orientation\": \"v\", \"showlegend\": true, \"type\": \"scatter\", \"x\": [2, 3, 4, 5, 6, 7, 8, 9, 10, 11, 12, 13, 14, 15, 16, 17, 18, 19, 20, 21, 22, 23, 24, 25, 26, 27, 28, 29, 30, 31, 32, 33, 34, 35, 36, 37, 38, 39, 40, 41, 42, 43, 44, 45, 46, 47, 48, 49, 50, 51, 52, 53, 54, 55, 56, 57, 58, 59, 60, 61, 62, 63, 64, 65, 66, 67, 68, 69, 70, 71, 72, 73, 74, 75, 76, 77, 78, 79, 80, 81, 82, 83, 84, 85, 86, 87, 88, 89, 90, 91, 92, 93, 94, 95, 96, 97, 98, 99, 100, 101, 102, 103, 104, 105, 106, 107, 108, 109, 110, 111, 112, 113, 114, 115, 116, 117, 118, 119, 120, 121, 122, 123, 124, 125, 126, 127, 128, 129, 130, 131, 132, 133, 134, 135, 136, 137, 138, 139, 140, 141, 142, 143, 144, 145, 146, 147, 148, 149, 150, 151, 152, 153, 154, 155, 156, 157, 158, 159, 160, 161, 162, 163, 164, 165, 166, 167, 168, 169, 170, 171, 172, 173, 174, 175, 176, 177, 178, 179, 180, 181, 182, 183, 184, 185, 186, 187, 188, 189, 190, 191, 192, 193, 194, 195, 196, 197, 198, 199, 200, 201, 202, 203, 204, 205, 206, 207, 208, 209, 210, 211, 212, 213, 214, 215, 216, 217, 218, 219, 220, 221, 222, 223, 224, 225, 226, 227, 228, 229, 230, 231, 232, 233, 234, 235, 236, 237, 238, 239, 240, 241, 242, 243, 244, 245, 246, 247, 248, 249, 250, 251, 252, 253, 254, 255, 256, 257, 258, 259, 260, 261, 262, 263, 264, 265, 266, 267, 268, 269, 270, 271, 272, 273, 274, 275, 276, 277, 278, 279, 280, 281, 282, 283, 284, 285, 286, 287, 288, 289, 290, 291, 292, 293, 294, 295, 296, 297, 298, 299, 300, 301, 302, 303, 304, 305, 306, 307, 308, 309, 310, 311, 312, 313, 314, 315, 316, 317, 318, 319, 320, 321, 322, 323, 324, 325, 326, 327, 328, 329, 330, 331, 332, 333, 334, 335, 336, 337, 338, 339, 340, 341, 342, 343, 344, 345, 346, 347, 348, 349, 350, 351, 352, 353, 354, 355, 356, 357, 358, 359, 360, 361, 362, 363, 364, 365], \"xaxis\": \"x\", \"y\": [130.0, 129.4, 129.04, 129.04, 129.04, 129.04, 129.04, 128.92, 128.92, 128.92, 128.92, 128.92, 128.92, 128.92, 128.92, 128.92, 128.8, 128.8, 128.8, 128.8, 128.8, 128.8, 128.8, 128.8, 128.68, 128.68, 128.68, 128.68, 128.68, 128.68, 128.68, 128.68, 128.56, 128.56, 128.56, 128.56, 128.56, 128.56, 128.56, 128.44, 128.44, 128.44, 128.44, 128.44, 128.44, 128.32, 128.32, 128.32, 128.32, 128.32, 128.32, 128.32, 128.2, 128.2, 128.2, 128.2, 128.2, 128.08, 128.08, 128.08, 128.08, 128.08, 128.08, 127.96, 127.96, 127.96, 127.96, 127.96, 127.84, 127.84, 127.84, 127.84, 127.84, 127.72, 127.72, 127.72, 127.72, 127.72, 127.6, 127.6, 127.6, 127.6, 127.6, 127.48, 127.48, 127.48, 127.48, 127.48, 127.36, 127.36, 127.36, 127.36, 127.24, 127.24, 127.24, 127.24, 127.12, 127.12, 127.12, 127.12, 127.0, 127.0, 127.0, 127.0, 127.0, 126.88, 126.88, 126.88, 126.76, 126.76, 126.76, 126.76, 126.64, 126.64, 126.64, 126.64, 126.52, 126.52, 126.52, 126.52, 126.4, 126.4, 126.4, 126.28, 126.28, 126.28, 126.28, 126.16, 126.16, 126.16, 126.16, 126.04, 126.04, 126.04, 125.92, 125.92, 125.92, 125.8, 125.8, 125.8, 125.8, 125.68, 125.68, 125.68, 125.56, 125.56, 125.56, 125.44, 125.44, 125.44, 125.44, 125.32, 125.32, 125.32, 125.2, 125.2, 125.2, 125.08, 125.08, 125.08, 124.96, 124.96, 124.96, 124.84, 124.84, 124.84, 124.72, 124.72, 124.72, 124.72, 124.6, 124.6, 124.6, 124.48, 124.48, 124.48, 124.36, 124.36, 124.36, 124.24, 124.24, 124.24, 124.12, 124.12, 124.12, 124.0, 124.0, 124.0, 123.88, 123.88, 123.88, 123.76, 123.76, 123.76, 123.64, 123.64, 123.64, 123.52, 123.52, 123.52, 123.4, 123.4, 123.4, 123.4, 123.28, 123.28, 123.28, 123.16, 123.16, 123.16, 123.04, 123.04, 123.04, 122.92, 122.92, 122.92, 122.8, 122.8, 122.8, 122.68, 122.68, 122.68, 122.68, 122.56, 122.56, 122.56, 122.44, 122.44, 122.44, 122.32, 122.32, 122.32, 122.32, 122.2, 122.2, 122.2, 122.08, 122.08, 122.08, 121.96, 121.96, 121.96, 121.96, 121.84, 121.84, 121.84, 121.84, 121.72, 121.72, 121.72, 121.6, 121.6, 121.6, 121.6, 121.48, 121.48, 121.48, 121.48, 121.36, 121.36, 121.36, 121.36, 121.24, 121.24, 121.24, 121.12, 121.12, 121.12, 121.12, 121.12, 121.0, 121.0, 121.0, 121.0, 120.88, 120.88, 120.88, 120.88, 120.76, 120.76, 120.76, 120.76, 120.64, 120.64, 120.64, 120.64, 120.64, 120.52, 120.52, 120.52, 120.52, 120.52, 120.4, 120.4, 120.4, 120.4, 120.4, 120.28, 120.28, 120.28, 120.28, 120.28, 120.16, 120.16, 120.16, 120.16, 120.16, 120.03999999999999, 120.03999999999999, 120.03999999999999, 120.03999999999999, 120.03999999999999, 120.03999999999999, 119.92, 119.92, 119.92, 119.92, 119.92, 119.8, 119.8, 119.8, 119.8, 119.8, 119.8, 119.8, 119.68, 119.68, 119.68, 119.68, 119.68, 119.68, 119.56, 119.56, 119.56, 119.56, 119.56, 119.56, 119.56, 119.44, 119.44, 119.44, 119.44, 119.44, 119.44, 119.44, 119.44, 119.32, 119.32, 119.32, 119.32, 119.32, 119.32, 119.32, 119.32, 119.2, 119.2, 119.2, 119.2, 119.2, 119.2, 119.2, 119.2, 119.2, 119.08], \"yaxis\": \"y\"}, {\"hovertemplate\": \"variable=host_profit<br>run=1<br>timestep=%{x}<br>value=%{y}<extra></extra>\", \"legendgroup\": \"host_profit\", \"line\": {\"color\": \"#00cc96\", \"dash\": \"solid\"}, \"mode\": \"lines\", \"name\": \"host_profit\", \"orientation\": \"v\", \"showlegend\": true, \"type\": \"scatter\", \"x\": [2, 3, 4, 5, 6, 7, 8, 9, 10, 11, 12, 13, 14, 15, 16, 17, 18, 19, 20, 21, 22, 23, 24, 25, 26, 27, 28, 29, 30, 31, 32, 33, 34, 35, 36, 37, 38, 39, 40, 41, 42, 43, 44, 45, 46, 47, 48, 49, 50, 51, 52, 53, 54, 55, 56, 57, 58, 59, 60, 61, 62, 63, 64, 65, 66, 67, 68, 69, 70, 71, 72, 73, 74, 75, 76, 77, 78, 79, 80, 81, 82, 83, 84, 85, 86, 87, 88, 89, 90, 91, 92, 93, 94, 95, 96, 97, 98, 99, 100, 101, 102, 103, 104, 105, 106, 107, 108, 109, 110, 111, 112, 113, 114, 115, 116, 117, 118, 119, 120, 121, 122, 123, 124, 125, 126, 127, 128, 129, 130, 131, 132, 133, 134, 135, 136, 137, 138, 139, 140, 141, 142, 143, 144, 145, 146, 147, 148, 149, 150, 151, 152, 153, 154, 155, 156, 157, 158, 159, 160, 161, 162, 163, 164, 165, 166, 167, 168, 169, 170, 171, 172, 173, 174, 175, 176, 177, 178, 179, 180, 181, 182, 183, 184, 185, 186, 187, 188, 189, 190, 191, 192, 193, 194, 195, 196, 197, 198, 199, 200, 201, 202, 203, 204, 205, 206, 207, 208, 209, 210, 211, 212, 213, 214, 215, 216, 217, 218, 219, 220, 221, 222, 223, 224, 225, 226, 227, 228, 229, 230, 231, 232, 233, 234, 235, 236, 237, 238, 239, 240, 241, 242, 243, 244, 245, 246, 247, 248, 249, 250, 251, 252, 253, 254, 255, 256, 257, 258, 259, 260, 261, 262, 263, 264, 265, 266, 267, 268, 269, 270, 271, 272, 273, 274, 275, 276, 277, 278, 279, 280, 281, 282, 283, 284, 285, 286, 287, 288, 289, 290, 291, 292, 293, 294, 295, 296, 297, 298, 299, 300, 301, 302, 303, 304, 305, 306, 307, 308, 309, 310, 311, 312, 313, 314, 315, 316, 317, 318, 319, 320, 321, 322, 323, 324, 325, 326, 327, 328, 329, 330, 331, 332, 333, 334, 335, 336, 337, 338, 339, 340, 341, 342, 343, 344, 345, 346, 347, 348, 349, 350, 351, 352, 353, 354, 355, 356, 357, 358, 359, 360, 361, 362, 363, 364, 365], \"xaxis\": \"x\", \"y\": [-130.0, -100.0, -81.4, -81.03999999999999, -81.03999999999999, -81.03999999999999, -81.03999999999999, -75.03999999999999, -74.91999999999999, -74.91999999999999, -74.91999999999999, -74.91999999999999, -74.91999999999999, -74.91999999999999, -74.91999999999999, -74.91999999999999, -68.91999999999999, -68.80000000000001, -68.80000000000001, -68.80000000000001, -68.80000000000001, -68.80000000000001, -68.80000000000001, -68.80000000000001, -62.80000000000001, -62.68000000000001, -62.68000000000001, -62.68000000000001, -62.68000000000001, -62.68000000000001, -62.68000000000001, -62.68000000000001, -56.68000000000001, -56.56, -56.56, -56.56, -56.56, -56.56, -56.56, -50.56, -50.44, -50.44, -50.44, -50.44, -50.44, -44.44, -44.31999999999999, -44.31999999999999, -44.31999999999999, -44.31999999999999, -44.31999999999999, -44.31999999999999, -38.31999999999999, -38.19999999999999, -38.19999999999999, -38.19999999999999, -38.19999999999999, -32.19999999999999, -32.08000000000001, -32.08000000000001, -32.08000000000001, -32.08000000000001, -32.08000000000001, -26.080000000000013, -25.959999999999994, -25.959999999999994, -25.959999999999994, -25.959999999999994, -19.959999999999994, -19.840000000000003, -19.840000000000003, -19.840000000000003, -19.840000000000003, -13.840000000000003, -13.719999999999999, -13.719999999999999, -13.719999999999999, -13.719999999999999, -7.719999999999999, -7.599999999999994, -7.599999999999994, -7.599999999999994, -7.599999999999994, -1.5999999999999943, -1.480000000000004, -1.480000000000004, -1.480000000000004, -1.480000000000004, 4.519999999999996, 4.640000000000001, 4.640000000000001, 4.640000000000001, 10.64, 10.760000000000005, 10.760000000000005, 10.760000000000005, 16.760000000000005, 16.879999999999995, 16.879999999999995, 16.879999999999995, 22.879999999999995, 23.0, 23.0, 23.0, 23.0, 29.0, 29.120000000000005, 29.120000000000005, 35.120000000000005, 35.239999999999995, 35.239999999999995, 35.239999999999995, 41.239999999999995, 41.36, 41.36, 41.36, 47.36, 47.480000000000004, 47.480000000000004, 47.480000000000004, 53.480000000000004, 53.599999999999994, 53.599999999999994, 59.599999999999994, 59.72, 59.72, 59.72, 65.72, 65.84, 65.84, 65.84, 71.84, 71.96, 71.96, 77.96, 78.08, 78.08, 84.08, 84.2, 84.2, 84.2, 90.2, 90.32, 90.32, 96.32, 96.44, 96.44, 102.44, 102.56, 102.56, 102.56, 108.56, 108.68, 108.68, 114.68, 114.8, 114.8, 120.8, 120.92, 120.92, 126.92, 127.04, 127.04, 133.04000000000002, 133.16, 133.16, 139.16, 139.28, 139.28, 139.28, 145.28, 145.4, 145.4, 151.4, 151.51999999999998, 151.51999999999998, 157.51999999999998, 157.64, 157.64, 163.64, 163.76, 163.76, 169.76, 169.88, 169.88, 175.88, 176.0, 176.0, 182.0, 182.12, 182.12, 188.12, 188.24, 188.24, 194.24, 194.36, 194.36, 200.36, 200.48000000000002, 200.48000000000002, 206.48000000000002, 206.6, 206.6, 206.6, 212.6, 212.72, 212.72, 218.72, 218.84, 218.84, 224.84, 224.95999999999998, 224.95999999999998, 230.95999999999998, 231.07999999999998, 231.07999999999998, 237.07999999999998, 237.2, 237.2, 243.2, 243.32, 243.32, 243.32, 249.32, 249.44, 249.44, 255.44, 255.56, 255.56, 261.56, 261.68, 261.68, 261.68, 267.68, 267.8, 267.8, 273.8, 273.92, 273.92, 279.92, 280.04, 280.04, 280.04, 286.04, 286.15999999999997, 286.15999999999997, 286.15999999999997, 292.15999999999997, 292.28, 292.28, 298.28, 298.4, 298.4, 298.4, 304.4, 304.52, 304.52, 304.52, 310.52, 310.64, 310.64, 310.64, 316.64, 316.76, 316.76, 322.76, 322.88, 322.88, 322.88, 322.88, 328.88, 329.0, 329.0, 329.0, 335.0, 335.12, 335.12, 335.12, 341.12, 341.24, 341.24, 341.24, 347.24, 347.36, 347.36, 347.36, 347.36, 353.36, 353.48, 353.48, 353.48, 353.48, 359.48, 359.6, 359.6, 359.6, 359.6, 365.6, 365.72, 365.72, 365.72, 365.72, 371.72, 371.84000000000003, 371.84000000000003, 371.84000000000003, 371.84000000000003, 377.84000000000003, 377.96000000000004, 377.96000000000004, 377.96000000000004, 377.96000000000004, 377.96000000000004, 383.96000000000004, 384.08, 384.08, 384.08, 384.08, 390.08, 390.2, 390.2, 390.2, 390.2, 390.2, 390.2, 396.2, 396.32, 396.32, 396.32, 396.32, 396.32, 402.32, 402.44, 402.44, 402.44, 402.44, 402.44, 402.44, 408.44, 408.56, 408.56, 408.56, 408.56, 408.56, 408.56, 408.56, 414.56, 414.68, 414.68, 414.68, 414.68, 414.68, 414.68, 414.68, 420.68, 420.8, 420.8, 420.8, 420.8, 420.8, 420.8, 420.8, 420.8, 426.8], \"yaxis\": \"y\"}],                        {\"height\": 500, \"legend\": {\"title\": {\"text\": \"variable\"}, \"tracegroupgap\": 0}, \"margin\": {\"t\": 60}, \"template\": {\"data\": {\"bar\": [{\"error_x\": {\"color\": \"#2a3f5f\"}, \"error_y\": {\"color\": \"#2a3f5f\"}, \"marker\": {\"line\": {\"color\": \"#E5ECF6\", \"width\": 0.5}}, \"type\": \"bar\"}], \"barpolar\": [{\"marker\": {\"line\": {\"color\": \"#E5ECF6\", \"width\": 0.5}}, \"type\": \"barpolar\"}], \"carpet\": [{\"aaxis\": {\"endlinecolor\": \"#2a3f5f\", \"gridcolor\": \"white\", \"linecolor\": \"white\", \"minorgridcolor\": \"white\", \"startlinecolor\": \"#2a3f5f\"}, \"baxis\": {\"endlinecolor\": \"#2a3f5f\", \"gridcolor\": \"white\", \"linecolor\": \"white\", \"minorgridcolor\": \"white\", \"startlinecolor\": \"#2a3f5f\"}, \"type\": \"carpet\"}], \"choropleth\": [{\"colorbar\": {\"outlinewidth\": 0, \"ticks\": \"\"}, \"type\": \"choropleth\"}], \"contour\": [{\"colorbar\": {\"outlinewidth\": 0, \"ticks\": \"\"}, \"colorscale\": [[0.0, \"#0d0887\"], [0.1111111111111111, \"#46039f\"], [0.2222222222222222, \"#7201a8\"], [0.3333333333333333, \"#9c179e\"], [0.4444444444444444, \"#bd3786\"], [0.5555555555555556, \"#d8576b\"], [0.6666666666666666, \"#ed7953\"], [0.7777777777777778, \"#fb9f3a\"], [0.8888888888888888, \"#fdca26\"], [1.0, \"#f0f921\"]], \"type\": \"contour\"}], \"contourcarpet\": [{\"colorbar\": {\"outlinewidth\": 0, \"ticks\": \"\"}, \"type\": \"contourcarpet\"}], \"heatmap\": [{\"colorbar\": {\"outlinewidth\": 0, \"ticks\": \"\"}, \"colorscale\": [[0.0, \"#0d0887\"], [0.1111111111111111, \"#46039f\"], [0.2222222222222222, \"#7201a8\"], [0.3333333333333333, \"#9c179e\"], [0.4444444444444444, \"#bd3786\"], [0.5555555555555556, \"#d8576b\"], [0.6666666666666666, \"#ed7953\"], [0.7777777777777778, \"#fb9f3a\"], [0.8888888888888888, \"#fdca26\"], [1.0, \"#f0f921\"]], \"type\": \"heatmap\"}], \"heatmapgl\": [{\"colorbar\": {\"outlinewidth\": 0, \"ticks\": \"\"}, \"colorscale\": [[0.0, \"#0d0887\"], [0.1111111111111111, \"#46039f\"], [0.2222222222222222, \"#7201a8\"], [0.3333333333333333, \"#9c179e\"], [0.4444444444444444, \"#bd3786\"], [0.5555555555555556, \"#d8576b\"], [0.6666666666666666, \"#ed7953\"], [0.7777777777777778, \"#fb9f3a\"], [0.8888888888888888, \"#fdca26\"], [1.0, \"#f0f921\"]], \"type\": \"heatmapgl\"}], \"histogram\": [{\"marker\": {\"colorbar\": {\"outlinewidth\": 0, \"ticks\": \"\"}}, \"type\": \"histogram\"}], \"histogram2d\": [{\"colorbar\": {\"outlinewidth\": 0, \"ticks\": \"\"}, \"colorscale\": [[0.0, \"#0d0887\"], [0.1111111111111111, \"#46039f\"], [0.2222222222222222, \"#7201a8\"], [0.3333333333333333, \"#9c179e\"], [0.4444444444444444, \"#bd3786\"], [0.5555555555555556, \"#d8576b\"], [0.6666666666666666, \"#ed7953\"], [0.7777777777777778, \"#fb9f3a\"], [0.8888888888888888, \"#fdca26\"], [1.0, \"#f0f921\"]], \"type\": \"histogram2d\"}], \"histogram2dcontour\": [{\"colorbar\": {\"outlinewidth\": 0, \"ticks\": \"\"}, \"colorscale\": [[0.0, \"#0d0887\"], [0.1111111111111111, \"#46039f\"], [0.2222222222222222, \"#7201a8\"], [0.3333333333333333, \"#9c179e\"], [0.4444444444444444, \"#bd3786\"], [0.5555555555555556, \"#d8576b\"], [0.6666666666666666, \"#ed7953\"], [0.7777777777777778, \"#fb9f3a\"], [0.8888888888888888, \"#fdca26\"], [1.0, \"#f0f921\"]], \"type\": \"histogram2dcontour\"}], \"mesh3d\": [{\"colorbar\": {\"outlinewidth\": 0, \"ticks\": \"\"}, \"type\": \"mesh3d\"}], \"parcoords\": [{\"line\": {\"colorbar\": {\"outlinewidth\": 0, \"ticks\": \"\"}}, \"type\": \"parcoords\"}], \"pie\": [{\"automargin\": true, \"type\": \"pie\"}], \"scatter\": [{\"marker\": {\"colorbar\": {\"outlinewidth\": 0, \"ticks\": \"\"}}, \"type\": \"scatter\"}], \"scatter3d\": [{\"line\": {\"colorbar\": {\"outlinewidth\": 0, \"ticks\": \"\"}}, \"marker\": {\"colorbar\": {\"outlinewidth\": 0, \"ticks\": \"\"}}, \"type\": \"scatter3d\"}], \"scattercarpet\": [{\"marker\": {\"colorbar\": {\"outlinewidth\": 0, \"ticks\": \"\"}}, \"type\": \"scattercarpet\"}], \"scattergeo\": [{\"marker\": {\"colorbar\": {\"outlinewidth\": 0, \"ticks\": \"\"}}, \"type\": \"scattergeo\"}], \"scattergl\": [{\"marker\": {\"colorbar\": {\"outlinewidth\": 0, \"ticks\": \"\"}}, \"type\": \"scattergl\"}], \"scattermapbox\": [{\"marker\": {\"colorbar\": {\"outlinewidth\": 0, \"ticks\": \"\"}}, \"type\": \"scattermapbox\"}], \"scatterpolar\": [{\"marker\": {\"colorbar\": {\"outlinewidth\": 0, \"ticks\": \"\"}}, \"type\": \"scatterpolar\"}], \"scatterpolargl\": [{\"marker\": {\"colorbar\": {\"outlinewidth\": 0, \"ticks\": \"\"}}, \"type\": \"scatterpolargl\"}], \"scatterternary\": [{\"marker\": {\"colorbar\": {\"outlinewidth\": 0, \"ticks\": \"\"}}, \"type\": \"scatterternary\"}], \"surface\": [{\"colorbar\": {\"outlinewidth\": 0, \"ticks\": \"\"}, \"colorscale\": [[0.0, \"#0d0887\"], [0.1111111111111111, \"#46039f\"], [0.2222222222222222, \"#7201a8\"], [0.3333333333333333, \"#9c179e\"], [0.4444444444444444, \"#bd3786\"], [0.5555555555555556, \"#d8576b\"], [0.6666666666666666, \"#ed7953\"], [0.7777777777777778, \"#fb9f3a\"], [0.8888888888888888, \"#fdca26\"], [1.0, \"#f0f921\"]], \"type\": \"surface\"}], \"table\": [{\"cells\": {\"fill\": {\"color\": \"#EBF0F8\"}, \"line\": {\"color\": \"white\"}}, \"header\": {\"fill\": {\"color\": \"#C8D4E3\"}, \"line\": {\"color\": \"white\"}}, \"type\": \"table\"}]}, \"layout\": {\"annotationdefaults\": {\"arrowcolor\": \"#2a3f5f\", \"arrowhead\": 0, \"arrowwidth\": 1}, \"autotypenumbers\": \"strict\", \"coloraxis\": {\"colorbar\": {\"outlinewidth\": 0, \"ticks\": \"\"}}, \"colorscale\": {\"diverging\": [[0, \"#8e0152\"], [0.1, \"#c51b7d\"], [0.2, \"#de77ae\"], [0.3, \"#f1b6da\"], [0.4, \"#fde0ef\"], [0.5, \"#f7f7f7\"], [0.6, \"#e6f5d0\"], [0.7, \"#b8e186\"], [0.8, \"#7fbc41\"], [0.9, \"#4d9221\"], [1, \"#276419\"]], \"sequential\": [[0.0, \"#0d0887\"], [0.1111111111111111, \"#46039f\"], [0.2222222222222222, \"#7201a8\"], [0.3333333333333333, \"#9c179e\"], [0.4444444444444444, \"#bd3786\"], [0.5555555555555556, \"#d8576b\"], [0.6666666666666666, \"#ed7953\"], [0.7777777777777778, \"#fb9f3a\"], [0.8888888888888888, \"#fdca26\"], [1.0, \"#f0f921\"]], \"sequentialminus\": [[0.0, \"#0d0887\"], [0.1111111111111111, \"#46039f\"], [0.2222222222222222, \"#7201a8\"], [0.3333333333333333, \"#9c179e\"], [0.4444444444444444, \"#bd3786\"], [0.5555555555555556, \"#d8576b\"], [0.6666666666666666, \"#ed7953\"], [0.7777777777777778, \"#fb9f3a\"], [0.8888888888888888, \"#fdca26\"], [1.0, \"#f0f921\"]]}, \"colorway\": [\"#636efa\", \"#EF553B\", \"#00cc96\", \"#ab63fa\", \"#FFA15A\", \"#19d3f3\", \"#FF6692\", \"#B6E880\", \"#FF97FF\", \"#FECB52\"], \"font\": {\"color\": \"#2a3f5f\"}, \"geo\": {\"bgcolor\": \"white\", \"lakecolor\": \"white\", \"landcolor\": \"#E5ECF6\", \"showlakes\": true, \"showland\": true, \"subunitcolor\": \"white\"}, \"hoverlabel\": {\"align\": \"left\"}, \"hovermode\": \"closest\", \"mapbox\": {\"style\": \"light\"}, \"paper_bgcolor\": \"white\", \"plot_bgcolor\": \"#E5ECF6\", \"polar\": {\"angularaxis\": {\"gridcolor\": \"white\", \"linecolor\": \"white\", \"ticks\": \"\"}, \"bgcolor\": \"#E5ECF6\", \"radialaxis\": {\"gridcolor\": \"white\", \"linecolor\": \"white\", \"ticks\": \"\"}}, \"scene\": {\"xaxis\": {\"backgroundcolor\": \"#E5ECF6\", \"gridcolor\": \"white\", \"gridwidth\": 2, \"linecolor\": \"white\", \"showbackground\": true, \"ticks\": \"\", \"zerolinecolor\": \"white\"}, \"yaxis\": {\"backgroundcolor\": \"#E5ECF6\", \"gridcolor\": \"white\", \"gridwidth\": 2, \"linecolor\": \"white\", \"showbackground\": true, \"ticks\": \"\", \"zerolinecolor\": \"white\"}, \"zaxis\": {\"backgroundcolor\": \"#E5ECF6\", \"gridcolor\": \"white\", \"gridwidth\": 2, \"linecolor\": \"white\", \"showbackground\": true, \"ticks\": \"\", \"zerolinecolor\": \"white\"}}, \"shapedefaults\": {\"line\": {\"color\": \"#2a3f5f\"}}, \"ternary\": {\"aaxis\": {\"gridcolor\": \"white\", \"linecolor\": \"white\", \"ticks\": \"\"}, \"baxis\": {\"gridcolor\": \"white\", \"linecolor\": \"white\", \"ticks\": \"\"}, \"bgcolor\": \"#E5ECF6\", \"caxis\": {\"gridcolor\": \"white\", \"linecolor\": \"white\", \"ticks\": \"\"}}, \"title\": {\"x\": 0.05}, \"xaxis\": {\"automargin\": true, \"gridcolor\": \"white\", \"linecolor\": \"white\", \"ticks\": \"\", \"title\": {\"standoff\": 15}, \"zerolinecolor\": \"white\", \"zerolinewidth\": 2}, \"yaxis\": {\"automargin\": true, \"gridcolor\": \"white\", \"linecolor\": \"white\", \"ticks\": \"\", \"title\": {\"standoff\": 15}, \"zerolinecolor\": \"white\", \"zerolinewidth\": 2}}}, \"xaxis\": {\"anchor\": \"y\", \"domain\": [0.0, 1.0], \"title\": {\"text\": \"timestep\"}}, \"yaxis\": {\"anchor\": \"x\", \"domain\": [0.0, 1.0], \"title\": {\"text\": \"value\"}}},                        {\"responsive\": true}                    ).then(function(){\n",
       "                            \n",
       "var gd = document.getElementById('8cd8e211-4991-46f6-bc01-987f7c672515');\n",
       "var x = new MutationObserver(function (mutations, observer) {{\n",
       "        var display = window.getComputedStyle(gd).display;\n",
       "        if (!display || display === 'none') {{\n",
       "            console.log([gd, 'removed!']);\n",
       "            Plotly.purge(gd);\n",
       "            observer.disconnect();\n",
       "        }}\n",
       "}});\n",
       "\n",
       "// Listen for the removal of the full notebook cells\n",
       "var notebookContainer = gd.closest('#notebook-container');\n",
       "if (notebookContainer) {{\n",
       "    x.observe(notebookContainer, {childList: true});\n",
       "}}\n",
       "\n",
       "// Listen for the clearing of the current output cell\n",
       "var outputEl = gd.closest('.output');\n",
       "if (outputEl) {{\n",
       "    x.observe(outputEl, {childList: true});\n",
       "}}\n",
       "\n",
       "                        })                };                });            </script>        </div>"
      ]
     },
     "metadata": {},
     "output_type": "display_data"
    }
   ],
   "source": [
    "fig = px.line(\n",
    "    fig_df,\n",
    "    x='timestep',\n",
    "    y=['host_revenue', 'host_expenses', 'host_profit'],\n",
    "    height=500,\n",
    "    animation_frame='run'\n",
    ")\n",
    "\n",
    "fig.show()"
   ]
  },
  {
   "cell_type": "code",
   "execution_count": 170,
   "id": "c4cdf1b8",
   "metadata": {},
   "outputs": [
    {
     "data": {
      "application/vnd.plotly.v1+json": {
       "config": {
        "plotlyServerURL": "https://plot.ly"
       },
       "data": [
        {
         "hovertemplate": "run=1<br>timestep=%{x}<br>cumulative_profit=%{y}<extra></extra>",
         "legendgroup": "",
         "line": {
          "color": "#636efa",
          "dash": "solid"
         },
         "mode": "lines",
         "name": "",
         "orientation": "v",
         "showlegend": false,
         "type": "scatter",
         "x": [
          2,
          3,
          4,
          5,
          6,
          7,
          8,
          9,
          10,
          11,
          12,
          13,
          14,
          15,
          16,
          17,
          18,
          19,
          20,
          21,
          22,
          23,
          24,
          25,
          26,
          27,
          28,
          29,
          30,
          31,
          32,
          33,
          34,
          35,
          36,
          37,
          38,
          39,
          40,
          41,
          42,
          43,
          44,
          45,
          46,
          47,
          48,
          49,
          50,
          51,
          52,
          53,
          54,
          55,
          56,
          57,
          58,
          59,
          60,
          61,
          62,
          63,
          64,
          65,
          66,
          67,
          68,
          69,
          70,
          71,
          72,
          73,
          74,
          75,
          76,
          77,
          78,
          79,
          80,
          81,
          82,
          83,
          84,
          85,
          86,
          87,
          88,
          89,
          90,
          91,
          92,
          93,
          94,
          95,
          96,
          97,
          98,
          99,
          100,
          101,
          102,
          103,
          104,
          105,
          106,
          107,
          108,
          109,
          110,
          111,
          112,
          113,
          114,
          115,
          116,
          117,
          118,
          119,
          120,
          121,
          122,
          123,
          124,
          125,
          126,
          127,
          128,
          129,
          130,
          131,
          132,
          133,
          134,
          135,
          136,
          137,
          138,
          139,
          140,
          141,
          142,
          143,
          144,
          145,
          146,
          147,
          148,
          149,
          150,
          151,
          152,
          153,
          154,
          155,
          156,
          157,
          158,
          159,
          160,
          161,
          162,
          163,
          164,
          165,
          166,
          167,
          168,
          169,
          170,
          171,
          172,
          173,
          174,
          175,
          176,
          177,
          178,
          179,
          180,
          181,
          182,
          183,
          184,
          185,
          186,
          187,
          188,
          189,
          190,
          191,
          192,
          193,
          194,
          195,
          196,
          197,
          198,
          199,
          200,
          201,
          202,
          203,
          204,
          205,
          206,
          207,
          208,
          209,
          210,
          211,
          212,
          213,
          214,
          215,
          216,
          217,
          218,
          219,
          220,
          221,
          222,
          223,
          224,
          225,
          226,
          227,
          228,
          229,
          230,
          231,
          232,
          233,
          234,
          235,
          236,
          237,
          238,
          239,
          240,
          241,
          242,
          243,
          244,
          245,
          246,
          247,
          248,
          249,
          250,
          251,
          252,
          253,
          254,
          255,
          256,
          257,
          258,
          259,
          260,
          261,
          262,
          263,
          264,
          265,
          266,
          267,
          268,
          269,
          270,
          271,
          272,
          273,
          274,
          275,
          276,
          277,
          278,
          279,
          280,
          281,
          282,
          283,
          284,
          285,
          286,
          287,
          288,
          289,
          290,
          291,
          292,
          293,
          294,
          295,
          296,
          297,
          298,
          299,
          300,
          301,
          302,
          303,
          304,
          305,
          306,
          307,
          308,
          309,
          310,
          311,
          312,
          313,
          314,
          315,
          316,
          317,
          318,
          319,
          320,
          321,
          322,
          323,
          324,
          325,
          326,
          327,
          328,
          329,
          330,
          331,
          332,
          333,
          334,
          335,
          336,
          337,
          338,
          339,
          340,
          341,
          342,
          343,
          344,
          345,
          346,
          347,
          348,
          349,
          350,
          351,
          352,
          353,
          354,
          355,
          356,
          357,
          358,
          359,
          360,
          361,
          362,
          363,
          364,
          365
         ],
         "xaxis": "x",
         "y": [
          0,
          -130,
          -230,
          -311.4,
          -392.43999999999994,
          -473.4799999999999,
          -554.5199999999999,
          -635.5599999999998,
          -710.5999999999998,
          -785.5199999999998,
          -860.4399999999997,
          -935.3599999999997,
          -1010.2799999999996,
          -1085.1999999999996,
          -1160.1199999999997,
          -1235.0399999999997,
          -1309.9599999999998,
          -1378.8799999999999,
          -1447.6799999999998,
          -1516.4799999999998,
          -1585.2799999999997,
          -1654.0799999999997,
          -1722.8799999999997,
          -1791.6799999999996,
          -1860.4799999999996,
          -1923.2799999999995,
          -1985.9599999999996,
          -2048.6399999999994,
          -2111.3199999999993,
          -2173.999999999999,
          -2236.679999999999,
          -2299.3599999999988,
          -2362.0399999999986,
          -2418.7199999999984,
          -2475.2799999999984,
          -2531.8399999999983,
          -2588.3999999999983,
          -2644.959999999998,
          -2701.519999999998,
          -2758.079999999998,
          -2808.639999999998,
          -2859.079999999998,
          -2909.519999999998,
          -2959.959999999998,
          -3010.3999999999983,
          -3060.8399999999983,
          -3105.2799999999984,
          -3149.5999999999985,
          -3193.9199999999987,
          -3238.239999999999,
          -3282.559999999999,
          -3326.879999999999,
          -3371.1999999999994,
          -3409.5199999999995,
          -3447.7199999999993,
          -3485.919999999999,
          -3524.119999999999,
          -3562.319999999999,
          -3594.5199999999986,
          -3626.5999999999985,
          -3658.6799999999985,
          -3690.7599999999984,
          -3722.8399999999983,
          -3754.9199999999983,
          -3780.999999999998,
          -3806.959999999998,
          -3832.9199999999983,
          -3858.8799999999983,
          -3884.8399999999983,
          -3904.7999999999984,
          -3924.6399999999985,
          -3944.4799999999987,
          -3964.319999999999,
          -3984.159999999999,
          -3997.999999999999,
          -4011.719999999999,
          -4025.4399999999987,
          -4039.1599999999985,
          -4052.8799999999983,
          -4060.599999999998,
          -4068.199999999998,
          -4075.799999999998,
          -4083.399999999998,
          -4090.9999999999977,
          -4092.5999999999976,
          -4094.0799999999977,
          -4095.5599999999977,
          -4097.039999999997,
          -4098.519999999997,
          -4093.999999999997,
          -4089.359999999997,
          -4084.719999999997,
          -4080.079999999997,
          -4069.4399999999973,
          -4058.679999999997,
          -4047.919999999997,
          -4037.1599999999967,
          -4020.3999999999965,
          -4003.5199999999963,
          -3986.6399999999962,
          -3969.759999999996,
          -3946.879999999996,
          -3923.879999999996,
          -3900.879999999996,
          -3877.879999999996,
          -3854.879999999996,
          -3825.879999999996,
          -3796.759999999996,
          -3767.6399999999962,
          -3732.5199999999963,
          -3697.2799999999966,
          -3662.039999999997,
          -3626.799999999997,
          -3585.559999999997,
          -3544.199999999997,
          -3502.839999999997,
          -3461.479999999997,
          -3414.1199999999967,
          -3366.6399999999967,
          -3319.1599999999967,
          -3271.6799999999967,
          -3218.1999999999966,
          -3164.5999999999967,
          -3110.999999999997,
          -3051.399999999997,
          -2991.679999999997,
          -2931.9599999999973,
          -2872.2399999999975,
          -2806.5199999999977,
          -2740.6799999999976,
          -2674.8399999999974,
          -2608.9999999999973,
          -2537.159999999997,
          -2465.199999999997,
          -2393.239999999997,
          -2315.279999999997,
          -2237.199999999997,
          -2159.119999999997,
          -2075.0399999999972,
          -1990.8399999999972,
          -1906.6399999999971,
          -1822.439999999997,
          -1732.239999999997,
          -1641.9199999999971,
          -1551.5999999999972,
          -1455.2799999999972,
          -1358.8399999999972,
          -1262.3999999999971,
          -1159.959999999997,
          -1057.3999999999971,
          -954.8399999999972,
          -852.2799999999972,
          -743.7199999999973,
          -635.0399999999972,
          -526.3599999999972,
          -411.67999999999716,
          -296.87999999999715,
          -182.07999999999714,
          -61.279999999997145,
          59.64000000000286,
          180.56000000000284,
          307.48000000000286,
          434.5200000000029,
          561.5600000000029,
          694.6000000000029,
          827.7600000000028,
          960.9200000000028,
          1100.0800000000029,
          1239.3600000000029,
          1378.6400000000028,
          1517.9200000000028,
          1663.2000000000028,
          1808.6000000000029,
          1954.000000000003,
          2105.400000000003,
          2256.920000000003,
          2408.440000000003,
          2565.9600000000028,
          2723.6000000000026,
          2881.2400000000025,
          3044.8800000000024,
          3208.640000000002,
          3372.4000000000024,
          3542.1600000000026,
          3712.0400000000027,
          3881.920000000003,
          4057.800000000003,
          4233.800000000003,
          4409.800000000003,
          4591.800000000003,
          4773.920000000003,
          4956.040000000003,
          5144.160000000003,
          5332.400000000002,
          5520.640000000002,
          5714.880000000002,
          5909.240000000002,
          6103.600000000001,
          6303.960000000001,
          6504.4400000000005,
          6704.92,
          6911.4,
          7118,
          7324.6,
          7531.200000000001,
          7743.800000000001,
          7956.520000000001,
          8169.240000000002,
          8387.960000000001,
          8606.800000000001,
          8825.640000000001,
          9050.480000000001,
          9275.44,
          9500.4,
          9731.359999999999,
          9962.439999999999,
          10193.519999999999,
          10430.599999999999,
          10667.8,
          10905,
          11148.2,
          11391.52,
          11634.84,
          11878.16,
          12127.48,
          12376.92,
          12626.36,
          12881.800000000001,
          13137.36,
          13392.92,
          13654.48,
          13916.16,
          14177.84,
          14439.52,
          14707.2,
          14975,
          15242.8,
          15516.599999999999,
          15790.519999999999,
          16064.439999999999,
          16344.359999999999,
          16624.399999999998,
          16904.44,
          17184.48,
          17470.52,
          17756.68,
          18042.84,
          18329,
          18621.16,
          18913.44,
          19205.719999999998,
          19503.999999999996,
          19802.399999999998,
          20100.8,
          20399.2,
          20703.600000000002,
          21008.120000000003,
          21312.640000000003,
          21617.160000000003,
          21927.680000000004,
          22238.320000000003,
          22548.960000000003,
          22859.600000000002,
          23176.24,
          23493,
          23809.76,
          24132.519999999997,
          24455.399999999998,
          24778.28,
          25101.16,
          25424.04,
          25752.920000000002,
          26081.920000000002,
          26410.920000000002,
          26739.920000000002,
          27074.920000000002,
          27410.04,
          27745.16,
          28080.28,
          28421.399999999998,
          28762.64,
          29103.88,
          29445.120000000003,
          29792.360000000004,
          30139.720000000005,
          30487.080000000005,
          30834.440000000006,
          31181.800000000007,
          31535.160000000007,
          31888.640000000007,
          32242.120000000006,
          32595.600000000006,
          32949.08000000001,
          33308.56000000001,
          33668.16000000001,
          34027.76000000001,
          34387.36000000001,
          34746.96000000001,
          35112.560000000005,
          35478.280000000006,
          35844.00000000001,
          36209.72000000001,
          36575.44000000001,
          36947.16000000001,
          37319.00000000001,
          37690.840000000004,
          38062.68,
          38434.52,
          38812.35999999999,
          39190.31999999999,
          39568.27999999999,
          39946.23999999999,
          40324.19999999999,
          40702.15999999999,
          41086.11999999999,
          41470.19999999999,
          41854.27999999999,
          42238.35999999999,
          42622.439999999995,
          43012.52,
          43402.719999999994,
          43792.91999999999,
          44183.11999999999,
          44573.319999999985,
          44963.51999999998,
          45353.71999999998,
          45749.91999999998,
          46146.239999999976,
          46542.559999999976,
          46938.879999999976,
          47335.199999999975,
          47731.519999999975,
          48133.839999999975,
          48536.27999999998,
          48938.71999999998,
          49341.15999999998,
          49743.599999999984,
          50146.039999999986,
          50548.47999999999,
          50956.91999999999,
          51365.47999999999,
          51774.039999999986,
          52182.599999999984,
          52591.15999999998,
          52999.71999999998,
          53408.27999999998,
          53816.839999999975,
          54231.39999999997,
          54646.07999999997,
          55060.75999999997,
          55475.43999999997,
          55890.11999999997,
          56304.799999999974,
          56719.479999999974,
          57134.159999999974,
          57554.839999999975,
          57975.63999999998,
          58396.43999999998,
          58817.23999999998,
          59238.039999999986,
          59658.83999999999,
          60079.63999999999,
          60500.439999999995,
          60921.24
         ],
         "yaxis": "y"
        }
       ],
       "layout": {
        "height": 500,
        "legend": {
         "tracegroupgap": 0
        },
        "margin": {
         "t": 60
        },
        "template": {
         "data": {
          "bar": [
           {
            "error_x": {
             "color": "#2a3f5f"
            },
            "error_y": {
             "color": "#2a3f5f"
            },
            "marker": {
             "line": {
              "color": "#E5ECF6",
              "width": 0.5
             }
            },
            "type": "bar"
           }
          ],
          "barpolar": [
           {
            "marker": {
             "line": {
              "color": "#E5ECF6",
              "width": 0.5
             }
            },
            "type": "barpolar"
           }
          ],
          "carpet": [
           {
            "aaxis": {
             "endlinecolor": "#2a3f5f",
             "gridcolor": "white",
             "linecolor": "white",
             "minorgridcolor": "white",
             "startlinecolor": "#2a3f5f"
            },
            "baxis": {
             "endlinecolor": "#2a3f5f",
             "gridcolor": "white",
             "linecolor": "white",
             "minorgridcolor": "white",
             "startlinecolor": "#2a3f5f"
            },
            "type": "carpet"
           }
          ],
          "choropleth": [
           {
            "colorbar": {
             "outlinewidth": 0,
             "ticks": ""
            },
            "type": "choropleth"
           }
          ],
          "contour": [
           {
            "colorbar": {
             "outlinewidth": 0,
             "ticks": ""
            },
            "colorscale": [
             [
              0,
              "#0d0887"
             ],
             [
              0.1111111111111111,
              "#46039f"
             ],
             [
              0.2222222222222222,
              "#7201a8"
             ],
             [
              0.3333333333333333,
              "#9c179e"
             ],
             [
              0.4444444444444444,
              "#bd3786"
             ],
             [
              0.5555555555555556,
              "#d8576b"
             ],
             [
              0.6666666666666666,
              "#ed7953"
             ],
             [
              0.7777777777777778,
              "#fb9f3a"
             ],
             [
              0.8888888888888888,
              "#fdca26"
             ],
             [
              1,
              "#f0f921"
             ]
            ],
            "type": "contour"
           }
          ],
          "contourcarpet": [
           {
            "colorbar": {
             "outlinewidth": 0,
             "ticks": ""
            },
            "type": "contourcarpet"
           }
          ],
          "heatmap": [
           {
            "colorbar": {
             "outlinewidth": 0,
             "ticks": ""
            },
            "colorscale": [
             [
              0,
              "#0d0887"
             ],
             [
              0.1111111111111111,
              "#46039f"
             ],
             [
              0.2222222222222222,
              "#7201a8"
             ],
             [
              0.3333333333333333,
              "#9c179e"
             ],
             [
              0.4444444444444444,
              "#bd3786"
             ],
             [
              0.5555555555555556,
              "#d8576b"
             ],
             [
              0.6666666666666666,
              "#ed7953"
             ],
             [
              0.7777777777777778,
              "#fb9f3a"
             ],
             [
              0.8888888888888888,
              "#fdca26"
             ],
             [
              1,
              "#f0f921"
             ]
            ],
            "type": "heatmap"
           }
          ],
          "heatmapgl": [
           {
            "colorbar": {
             "outlinewidth": 0,
             "ticks": ""
            },
            "colorscale": [
             [
              0,
              "#0d0887"
             ],
             [
              0.1111111111111111,
              "#46039f"
             ],
             [
              0.2222222222222222,
              "#7201a8"
             ],
             [
              0.3333333333333333,
              "#9c179e"
             ],
             [
              0.4444444444444444,
              "#bd3786"
             ],
             [
              0.5555555555555556,
              "#d8576b"
             ],
             [
              0.6666666666666666,
              "#ed7953"
             ],
             [
              0.7777777777777778,
              "#fb9f3a"
             ],
             [
              0.8888888888888888,
              "#fdca26"
             ],
             [
              1,
              "#f0f921"
             ]
            ],
            "type": "heatmapgl"
           }
          ],
          "histogram": [
           {
            "marker": {
             "colorbar": {
              "outlinewidth": 0,
              "ticks": ""
             }
            },
            "type": "histogram"
           }
          ],
          "histogram2d": [
           {
            "colorbar": {
             "outlinewidth": 0,
             "ticks": ""
            },
            "colorscale": [
             [
              0,
              "#0d0887"
             ],
             [
              0.1111111111111111,
              "#46039f"
             ],
             [
              0.2222222222222222,
              "#7201a8"
             ],
             [
              0.3333333333333333,
              "#9c179e"
             ],
             [
              0.4444444444444444,
              "#bd3786"
             ],
             [
              0.5555555555555556,
              "#d8576b"
             ],
             [
              0.6666666666666666,
              "#ed7953"
             ],
             [
              0.7777777777777778,
              "#fb9f3a"
             ],
             [
              0.8888888888888888,
              "#fdca26"
             ],
             [
              1,
              "#f0f921"
             ]
            ],
            "type": "histogram2d"
           }
          ],
          "histogram2dcontour": [
           {
            "colorbar": {
             "outlinewidth": 0,
             "ticks": ""
            },
            "colorscale": [
             [
              0,
              "#0d0887"
             ],
             [
              0.1111111111111111,
              "#46039f"
             ],
             [
              0.2222222222222222,
              "#7201a8"
             ],
             [
              0.3333333333333333,
              "#9c179e"
             ],
             [
              0.4444444444444444,
              "#bd3786"
             ],
             [
              0.5555555555555556,
              "#d8576b"
             ],
             [
              0.6666666666666666,
              "#ed7953"
             ],
             [
              0.7777777777777778,
              "#fb9f3a"
             ],
             [
              0.8888888888888888,
              "#fdca26"
             ],
             [
              1,
              "#f0f921"
             ]
            ],
            "type": "histogram2dcontour"
           }
          ],
          "mesh3d": [
           {
            "colorbar": {
             "outlinewidth": 0,
             "ticks": ""
            },
            "type": "mesh3d"
           }
          ],
          "parcoords": [
           {
            "line": {
             "colorbar": {
              "outlinewidth": 0,
              "ticks": ""
             }
            },
            "type": "parcoords"
           }
          ],
          "pie": [
           {
            "automargin": true,
            "type": "pie"
           }
          ],
          "scatter": [
           {
            "marker": {
             "colorbar": {
              "outlinewidth": 0,
              "ticks": ""
             }
            },
            "type": "scatter"
           }
          ],
          "scatter3d": [
           {
            "line": {
             "colorbar": {
              "outlinewidth": 0,
              "ticks": ""
             }
            },
            "marker": {
             "colorbar": {
              "outlinewidth": 0,
              "ticks": ""
             }
            },
            "type": "scatter3d"
           }
          ],
          "scattercarpet": [
           {
            "marker": {
             "colorbar": {
              "outlinewidth": 0,
              "ticks": ""
             }
            },
            "type": "scattercarpet"
           }
          ],
          "scattergeo": [
           {
            "marker": {
             "colorbar": {
              "outlinewidth": 0,
              "ticks": ""
             }
            },
            "type": "scattergeo"
           }
          ],
          "scattergl": [
           {
            "marker": {
             "colorbar": {
              "outlinewidth": 0,
              "ticks": ""
             }
            },
            "type": "scattergl"
           }
          ],
          "scattermapbox": [
           {
            "marker": {
             "colorbar": {
              "outlinewidth": 0,
              "ticks": ""
             }
            },
            "type": "scattermapbox"
           }
          ],
          "scatterpolar": [
           {
            "marker": {
             "colorbar": {
              "outlinewidth": 0,
              "ticks": ""
             }
            },
            "type": "scatterpolar"
           }
          ],
          "scatterpolargl": [
           {
            "marker": {
             "colorbar": {
              "outlinewidth": 0,
              "ticks": ""
             }
            },
            "type": "scatterpolargl"
           }
          ],
          "scatterternary": [
           {
            "marker": {
             "colorbar": {
              "outlinewidth": 0,
              "ticks": ""
             }
            },
            "type": "scatterternary"
           }
          ],
          "surface": [
           {
            "colorbar": {
             "outlinewidth": 0,
             "ticks": ""
            },
            "colorscale": [
             [
              0,
              "#0d0887"
             ],
             [
              0.1111111111111111,
              "#46039f"
             ],
             [
              0.2222222222222222,
              "#7201a8"
             ],
             [
              0.3333333333333333,
              "#9c179e"
             ],
             [
              0.4444444444444444,
              "#bd3786"
             ],
             [
              0.5555555555555556,
              "#d8576b"
             ],
             [
              0.6666666666666666,
              "#ed7953"
             ],
             [
              0.7777777777777778,
              "#fb9f3a"
             ],
             [
              0.8888888888888888,
              "#fdca26"
             ],
             [
              1,
              "#f0f921"
             ]
            ],
            "type": "surface"
           }
          ],
          "table": [
           {
            "cells": {
             "fill": {
              "color": "#EBF0F8"
             },
             "line": {
              "color": "white"
             }
            },
            "header": {
             "fill": {
              "color": "#C8D4E3"
             },
             "line": {
              "color": "white"
             }
            },
            "type": "table"
           }
          ]
         },
         "layout": {
          "annotationdefaults": {
           "arrowcolor": "#2a3f5f",
           "arrowhead": 0,
           "arrowwidth": 1
          },
          "autotypenumbers": "strict",
          "coloraxis": {
           "colorbar": {
            "outlinewidth": 0,
            "ticks": ""
           }
          },
          "colorscale": {
           "diverging": [
            [
             0,
             "#8e0152"
            ],
            [
             0.1,
             "#c51b7d"
            ],
            [
             0.2,
             "#de77ae"
            ],
            [
             0.3,
             "#f1b6da"
            ],
            [
             0.4,
             "#fde0ef"
            ],
            [
             0.5,
             "#f7f7f7"
            ],
            [
             0.6,
             "#e6f5d0"
            ],
            [
             0.7,
             "#b8e186"
            ],
            [
             0.8,
             "#7fbc41"
            ],
            [
             0.9,
             "#4d9221"
            ],
            [
             1,
             "#276419"
            ]
           ],
           "sequential": [
            [
             0,
             "#0d0887"
            ],
            [
             0.1111111111111111,
             "#46039f"
            ],
            [
             0.2222222222222222,
             "#7201a8"
            ],
            [
             0.3333333333333333,
             "#9c179e"
            ],
            [
             0.4444444444444444,
             "#bd3786"
            ],
            [
             0.5555555555555556,
             "#d8576b"
            ],
            [
             0.6666666666666666,
             "#ed7953"
            ],
            [
             0.7777777777777778,
             "#fb9f3a"
            ],
            [
             0.8888888888888888,
             "#fdca26"
            ],
            [
             1,
             "#f0f921"
            ]
           ],
           "sequentialminus": [
            [
             0,
             "#0d0887"
            ],
            [
             0.1111111111111111,
             "#46039f"
            ],
            [
             0.2222222222222222,
             "#7201a8"
            ],
            [
             0.3333333333333333,
             "#9c179e"
            ],
            [
             0.4444444444444444,
             "#bd3786"
            ],
            [
             0.5555555555555556,
             "#d8576b"
            ],
            [
             0.6666666666666666,
             "#ed7953"
            ],
            [
             0.7777777777777778,
             "#fb9f3a"
            ],
            [
             0.8888888888888888,
             "#fdca26"
            ],
            [
             1,
             "#f0f921"
            ]
           ]
          },
          "colorway": [
           "#636efa",
           "#EF553B",
           "#00cc96",
           "#ab63fa",
           "#FFA15A",
           "#19d3f3",
           "#FF6692",
           "#B6E880",
           "#FF97FF",
           "#FECB52"
          ],
          "font": {
           "color": "#2a3f5f"
          },
          "geo": {
           "bgcolor": "white",
           "lakecolor": "white",
           "landcolor": "#E5ECF6",
           "showlakes": true,
           "showland": true,
           "subunitcolor": "white"
          },
          "hoverlabel": {
           "align": "left"
          },
          "hovermode": "closest",
          "mapbox": {
           "style": "light"
          },
          "paper_bgcolor": "white",
          "plot_bgcolor": "#E5ECF6",
          "polar": {
           "angularaxis": {
            "gridcolor": "white",
            "linecolor": "white",
            "ticks": ""
           },
           "bgcolor": "#E5ECF6",
           "radialaxis": {
            "gridcolor": "white",
            "linecolor": "white",
            "ticks": ""
           }
          },
          "scene": {
           "xaxis": {
            "backgroundcolor": "#E5ECF6",
            "gridcolor": "white",
            "gridwidth": 2,
            "linecolor": "white",
            "showbackground": true,
            "ticks": "",
            "zerolinecolor": "white"
           },
           "yaxis": {
            "backgroundcolor": "#E5ECF6",
            "gridcolor": "white",
            "gridwidth": 2,
            "linecolor": "white",
            "showbackground": true,
            "ticks": "",
            "zerolinecolor": "white"
           },
           "zaxis": {
            "backgroundcolor": "#E5ECF6",
            "gridcolor": "white",
            "gridwidth": 2,
            "linecolor": "white",
            "showbackground": true,
            "ticks": "",
            "zerolinecolor": "white"
           }
          },
          "shapedefaults": {
           "line": {
            "color": "#2a3f5f"
           }
          },
          "ternary": {
           "aaxis": {
            "gridcolor": "white",
            "linecolor": "white",
            "ticks": ""
           },
           "baxis": {
            "gridcolor": "white",
            "linecolor": "white",
            "ticks": ""
           },
           "bgcolor": "#E5ECF6",
           "caxis": {
            "gridcolor": "white",
            "linecolor": "white",
            "ticks": ""
           }
          },
          "title": {
           "x": 0.05
          },
          "xaxis": {
           "automargin": true,
           "gridcolor": "white",
           "linecolor": "white",
           "ticks": "",
           "title": {
            "standoff": 15
           },
           "zerolinecolor": "white",
           "zerolinewidth": 2
          },
          "yaxis": {
           "automargin": true,
           "gridcolor": "white",
           "linecolor": "white",
           "ticks": "",
           "title": {
            "standoff": 15
           },
           "zerolinecolor": "white",
           "zerolinewidth": 2
          }
         }
        },
        "xaxis": {
         "anchor": "y",
         "domain": [
          0,
          1
         ],
         "title": {
          "text": "timestep"
         }
        },
        "yaxis": {
         "anchor": "x",
         "domain": [
          0,
          1
         ],
         "title": {
          "text": "cumulative_profit"
         }
        }
       }
      },
      "text/html": [
       "<div>                            <div id=\"b72d5c52-e725-43c2-ad23-5c410d486c09\" class=\"plotly-graph-div\" style=\"height:500px; width:100%;\"></div>            <script type=\"text/javascript\">                require([\"plotly\"], function(Plotly) {                    window.PLOTLYENV=window.PLOTLYENV || {};                                    if (document.getElementById(\"b72d5c52-e725-43c2-ad23-5c410d486c09\")) {                    Plotly.newPlot(                        \"b72d5c52-e725-43c2-ad23-5c410d486c09\",                        [{\"hovertemplate\": \"run=1<br>timestep=%{x}<br>cumulative_profit=%{y}<extra></extra>\", \"legendgroup\": \"\", \"line\": {\"color\": \"#636efa\", \"dash\": \"solid\"}, \"mode\": \"lines\", \"name\": \"\", \"orientation\": \"v\", \"showlegend\": false, \"type\": \"scatter\", \"x\": [2, 3, 4, 5, 6, 7, 8, 9, 10, 11, 12, 13, 14, 15, 16, 17, 18, 19, 20, 21, 22, 23, 24, 25, 26, 27, 28, 29, 30, 31, 32, 33, 34, 35, 36, 37, 38, 39, 40, 41, 42, 43, 44, 45, 46, 47, 48, 49, 50, 51, 52, 53, 54, 55, 56, 57, 58, 59, 60, 61, 62, 63, 64, 65, 66, 67, 68, 69, 70, 71, 72, 73, 74, 75, 76, 77, 78, 79, 80, 81, 82, 83, 84, 85, 86, 87, 88, 89, 90, 91, 92, 93, 94, 95, 96, 97, 98, 99, 100, 101, 102, 103, 104, 105, 106, 107, 108, 109, 110, 111, 112, 113, 114, 115, 116, 117, 118, 119, 120, 121, 122, 123, 124, 125, 126, 127, 128, 129, 130, 131, 132, 133, 134, 135, 136, 137, 138, 139, 140, 141, 142, 143, 144, 145, 146, 147, 148, 149, 150, 151, 152, 153, 154, 155, 156, 157, 158, 159, 160, 161, 162, 163, 164, 165, 166, 167, 168, 169, 170, 171, 172, 173, 174, 175, 176, 177, 178, 179, 180, 181, 182, 183, 184, 185, 186, 187, 188, 189, 190, 191, 192, 193, 194, 195, 196, 197, 198, 199, 200, 201, 202, 203, 204, 205, 206, 207, 208, 209, 210, 211, 212, 213, 214, 215, 216, 217, 218, 219, 220, 221, 222, 223, 224, 225, 226, 227, 228, 229, 230, 231, 232, 233, 234, 235, 236, 237, 238, 239, 240, 241, 242, 243, 244, 245, 246, 247, 248, 249, 250, 251, 252, 253, 254, 255, 256, 257, 258, 259, 260, 261, 262, 263, 264, 265, 266, 267, 268, 269, 270, 271, 272, 273, 274, 275, 276, 277, 278, 279, 280, 281, 282, 283, 284, 285, 286, 287, 288, 289, 290, 291, 292, 293, 294, 295, 296, 297, 298, 299, 300, 301, 302, 303, 304, 305, 306, 307, 308, 309, 310, 311, 312, 313, 314, 315, 316, 317, 318, 319, 320, 321, 322, 323, 324, 325, 326, 327, 328, 329, 330, 331, 332, 333, 334, 335, 336, 337, 338, 339, 340, 341, 342, 343, 344, 345, 346, 347, 348, 349, 350, 351, 352, 353, 354, 355, 356, 357, 358, 359, 360, 361, 362, 363, 364, 365], \"xaxis\": \"x\", \"y\": [0.0, -130.0, -230.0, -311.4, -392.43999999999994, -473.4799999999999, -554.5199999999999, -635.5599999999998, -710.5999999999998, -785.5199999999998, -860.4399999999997, -935.3599999999997, -1010.2799999999996, -1085.1999999999996, -1160.1199999999997, -1235.0399999999997, -1309.9599999999998, -1378.8799999999999, -1447.6799999999998, -1516.4799999999998, -1585.2799999999997, -1654.0799999999997, -1722.8799999999997, -1791.6799999999996, -1860.4799999999996, -1923.2799999999995, -1985.9599999999996, -2048.6399999999994, -2111.3199999999993, -2173.999999999999, -2236.679999999999, -2299.3599999999988, -2362.0399999999986, -2418.7199999999984, -2475.2799999999984, -2531.8399999999983, -2588.3999999999983, -2644.959999999998, -2701.519999999998, -2758.079999999998, -2808.639999999998, -2859.079999999998, -2909.519999999998, -2959.959999999998, -3010.3999999999983, -3060.8399999999983, -3105.2799999999984, -3149.5999999999985, -3193.9199999999987, -3238.239999999999, -3282.559999999999, -3326.879999999999, -3371.1999999999994, -3409.5199999999995, -3447.7199999999993, -3485.919999999999, -3524.119999999999, -3562.319999999999, -3594.5199999999986, -3626.5999999999985, -3658.6799999999985, -3690.7599999999984, -3722.8399999999983, -3754.9199999999983, -3780.999999999998, -3806.959999999998, -3832.9199999999983, -3858.8799999999983, -3884.8399999999983, -3904.7999999999984, -3924.6399999999985, -3944.4799999999987, -3964.319999999999, -3984.159999999999, -3997.999999999999, -4011.719999999999, -4025.4399999999987, -4039.1599999999985, -4052.8799999999983, -4060.599999999998, -4068.199999999998, -4075.799999999998, -4083.399999999998, -4090.9999999999977, -4092.5999999999976, -4094.0799999999977, -4095.5599999999977, -4097.039999999997, -4098.519999999997, -4093.999999999997, -4089.359999999997, -4084.719999999997, -4080.079999999997, -4069.4399999999973, -4058.679999999997, -4047.919999999997, -4037.1599999999967, -4020.3999999999965, -4003.5199999999963, -3986.6399999999962, -3969.759999999996, -3946.879999999996, -3923.879999999996, -3900.879999999996, -3877.879999999996, -3854.879999999996, -3825.879999999996, -3796.759999999996, -3767.6399999999962, -3732.5199999999963, -3697.2799999999966, -3662.039999999997, -3626.799999999997, -3585.559999999997, -3544.199999999997, -3502.839999999997, -3461.479999999997, -3414.1199999999967, -3366.6399999999967, -3319.1599999999967, -3271.6799999999967, -3218.1999999999966, -3164.5999999999967, -3110.999999999997, -3051.399999999997, -2991.679999999997, -2931.9599999999973, -2872.2399999999975, -2806.5199999999977, -2740.6799999999976, -2674.8399999999974, -2608.9999999999973, -2537.159999999997, -2465.199999999997, -2393.239999999997, -2315.279999999997, -2237.199999999997, -2159.119999999997, -2075.0399999999972, -1990.8399999999972, -1906.6399999999971, -1822.439999999997, -1732.239999999997, -1641.9199999999971, -1551.5999999999972, -1455.2799999999972, -1358.8399999999972, -1262.3999999999971, -1159.959999999997, -1057.3999999999971, -954.8399999999972, -852.2799999999972, -743.7199999999973, -635.0399999999972, -526.3599999999972, -411.67999999999716, -296.87999999999715, -182.07999999999714, -61.279999999997145, 59.64000000000286, 180.56000000000284, 307.48000000000286, 434.5200000000029, 561.5600000000029, 694.6000000000029, 827.7600000000028, 960.9200000000028, 1100.0800000000029, 1239.3600000000029, 1378.6400000000028, 1517.9200000000028, 1663.2000000000028, 1808.6000000000029, 1954.000000000003, 2105.400000000003, 2256.920000000003, 2408.440000000003, 2565.9600000000028, 2723.6000000000026, 2881.2400000000025, 3044.8800000000024, 3208.640000000002, 3372.4000000000024, 3542.1600000000026, 3712.0400000000027, 3881.920000000003, 4057.800000000003, 4233.800000000003, 4409.800000000003, 4591.800000000003, 4773.920000000003, 4956.040000000003, 5144.160000000003, 5332.400000000002, 5520.640000000002, 5714.880000000002, 5909.240000000002, 6103.600000000001, 6303.960000000001, 6504.4400000000005, 6704.92, 6911.4, 7118.0, 7324.6, 7531.200000000001, 7743.800000000001, 7956.520000000001, 8169.240000000002, 8387.960000000001, 8606.800000000001, 8825.640000000001, 9050.480000000001, 9275.44, 9500.4, 9731.359999999999, 9962.439999999999, 10193.519999999999, 10430.599999999999, 10667.8, 10905.0, 11148.2, 11391.52, 11634.84, 11878.16, 12127.48, 12376.92, 12626.36, 12881.800000000001, 13137.36, 13392.92, 13654.48, 13916.16, 14177.84, 14439.52, 14707.2, 14975.0, 15242.8, 15516.599999999999, 15790.519999999999, 16064.439999999999, 16344.359999999999, 16624.399999999998, 16904.44, 17184.48, 17470.52, 17756.68, 18042.84, 18329.0, 18621.16, 18913.44, 19205.719999999998, 19503.999999999996, 19802.399999999998, 20100.8, 20399.2, 20703.600000000002, 21008.120000000003, 21312.640000000003, 21617.160000000003, 21927.680000000004, 22238.320000000003, 22548.960000000003, 22859.600000000002, 23176.24, 23493.0, 23809.76, 24132.519999999997, 24455.399999999998, 24778.28, 25101.16, 25424.04, 25752.920000000002, 26081.920000000002, 26410.920000000002, 26739.920000000002, 27074.920000000002, 27410.04, 27745.16, 28080.28, 28421.399999999998, 28762.64, 29103.88, 29445.120000000003, 29792.360000000004, 30139.720000000005, 30487.080000000005, 30834.440000000006, 31181.800000000007, 31535.160000000007, 31888.640000000007, 32242.120000000006, 32595.600000000006, 32949.08000000001, 33308.56000000001, 33668.16000000001, 34027.76000000001, 34387.36000000001, 34746.96000000001, 35112.560000000005, 35478.280000000006, 35844.00000000001, 36209.72000000001, 36575.44000000001, 36947.16000000001, 37319.00000000001, 37690.840000000004, 38062.68, 38434.52, 38812.35999999999, 39190.31999999999, 39568.27999999999, 39946.23999999999, 40324.19999999999, 40702.15999999999, 41086.11999999999, 41470.19999999999, 41854.27999999999, 42238.35999999999, 42622.439999999995, 43012.52, 43402.719999999994, 43792.91999999999, 44183.11999999999, 44573.319999999985, 44963.51999999998, 45353.71999999998, 45749.91999999998, 46146.239999999976, 46542.559999999976, 46938.879999999976, 47335.199999999975, 47731.519999999975, 48133.839999999975, 48536.27999999998, 48938.71999999998, 49341.15999999998, 49743.599999999984, 50146.039999999986, 50548.47999999999, 50956.91999999999, 51365.47999999999, 51774.039999999986, 52182.599999999984, 52591.15999999998, 52999.71999999998, 53408.27999999998, 53816.839999999975, 54231.39999999997, 54646.07999999997, 55060.75999999997, 55475.43999999997, 55890.11999999997, 56304.799999999974, 56719.479999999974, 57134.159999999974, 57554.839999999975, 57975.63999999998, 58396.43999999998, 58817.23999999998, 59238.039999999986, 59658.83999999999, 60079.63999999999, 60500.439999999995, 60921.24], \"yaxis\": \"y\"}],                        {\"height\": 500, \"legend\": {\"tracegroupgap\": 0}, \"margin\": {\"t\": 60}, \"template\": {\"data\": {\"bar\": [{\"error_x\": {\"color\": \"#2a3f5f\"}, \"error_y\": {\"color\": \"#2a3f5f\"}, \"marker\": {\"line\": {\"color\": \"#E5ECF6\", \"width\": 0.5}}, \"type\": \"bar\"}], \"barpolar\": [{\"marker\": {\"line\": {\"color\": \"#E5ECF6\", \"width\": 0.5}}, \"type\": \"barpolar\"}], \"carpet\": [{\"aaxis\": {\"endlinecolor\": \"#2a3f5f\", \"gridcolor\": \"white\", \"linecolor\": \"white\", \"minorgridcolor\": \"white\", \"startlinecolor\": \"#2a3f5f\"}, \"baxis\": {\"endlinecolor\": \"#2a3f5f\", \"gridcolor\": \"white\", \"linecolor\": \"white\", \"minorgridcolor\": \"white\", \"startlinecolor\": \"#2a3f5f\"}, \"type\": \"carpet\"}], \"choropleth\": [{\"colorbar\": {\"outlinewidth\": 0, \"ticks\": \"\"}, \"type\": \"choropleth\"}], \"contour\": [{\"colorbar\": {\"outlinewidth\": 0, \"ticks\": \"\"}, \"colorscale\": [[0.0, \"#0d0887\"], [0.1111111111111111, \"#46039f\"], [0.2222222222222222, \"#7201a8\"], [0.3333333333333333, \"#9c179e\"], [0.4444444444444444, \"#bd3786\"], [0.5555555555555556, \"#d8576b\"], [0.6666666666666666, \"#ed7953\"], [0.7777777777777778, \"#fb9f3a\"], [0.8888888888888888, \"#fdca26\"], [1.0, \"#f0f921\"]], \"type\": \"contour\"}], \"contourcarpet\": [{\"colorbar\": {\"outlinewidth\": 0, \"ticks\": \"\"}, \"type\": \"contourcarpet\"}], \"heatmap\": [{\"colorbar\": {\"outlinewidth\": 0, \"ticks\": \"\"}, \"colorscale\": [[0.0, \"#0d0887\"], [0.1111111111111111, \"#46039f\"], [0.2222222222222222, \"#7201a8\"], [0.3333333333333333, \"#9c179e\"], [0.4444444444444444, \"#bd3786\"], [0.5555555555555556, \"#d8576b\"], [0.6666666666666666, \"#ed7953\"], [0.7777777777777778, \"#fb9f3a\"], [0.8888888888888888, \"#fdca26\"], [1.0, \"#f0f921\"]], \"type\": \"heatmap\"}], \"heatmapgl\": [{\"colorbar\": {\"outlinewidth\": 0, \"ticks\": \"\"}, \"colorscale\": [[0.0, \"#0d0887\"], [0.1111111111111111, \"#46039f\"], [0.2222222222222222, \"#7201a8\"], [0.3333333333333333, \"#9c179e\"], [0.4444444444444444, \"#bd3786\"], [0.5555555555555556, \"#d8576b\"], [0.6666666666666666, \"#ed7953\"], [0.7777777777777778, \"#fb9f3a\"], [0.8888888888888888, \"#fdca26\"], [1.0, \"#f0f921\"]], \"type\": \"heatmapgl\"}], \"histogram\": [{\"marker\": {\"colorbar\": {\"outlinewidth\": 0, \"ticks\": \"\"}}, \"type\": \"histogram\"}], \"histogram2d\": [{\"colorbar\": {\"outlinewidth\": 0, \"ticks\": \"\"}, \"colorscale\": [[0.0, \"#0d0887\"], [0.1111111111111111, \"#46039f\"], [0.2222222222222222, \"#7201a8\"], [0.3333333333333333, \"#9c179e\"], [0.4444444444444444, \"#bd3786\"], [0.5555555555555556, \"#d8576b\"], [0.6666666666666666, \"#ed7953\"], [0.7777777777777778, \"#fb9f3a\"], [0.8888888888888888, \"#fdca26\"], [1.0, \"#f0f921\"]], \"type\": \"histogram2d\"}], \"histogram2dcontour\": [{\"colorbar\": {\"outlinewidth\": 0, \"ticks\": \"\"}, \"colorscale\": [[0.0, \"#0d0887\"], [0.1111111111111111, \"#46039f\"], [0.2222222222222222, \"#7201a8\"], [0.3333333333333333, \"#9c179e\"], [0.4444444444444444, \"#bd3786\"], [0.5555555555555556, \"#d8576b\"], [0.6666666666666666, \"#ed7953\"], [0.7777777777777778, \"#fb9f3a\"], [0.8888888888888888, \"#fdca26\"], [1.0, \"#f0f921\"]], \"type\": \"histogram2dcontour\"}], \"mesh3d\": [{\"colorbar\": {\"outlinewidth\": 0, \"ticks\": \"\"}, \"type\": \"mesh3d\"}], \"parcoords\": [{\"line\": {\"colorbar\": {\"outlinewidth\": 0, \"ticks\": \"\"}}, \"type\": \"parcoords\"}], \"pie\": [{\"automargin\": true, \"type\": \"pie\"}], \"scatter\": [{\"marker\": {\"colorbar\": {\"outlinewidth\": 0, \"ticks\": \"\"}}, \"type\": \"scatter\"}], \"scatter3d\": [{\"line\": {\"colorbar\": {\"outlinewidth\": 0, \"ticks\": \"\"}}, \"marker\": {\"colorbar\": {\"outlinewidth\": 0, \"ticks\": \"\"}}, \"type\": \"scatter3d\"}], \"scattercarpet\": [{\"marker\": {\"colorbar\": {\"outlinewidth\": 0, \"ticks\": \"\"}}, \"type\": \"scattercarpet\"}], \"scattergeo\": [{\"marker\": {\"colorbar\": {\"outlinewidth\": 0, \"ticks\": \"\"}}, \"type\": \"scattergeo\"}], \"scattergl\": [{\"marker\": {\"colorbar\": {\"outlinewidth\": 0, \"ticks\": \"\"}}, \"type\": \"scattergl\"}], \"scattermapbox\": [{\"marker\": {\"colorbar\": {\"outlinewidth\": 0, \"ticks\": \"\"}}, \"type\": \"scattermapbox\"}], \"scatterpolar\": [{\"marker\": {\"colorbar\": {\"outlinewidth\": 0, \"ticks\": \"\"}}, \"type\": \"scatterpolar\"}], \"scatterpolargl\": [{\"marker\": {\"colorbar\": {\"outlinewidth\": 0, \"ticks\": \"\"}}, \"type\": \"scatterpolargl\"}], \"scatterternary\": [{\"marker\": {\"colorbar\": {\"outlinewidth\": 0, \"ticks\": \"\"}}, \"type\": \"scatterternary\"}], \"surface\": [{\"colorbar\": {\"outlinewidth\": 0, \"ticks\": \"\"}, \"colorscale\": [[0.0, \"#0d0887\"], [0.1111111111111111, \"#46039f\"], [0.2222222222222222, \"#7201a8\"], [0.3333333333333333, \"#9c179e\"], [0.4444444444444444, \"#bd3786\"], [0.5555555555555556, \"#d8576b\"], [0.6666666666666666, \"#ed7953\"], [0.7777777777777778, \"#fb9f3a\"], [0.8888888888888888, \"#fdca26\"], [1.0, \"#f0f921\"]], \"type\": \"surface\"}], \"table\": [{\"cells\": {\"fill\": {\"color\": \"#EBF0F8\"}, \"line\": {\"color\": \"white\"}}, \"header\": {\"fill\": {\"color\": \"#C8D4E3\"}, \"line\": {\"color\": \"white\"}}, \"type\": \"table\"}]}, \"layout\": {\"annotationdefaults\": {\"arrowcolor\": \"#2a3f5f\", \"arrowhead\": 0, \"arrowwidth\": 1}, \"autotypenumbers\": \"strict\", \"coloraxis\": {\"colorbar\": {\"outlinewidth\": 0, \"ticks\": \"\"}}, \"colorscale\": {\"diverging\": [[0, \"#8e0152\"], [0.1, \"#c51b7d\"], [0.2, \"#de77ae\"], [0.3, \"#f1b6da\"], [0.4, \"#fde0ef\"], [0.5, \"#f7f7f7\"], [0.6, \"#e6f5d0\"], [0.7, \"#b8e186\"], [0.8, \"#7fbc41\"], [0.9, \"#4d9221\"], [1, \"#276419\"]], \"sequential\": [[0.0, \"#0d0887\"], [0.1111111111111111, \"#46039f\"], [0.2222222222222222, \"#7201a8\"], [0.3333333333333333, \"#9c179e\"], [0.4444444444444444, \"#bd3786\"], [0.5555555555555556, \"#d8576b\"], [0.6666666666666666, \"#ed7953\"], [0.7777777777777778, \"#fb9f3a\"], [0.8888888888888888, \"#fdca26\"], [1.0, \"#f0f921\"]], \"sequentialminus\": [[0.0, \"#0d0887\"], [0.1111111111111111, \"#46039f\"], [0.2222222222222222, \"#7201a8\"], [0.3333333333333333, \"#9c179e\"], [0.4444444444444444, \"#bd3786\"], [0.5555555555555556, \"#d8576b\"], [0.6666666666666666, \"#ed7953\"], [0.7777777777777778, \"#fb9f3a\"], [0.8888888888888888, \"#fdca26\"], [1.0, \"#f0f921\"]]}, \"colorway\": [\"#636efa\", \"#EF553B\", \"#00cc96\", \"#ab63fa\", \"#FFA15A\", \"#19d3f3\", \"#FF6692\", \"#B6E880\", \"#FF97FF\", \"#FECB52\"], \"font\": {\"color\": \"#2a3f5f\"}, \"geo\": {\"bgcolor\": \"white\", \"lakecolor\": \"white\", \"landcolor\": \"#E5ECF6\", \"showlakes\": true, \"showland\": true, \"subunitcolor\": \"white\"}, \"hoverlabel\": {\"align\": \"left\"}, \"hovermode\": \"closest\", \"mapbox\": {\"style\": \"light\"}, \"paper_bgcolor\": \"white\", \"plot_bgcolor\": \"#E5ECF6\", \"polar\": {\"angularaxis\": {\"gridcolor\": \"white\", \"linecolor\": \"white\", \"ticks\": \"\"}, \"bgcolor\": \"#E5ECF6\", \"radialaxis\": {\"gridcolor\": \"white\", \"linecolor\": \"white\", \"ticks\": \"\"}}, \"scene\": {\"xaxis\": {\"backgroundcolor\": \"#E5ECF6\", \"gridcolor\": \"white\", \"gridwidth\": 2, \"linecolor\": \"white\", \"showbackground\": true, \"ticks\": \"\", \"zerolinecolor\": \"white\"}, \"yaxis\": {\"backgroundcolor\": \"#E5ECF6\", \"gridcolor\": \"white\", \"gridwidth\": 2, \"linecolor\": \"white\", \"showbackground\": true, \"ticks\": \"\", \"zerolinecolor\": \"white\"}, \"zaxis\": {\"backgroundcolor\": \"#E5ECF6\", \"gridcolor\": \"white\", \"gridwidth\": 2, \"linecolor\": \"white\", \"showbackground\": true, \"ticks\": \"\", \"zerolinecolor\": \"white\"}}, \"shapedefaults\": {\"line\": {\"color\": \"#2a3f5f\"}}, \"ternary\": {\"aaxis\": {\"gridcolor\": \"white\", \"linecolor\": \"white\", \"ticks\": \"\"}, \"baxis\": {\"gridcolor\": \"white\", \"linecolor\": \"white\", \"ticks\": \"\"}, \"bgcolor\": \"#E5ECF6\", \"caxis\": {\"gridcolor\": \"white\", \"linecolor\": \"white\", \"ticks\": \"\"}}, \"title\": {\"x\": 0.05}, \"xaxis\": {\"automargin\": true, \"gridcolor\": \"white\", \"linecolor\": \"white\", \"ticks\": \"\", \"title\": {\"standoff\": 15}, \"zerolinecolor\": \"white\", \"zerolinewidth\": 2}, \"yaxis\": {\"automargin\": true, \"gridcolor\": \"white\", \"linecolor\": \"white\", \"ticks\": \"\", \"title\": {\"standoff\": 15}, \"zerolinecolor\": \"white\", \"zerolinewidth\": 2}}}, \"xaxis\": {\"anchor\": \"y\", \"domain\": [0.0, 1.0], \"title\": {\"text\": \"timestep\"}}, \"yaxis\": {\"anchor\": \"x\", \"domain\": [0.0, 1.0], \"title\": {\"text\": \"cumulative_profit\"}}},                        {\"responsive\": true}                    ).then(function(){\n",
       "                            \n",
       "var gd = document.getElementById('b72d5c52-e725-43c2-ad23-5c410d486c09');\n",
       "var x = new MutationObserver(function (mutations, observer) {{\n",
       "        var display = window.getComputedStyle(gd).display;\n",
       "        if (!display || display === 'none') {{\n",
       "            console.log([gd, 'removed!']);\n",
       "            Plotly.purge(gd);\n",
       "            observer.disconnect();\n",
       "        }}\n",
       "}});\n",
       "\n",
       "// Listen for the removal of the full notebook cells\n",
       "var notebookContainer = gd.closest('#notebook-container');\n",
       "if (notebookContainer) {{\n",
       "    x.observe(notebookContainer, {childList: true});\n",
       "}}\n",
       "\n",
       "// Listen for the clearing of the current output cell\n",
       "var outputEl = gd.closest('.output');\n",
       "if (outputEl) {{\n",
       "    x.observe(outputEl, {childList: true});\n",
       "}}\n",
       "\n",
       "                        })                };                });            </script>        </div>"
      ]
     },
     "metadata": {},
     "output_type": "display_data"
    }
   ],
   "source": [
    "fig = px.line(\n",
    "    fig_df,\n",
    "    x='timestep',\n",
    "    y='cumulative_profit',\n",
    "    height=500,\n",
    "    animation_frame='run'\n",
    ")\n",
    "\n",
    "fig.show()"
   ]
  },
  {
   "cell_type": "markdown",
   "id": "94ddeaa4",
   "metadata": {},
   "source": [
    "## Get insights directly from System Events"
   ]
  },
  {
   "cell_type": "markdown",
   "id": "5ac6b3a0",
   "metadata": {},
   "source": [
    "#### Given the parameters, when does the host become profitable?"
   ]
  },
  {
   "cell_type": "code",
   "execution_count": 185,
   "id": "3fb918d1",
   "metadata": {},
   "outputs": [
    {
     "name": "stdout",
     "output_type": "stream",
     "text": [
      "The host becomes profitable after:\n",
      " 161 days.\n"
     ]
    }
   ],
   "source": [
    "for timestep in system_events:\n",
    "    if(timestep['cumulative_profit'] > 0):\n",
    "        print('The host becomes profitable after:\\n', timestep['timestep'], 'days.')\n",
    "        break\n"
   ]
  },
  {
   "cell_type": "code",
   "execution_count": null,
   "id": "6ec21483",
   "metadata": {},
   "outputs": [],
   "source": []
  }
 ],
 "metadata": {
  "kernelspec": {
   "display_name": "Python (CADLabs Ethereum Economic Model)",
   "language": "python",
   "name": "python-cadlabs-eth-model"
  },
  "language_info": {
   "codemirror_mode": {
    "name": "ipython",
    "version": 3
   },
   "file_extension": ".py",
   "mimetype": "text/x-python",
   "name": "python",
   "nbconvert_exporter": "python",
   "pygments_lexer": "ipython3",
   "version": "3.8.2"
  }
 },
 "nbformat": 4,
 "nbformat_minor": 5
}
